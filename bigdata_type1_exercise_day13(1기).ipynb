{
 "cells": [
  {
   "cell_type": "code",
   "execution_count": 87,
   "id": "8bdc57b9",
   "metadata": {},
   "outputs": [],
   "source": [
    "import pandas as pd\n",
    "path1 = \"https://raw.githubusercontent.com/Soyoung-Yoon/bigdata/main/\"\n",
    "path2 = \"https://raw.githubusercontent.com/Soyoung-Yoon/data_01/main/\"\n",
    "pd.set_option(\"display.width\", 120)\n",
    "import warnings\n",
    "warnings.filterwarnings('ignore')"
   ]
  },
  {
   "cell_type": "markdown",
   "id": "40d2f70c",
   "metadata": {},
   "source": [
    "#### 5회-1번) 종량제 봉투 가격\n",
    "\n",
    "다음은 전국 시도별 종량제 봉투 가격에 대한 데이터를 사용하여 지역별 봉투 가격 차이를 분석하여 가격 정책의 차이를 파악하고자 한다.\n",
    "\n",
    "다음 절차에 따라 문제를 해결하시오.\n",
    "\n",
    "* 가) 20L가격과 5L가격이 모두 0원이 아닌 데이터만 필터링하시오.\n",
    "* 나) 그 후, 각 행별로 '20L가격' - '5L가격'을 계산하여 '가격차이'를 구하시오.\n",
    "* 다) '시도명'별 '가격차이'의 평균가격을 구한 뒤, 그 중 값이 가장 큰 평균가격을 반올림하여 정수로 출력한다."
   ]
  },
  {
   "cell_type": "code",
   "execution_count": null,
   "id": "2ce9bab3",
   "metadata": {},
   "outputs": [
    {
     "name": "stdout",
     "output_type": "stream",
     "text": [
      "626\n"
     ]
    }
   ],
   "source": [
    "df = pd.read_csv(path1 + \"waste_bags.csv\")\n",
    "\n",
    "# 가) 20L가격과 5L가격이 모두 0원이 아닌 데이터만 필터링하시오.\n",
    "# print(df.shape) # (571, 10)\n",
    "df = df[(df['20L가격'] > 0) & (df['5L가격'] > 0)].copy()\n",
    "# print(df.shape) # (296, 10)\n",
    "\n",
    "# 나) 그 후, 각 행별로 '20L가격' - '5L가격'을 계산하여 '가격차이'를 구하시오.\n",
    "df['가격차이'] = df['20L가격'] - df['5L가격']\n",
    "# print(df['가격차이'])\n",
    "\n",
    "# 다) '시도명'별 '가격차이'의 평균가격을 구한 뒤, 그 중 값이 가장 큰 평균가격을 반올림하여 정수로 출력한다.\n",
    "result = round(df.groupby('시도명')['가격차이'].mean().max())\n",
    "# print(result) # 626\n"
   ]
  },
  {
   "cell_type": "markdown",
   "id": "7904965a",
   "metadata": {},
   "source": [
    "#### 5회-2번) 건강 관리 지표\n",
    "\n",
    "성인 체형 분포를 파악하여 건강 관리 지표를 설정하고자 한다.\n",
    "\n",
    "다음 절차에 따라 문제를 해결하시오.\n",
    "\n",
    "* 가) BMI를 계산하시오. (BMI = 몸무게(kg) / (키(m) × 키(m)))\n",
    "* 나) 초고도 비만 인원과 저체중 인원의 합계를 구하여 정수로 출력한다.\n",
    "- - BMI에 따라 초고도 비만(25 이상), 고도 비만(23 이상 25 미만), \n",
    "- - 정상(18.5 이상 23 미만), 저체중(18.5 미만)으로 분류된다."
   ]
  },
  {
   "cell_type": "code",
   "execution_count": null,
   "id": "33528a14",
   "metadata": {},
   "outputs": [
    {
     "name": "stdout",
     "output_type": "stream",
     "text": [
      "(20200, 3)\n",
      "9010\n"
     ]
    }
   ],
   "source": [
    "df = pd.read_csv(path1 + 'height_weight.csv')\n",
    "# 가) BMI를 계산하시오. (BMI = 몸무게(kg) / (키(m) × 키(m)))\n",
    "# print(df.head())\n",
    "# print(df.shape) # (20200, 3)\n",
    "df['height(m)'] = df['height(cm)'] / 100\n",
    "df['BMI'] = df['weight(kg)'] / (df['height(m)'] * df['height(m)'])\n",
    "# print(bmi)\n",
    "\n",
    "# 나) 초고도 비만 인원과 저체중 인원의 합계를 구하여 정수로 출력한다.\n",
    "# BMI에 따라 초고도 비만(25 이상), 고도 비만(23 이상 25 미만), 정상(18.5 이상 23 미만), 저체중(18.5 미만)\n",
    "over = len(df[df['BMI'] >= 25])\n",
    "less = len(df[df['BMI'] < 18.5])\n",
    "result = int(over + less)\n",
    "# print(result) # 9010"
   ]
  },
  {
   "cell_type": "markdown",
   "id": "58342481",
   "metadata": {},
   "source": [
    "#### 5회-3번. 년도별 서울 각 구의 초,중,고 전출 전입 인원\n",
    "\n",
    "서울시 각 구별 초·중·고 전출입 인원 데이터입니다. 지역구별 순유입인원 변화를 분석하여, 인구 이동이 가장 활발한 지역을 분석한다.\n",
    "\n",
    "다음 절차에 따라 문제를 해결하시오.\n",
    "\n",
    "* 가) 순유입인원은 (초중고 도내·도외 전입인원의 합) - (초중고 도내·도외 전출인원의 합)으로 계산한다.\n",
    "\n",
    "* 나) 각년도별로 가장 큰 순유입인원을 가진 지역구의 순유입인원을 구하고 전체 기간의 해당 순유입인원들의 합을 구하여, 정수형으로 출력한다.\n",
    "\n",
    "* 나)에 대한 설명) # 문제 이해가 어렵다고 하셔서 설명을 추가해 보았습니다.\n",
    "\n",
    "- - 각년도별로 순유입인원의 최댓값을 뽑은 뒤, 전체 기간에 대해 순유입인원 최댓값의 합을 구하여, 정수형으로 출력한다."
   ]
  },
  {
   "cell_type": "code",
   "execution_count": null,
   "id": "8578286a",
   "metadata": {},
   "outputs": [
    {
     "name": "stdout",
     "output_type": "stream",
     "text": [
      "13853\n"
     ]
    }
   ],
   "source": [
    "df = pd.read_csv(path2 + \"school.csv\")\n",
    "\n",
    "# 가) 순유입인원은 (초중고 도내·도외 전입인원의 합) - (초중고 도내·도외 전출인원의 합)으로 계산한다.\n",
    "# print(df.head(), df.shape, sep=\"\\n\") # (250, 14)\n",
    "# print(df.info())\n",
    "df['순유입인원'] = df.iloc[:, [3,4,7,8,11,12]].sum(axis=1) - df.iloc[:, [1,2,5,6,9,10]].sum(axis=1)\n",
    "# print(df.head())\n",
    "\n",
    "# 나) 각년도별로 가장 큰 순유입인원을 가진 지역구의 순유입인원을 구하고 전체 기간의 해당 순유입인원들의 합을 구하여, 정수형으로 출력한다.\n",
    "result = df.loc[df.groupby('년도')['순유입인원'].idxmax()]['순유입인원'].sum()\n",
    "# print(result) # 13853"
   ]
  },
  {
   "cell_type": "markdown",
   "id": "425986a2",
   "metadata": {},
   "source": [
    "#### 13-4) 봉투종류별 20L 봉투 할인율 분석\n",
    "\n",
    "'종량제봉투종류'별로 대용량 봉투(20L) 사용 시 할인 효과를 분석한다.\n",
    "\n",
    "다음 절차에 따라 문제를 해결하시오.\n",
    "\n",
    "* 가) 5L가격 또는 20L가격이 0인 경우는 제외하고 계산한다.\n",
    "* 나) '5L가격'과 '20L가격'을 사용하여, 각 행별로 할인율을 계산하시오.\n",
    "- - 할인율 = (5L가격*4 - 20L가격) / (5L가격 * 4)\n",
    "\n",
    "* 다) ('시도명', '종량제봉투종류')별로 평균 할인율을 구하시오.\n",
    "* 라) 평균 할인율이 가장 높은 '시도명'과 '종량제봉투종류'를 찾으시오.\n",
    "* 마) 라)에서 찾은 것에 대한 '20L가격'을 A, '5L가격'을 B라고 할 때 A+B의 값을 구해 정수로 출력한다."
   ]
  },
  {
   "cell_type": "code",
   "execution_count": null,
   "id": "040fd2e0",
   "metadata": {},
   "outputs": [
    {
     "name": "stdout",
     "output_type": "stream",
     "text": [
      "900\n"
     ]
    }
   ],
   "source": [
    "df = pd.read_csv(path1 + 'waste_bags.csv')\n",
    "# print(df.head(), df.shape, sep=\"\\n\") # (571, 10)\n",
    "\n",
    "# 가) 5L가격 또는 20L가격이 0인 경우는 제외\n",
    "df2 = df[(df['5L가격'] > 0) & (df['20L가격'] > 0)].copy()\n",
    "\n",
    "# 나) '5L가격'과 '20L가격'을 사용하여, 각 행별로 할인율을 계산\n",
    "# 할인율 = (5L가격*4 - 20L가격) / (5L가격 * 4)\n",
    "df2['할인율'] = ((df2['5L가격'] * 4) - df2['20L가격']) / (df2['5L가격'] * 4)\n",
    "# print(df.head(3))\n",
    "\n",
    "# 다) ('시도명', '종량제봉투종류')별로 평균 할인율\n",
    "mean_ratio = df2.groupby(['시도명','종량제봉투종류'])['할인율'].transform('mean')\n",
    "# print(mean_ratio)\n",
    "\n",
    "# 라) 평균 할인율이 가장 높은 '시도명'과 '종량제봉투종류'\n",
    "max_ratio = mean_ratio.max()\n",
    "max_city = str(df2.loc[df2['할인율'] == max_ratio, '시도명'].values[0])\n",
    "max_bongtwo = str(df2.loc[df2['할인율'] == max_ratio, '종량제봉투종류'].values[0])\n",
    "# print(max_city, max_bongtwo) # 경상남도 재사용규격봉투\n",
    "\n",
    "# 마) 라)에서 찾은 것에 대한 '20L가격'을 A, '5L가격'을 B라고 할 때 A+B의 값을 구해 정수로 출력\n",
    "cond = (df2['시도명'] == max_city) & (df2['종량제봉투종류'] == max_bongtwo)\n",
    "A = df2.loc[cond, '20L가격'].values[0]\n",
    "B = df2.loc[cond, '5L가격'].values[0]\n",
    "# print(A, B)\n",
    "result = int(A + B)\n",
    "# print(result) # 900"
   ]
  },
  {
   "cell_type": "markdown",
   "id": "1374adb6",
   "metadata": {},
   "source": [
    "#### 13-5) 지역별 도외 전출비율 분석\n",
    "\n",
    "서울시 각 구별 초·중·고 전출입 인원 데이터를 사용해 지역구별 순유입인원 변화를 분석하여, 인구 이동이 가장 활발한 지역을 파악하고자 한다.\n",
    "\n",
    "다음 절차에 따라 문제를 해결하시오.\n",
    "\n",
    "* 가) 주어진 데이터에서 가장 최근년도 데이터만 필터링하시오.\n",
    "* 나) 지역별로 초등학교, 중학교, 고등학교 각각에대해 '도외 전출 비율'을 계산하시오.\n",
    "- - 도외 전출 비율 = (전출_도외) / (전출_도내 + 전출_도외)\n",
    "\n",
    "* 다) 나)에서 구한 지역별 초등학교, 중학교, 고등학교에 대한 '도외 전출 비율'의 지역별 합을 구하시오.\n",
    "* 라) 다)의 결과를 사용하여 가장 높은 '도외 전출 비율의 지역별 합'을 찾아 반올림하여 소수점 아래 3자리까지 출력하시오."
   ]
  },
  {
   "cell_type": "code",
   "execution_count": null,
   "id": "393d20d5",
   "metadata": {},
   "outputs": [
    {
     "name": "stdout",
     "output_type": "stream",
     "text": [
      "3.77\n"
     ]
    }
   ],
   "source": [
    "df = pd.read_csv(path2 + \"school.csv\")\n",
    "# print(df.head(), df.shape, sep=\"\\n\") # (250, 14)\n",
    "# print(df.info())\n",
    "\n",
    "# 가) 주어진 데이터에서 가장 최근년도 데이터만 필터링하시오.\n",
    "# print(df['년도'].unique()) # 2020, 2021 -> 최근년도라는 기준이 불명확함\n",
    "df2 = df[df['년도'] >= 2020]\n",
    "\n",
    "# 나) 지역별로 초등학교, 중학교, 고등학교 각각에대해 '도외 전출 비율'을 계산하시오.\n",
    "# 도외 전출 비율 = (전출_도외) / (전출_도내 + 전출_도외)\n",
    "df2['초등학교_도외_전출_비율'] = df2.iloc[:, 2] / (df2.iloc[:, [1, 2]].sum(axis=1))\n",
    "df2['중학교_도외_전출_비율'] = df2.iloc[:, 6] / (df2.iloc[:, [5, 6]].sum(axis=1))\n",
    "df2['고등학교_도외_전출_비율'] = df2.iloc[:, 10] / (df2.iloc[:, [9,10]].sum(axis=1))\n",
    "\n",
    "# 다) 나)에서 구한 지역별 초등학교, 중학교, 고등학교에 대한 '도외 전출 비율'의 지역별 합을 구하시오.\n",
    "df3 = df2.groupby(['지역'])[['초등학교_도외_전출_비율','중학교_도외_전출_비율','고등학교_도외_전출_비율']].sum().reset_index()\n",
    "# print(df3.head(3))\n",
    "\n",
    "# 라) 다)의 결과를 사용하여 가장 높은 '도외 전출 비율의 지역별 합'을 찾아 반올림하여 소수점 아래 3자리까지 출력하시오.\n",
    "A = df3['초등학교_도외_전출_비율'].max()\n",
    "B = df3['중학교_도외_전출_비율'].max()\n",
    "C = df3['고등학교_도외_전출_비율'].max()\n",
    "result = round(A + B + C, 3)\n",
    "# print(result) # 3.770"
   ]
  },
  {
   "cell_type": "code",
   "execution_count": null,
   "id": "c445175b",
   "metadata": {},
   "outputs": [],
   "source": []
  }
 ],
 "metadata": {
  "kernelspec": {
   "display_name": "study",
   "language": "python",
   "name": "python3"
  },
  "language_info": {
   "codemirror_mode": {
    "name": "ipython",
    "version": 3
   },
   "file_extension": ".py",
   "mimetype": "text/x-python",
   "name": "python",
   "nbconvert_exporter": "python",
   "pygments_lexer": "ipython3",
   "version": "3.10.16"
  }
 },
 "nbformat": 4,
 "nbformat_minor": 5
}
