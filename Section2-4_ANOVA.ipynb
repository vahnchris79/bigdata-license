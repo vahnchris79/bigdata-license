{
 "cells": [
  {
   "cell_type": "markdown",
   "id": "e5abe0ff",
   "metadata": {},
   "source": [
    "#### 4-10. 분산의 중요성\n",
    "* 평균값은 동일하지만 분산값이 다름으로 인해 전체적인 데이터의 모습이 완전히 달라 보임\n",
    "* 분산이 클수록 집단의 평균값의 차이가 무의미해진다.\n",
    "* **집단간 평균값의 분산이 클수록, 집단 내 분산이 작아질 수록 평균의 차이가 분명해진다.**"
   ]
  },
  {
   "cell_type": "markdown",
   "id": "e5441855",
   "metadata": {},
   "source": [
    "#### 4-02. 일원분산분석(One-way ANOVA)\n",
    "* 독립변수: 범주형 1개, 종속변수: 연속형\n",
    "* 독립변수의 변화가 종속변수에 미치는 영향을 보기 위해 사용\n",
    "* 가정: 독립성, 정규성, 등분산성\n",
    "* scipy.stats나 statsmodels 라이브러리 사용\n",
    "\n",
    "* **iris 데이터에서, 품종(species)별 sepal_length의 평균에 차이가 있을까?**\n",
    "* 독립변수: species\n",
    "* 종속변수: sepal_length, sepal_width, petal_length, petal_width 중 1개\n",
    "* One-way ANOVA를 통해 평균 차이에 대한 통계적 유의성을 알아 볼 수 있다.\n",
    "* **귀무가설: 세 품종의 sepal_width 평균은 동일하다.**\n",
    "* **대립가설: 적어도 한 품종의 sepal_width 평균이 다르다.**"
   ]
  },
  {
   "cell_type": "code",
   "execution_count": 4,
   "id": "c6bef72a",
   "metadata": {},
   "outputs": [
    {
     "name": "stdout",
     "output_type": "stream",
     "text": [
      "   sepal_length  sepal_width  petal_length  petal_width species\n",
      "0           5.1          3.5           1.4          0.2  setosa\n",
      "1           4.9          3.0           1.4          0.2  setosa\n",
      "2           4.7          3.2           1.3          0.2  setosa\n"
     ]
    }
   ],
   "source": [
    "# [1] 데이터 가져오기\n",
    "import pandas as pd\n",
    "import seaborn as sns\n",
    "\n",
    "iris = sns.load_dataset('iris')\n",
    "print(iris.head(3))"
   ]
  },
  {
   "cell_type": "code",
   "execution_count": 8,
   "id": "1b495f94",
   "metadata": {},
   "outputs": [
    {
     "name": "stdout",
     "output_type": "stream",
     "text": [
      "[3.5 3.  3.2 3.1 3.6 3.9 3.4 3.4 2.9 3.1 3.7 3.4 3.  3.  4.  4.4 3.9 3.5\n",
      " 3.8 3.8 3.4 3.7 3.6 3.3 3.4 3.  3.4 3.5 3.4 3.2 3.1 3.4 4.1 4.2 3.1 3.2\n",
      " 3.5 3.6 3.  3.4 3.5 2.3 3.2 3.5 3.8 3.  3.8 3.2 3.7 3.3]\n",
      "[3.2 3.2 3.1 2.3 2.8 2.8 3.3 2.4 2.9 2.7 2.  3.  2.2 2.9 2.9 3.1 3.  2.7\n",
      " 2.2 2.5 3.2 2.8 2.5 2.8 2.9 3.  2.8 3.  2.9 2.6 2.4 2.4 2.7 2.7 3.  3.4\n",
      " 3.1 2.3 3.  2.5 2.6 3.  2.6 2.3 2.7 3.  2.9 2.9 2.5 2.8]\n",
      "[3.3 2.7 3.  2.9 3.  3.  2.5 2.9 2.5 3.6 3.2 2.7 3.  2.5 2.8 3.2 3.  3.8\n",
      " 2.6 2.2 3.2 2.8 2.8 2.7 3.3 3.2 2.8 3.  2.8 3.  2.8 3.8 2.8 2.8 2.6 3.\n",
      " 3.4 3.1 3.  3.1 3.1 3.1 2.7 3.2 3.3 3.  2.5 3.  3.4 3. ]\n"
     ]
    }
   ],
   "source": [
    "# [2] 그룹나누기\n",
    "target = 'sepal_width'\n",
    "# print(iris['species'].unique())\n",
    "gA, gB, gC = [s.to_numpy() for _, s in iris.groupby('species')[target]]\n",
    "print(gA, gB, gC, sep=\"\\n\")"
   ]
  },
  {
   "cell_type": "code",
   "execution_count": 9,
   "id": "0f1abd40",
   "metadata": {},
   "outputs": [
    {
     "name": "stdout",
     "output_type": "stream",
     "text": [
      "3.428 2.77 2.974\n"
     ]
    }
   ],
   "source": [
    "# [3] 품종별 각 변수의 평균 확인\n",
    "print(gA.mean(), round(gB.mean(), 3), gC.mean())"
   ]
  },
  {
   "cell_type": "code",
   "execution_count": 10,
   "id": "a9ce7174",
   "metadata": {},
   "outputs": [
    {
     "name": "stdout",
     "output_type": "stream",
     "text": [
      "               df     sum_sq   mean_sq         F        PR(>F)\n",
      "C(species)    2.0  11.344933  5.672467  49.16004  4.492017e-17\n",
      "Residual    147.0  16.962000  0.115388       NaN           NaN\n"
     ]
    }
   ],
   "source": [
    "# [4] 일원분산분석\n",
    "# 1) model = OLS.from_formula()\n",
    "# 2) anova_lm(model)\n",
    "from statsmodels.api import OLS\n",
    "from statsmodels.stats.anova import anova_lm\n",
    "\n",
    "formula = 'sepal_width ~ C(species)'\n",
    "model = OLS.from_formula(formula, data=iris).fit()\n",
    "result = anova_lm(model)\n",
    "print(result)"
   ]
  },
  {
   "cell_type": "code",
   "execution_count": 19,
   "id": "86de2edd",
   "metadata": {},
   "outputs": [
    {
     "name": "stdout",
     "output_type": "stream",
     "text": [
      "               df     sum_sq   mean_sq         F  PR(>F)\n",
      "C(species)    2.0  11.344933  5.672467  49.16004     0.0\n",
      "Residual    147.0  16.962000  0.115388       NaN     NaN\n",
      "11.344933\n",
      "0.401\n",
      "0.115388\n",
      "5.672467\n",
      "49.16004\n",
      "0.0\n"
     ]
    }
   ],
   "source": [
    "# [5] 오차제곱합, SSE(Sum of Squares Error)\n",
    "SSE = result.loc['Residual', 'sum_sq']\n",
    "print(round(result, 6))\n",
    "\n",
    "# [6] 회귀제곱합, SSR(Sum of Squares of Regression)\n",
    "SSR = result.loc['C(species)', 'sum_sq']\n",
    "print(round(SSR, 6))\n",
    "\n",
    "# [7] 결정계수\n",
    "R2 = SSR / (SSR + SSE)\n",
    "# R2 = SSR / result['sum_sq'].mean()\n",
    "print(round(R2, 3))\n",
    "\n",
    "# [8] 평균제곱오차(MSE, Mean Squared Error)\n",
    "MSE = result.loc['Residual', 'mean_sq']\n",
    "print(round(MSE, 6))\n",
    "\n",
    "# [9] 평균제곱회귀(MSR, Mena Squared Regression)\n",
    "MSR = result.loc['C(species)', 'mean_sq']\n",
    "print(round(MSR, 6))\n",
    "\n",
    "# [10] F-통계량\n",
    "F = result.loc['C(species)', 'F']\n",
    "print(round(F, 6))\n",
    "\n",
    "# [11] F-통계량 - pvalue\n",
    "pvalue = result.loc['C(species)', 'PR(>F)']\n",
    "print(round(pvalue, 6))"
   ]
  },
  {
   "cell_type": "code",
   "execution_count": 20,
   "id": "92c81b68",
   "metadata": {},
   "outputs": [
    {
     "name": "stdout",
     "output_type": "stream",
     "text": [
      "    Multiple Comparison of Means - Tukey HSD, FWER=0.50     \n",
      "============================================================\n",
      "  group1     group2   meandiff p-adj   lower   upper  reject\n",
      "------------------------------------------------------------\n",
      "    setosa versicolor   -0.658    0.0 -0.7345 -0.5815   True\n",
      "    setosa  virginica   -0.454    0.0 -0.5305 -0.3775   True\n",
      "versicolor  virginica    0.204 0.0088  0.1275  0.2805   True\n",
      "------------------------------------------------------------\n"
     ]
    }
   ],
   "source": [
    "# [5] 사후검정\n",
    "from statsmodels.stats.multicomp import pairwise_tukeyhsd\n",
    "result = pairwise_tukeyhsd(iris['sepal_width'], iris['species'], alpha=0.5)\n",
    "print(result)"
   ]
  },
  {
   "cell_type": "markdown",
   "id": "b919c599",
   "metadata": {},
   "source": [
    "#### 4-30. 이원분산분석(Two-way ANOVA)\n",
    "* **독립변인(범주형)의 수가 2개일 때** 집단 간 종속변수(연속형)의 평균차이가 유의한지를 검증하는데 사용\n",
    "* 두 독립변수간 상호작용효과가 있는지 확인할 수 있음\n",
    "* 즉, 한 독립변수의 변화가 결과에 미치는 영향이 다른 독립변수의 수준에 따라 달라지는지를 확인할 수 있음.\n",
    "* statsmodels 라이브러리 이용\n",
    "\n",
    "**성별과 요일에 따른 팁 평균 차이가 있을까?**\n",
    "* 독립변수: 성별, 요일\n",
    "* 종속변수: tip\n",
    "* Two-one ANOVA를 통해 통계적 유의성을 알아 볼 수 있다.\n",
    "* 귀무가설: 성별(1)이나 요일(2)에 따른 팁의 평균차이가 없다.\n",
    "* 대립가설: 성별(1)이나 요일(2)에 따른 팁의 평균창이가 있다.\n",
    "* 귀무가설3: 성별과 요일 간의 상호작용 효과가 없다.\n",
    "* 대립가설3: 성별과 요일 간의 상호작용 효과가 있다."
   ]
  },
  {
   "cell_type": "code",
   "execution_count": 21,
   "id": "62770a4d",
   "metadata": {},
   "outputs": [
    {
     "name": "stdout",
     "output_type": "stream",
     "text": [
      "     total_bill   tip     sex smoker   day    time  size\n",
      "239       29.03  5.92    Male     No   Sat  Dinner     3\n",
      "240       27.18  2.00  Female    Yes   Sat  Dinner     2\n",
      "241       22.67  2.00    Male    Yes   Sat  Dinner     2\n",
      "242       17.82  1.75    Male     No   Sat  Dinner     2\n",
      "243       18.78  3.00  Female     No  Thur  Dinner     2\n"
     ]
    }
   ],
   "source": [
    "# [1] 데이터 가져오기\n",
    "import pandas as pd\n",
    "url = \"https://raw.githubusercontent.com/Soyoung-Yoon/bigdata/main/tips.csv\"\n",
    "tips = pd.read_csv(url)\n",
    "print(tips.tail(5))"
   ]
  },
  {
   "cell_type": "code",
   "execution_count": 22,
   "id": "0791beb1",
   "metadata": {},
   "outputs": [
    {
     "name": "stdout",
     "output_type": "stream",
     "text": [
      "sex\n",
      "Female    2.833448\n",
      "Male      3.089618\n",
      "Name: tip, dtype: float64\n",
      "day\n",
      "Fri     2.734737\n",
      "Sat     2.993103\n",
      "Sun     3.255132\n",
      "Thur    2.771452\n",
      "Name: tip, dtype: float64\n"
     ]
    }
   ],
   "source": [
    "# [2] 성별별 팁의 평균, 요일별 팁의 평균\n",
    "print(tips.groupby(['sex'])['tip'].mean())\n",
    "print(tips.groupby(['day'])['tip'].mean())"
   ]
  },
  {
   "cell_type": "code",
   "execution_count": 26,
   "id": "254728f3",
   "metadata": {},
   "outputs": [
    {
     "name": "stdout",
     "output_type": "stream",
     "text": [
      "                  df      sum_sq   mean_sq         F    PR(>F)\n",
      "C(sex)           1.0    3.673534  3.673534  1.920989  0.167056\n",
      "C(day)           3.0    7.446900  2.482300  1.298061  0.275785\n",
      "C(sex):C(day)    3.0    2.785891  0.928630  0.485606  0.692600\n",
      "Residual       236.0  451.306151  1.912314       NaN       NaN\n"
     ]
    }
   ],
   "source": [
    "# [3] 이원분산분석\n",
    "from statsmodels.api import OLS\n",
    "from statsmodels.stats.anova import anova_lm\n",
    "\n",
    "# 교호작용 불포함\n",
    "formula = \"tip ~ C(sex) + C(day)\"\n",
    "model = OLS.from_formula(formula, data=tips).fit()\n",
    "result = anova_lm(model)\n",
    "# print(result) # sex, day에 따른 tip의 평균차이가 없다.\n",
    "\n",
    "# 교호작용 포함(독립변수끼리 서로 영향을 미치는지, 상호작용)\n",
    "# formula2 = \"tip ~ C(sex) + C(day) + C(sex):C(day)\"\n",
    "formula2 = \"tip ~ C(sex) * C(day)\"\n",
    "model2 = OLS.from_formula(formula2, data=tips).fit()\n",
    "result2 = anova_lm(model2)\n",
    "print(result2)"
   ]
  },
  {
   "cell_type": "markdown",
   "id": "bb88f48e",
   "metadata": {},
   "source": [
    "**펭귄 데이터 셋**\n",
    "* 펭귄의 몸무게(body_mass_g)에 성별(sex)과 종(species)에 따른 평균의 차이가 있는지 검정\n",
    "* 성별과 종 간의 교호작용(상호작용)효과를 갖고 몸무게에 영향을 미치는지 확인"
   ]
  },
  {
   "cell_type": "code",
   "execution_count": 28,
   "id": "67b101ee",
   "metadata": {},
   "outputs": [
    {
     "name": "stdout",
     "output_type": "stream",
     "text": [
      "sex\n",
      "Female    3862.272727\n",
      "Male      4545.684524\n",
      "Name: body_mass_g, dtype: float64\n",
      "species\n",
      "Adelie       3706.164384\n",
      "Chinstrap    3733.088235\n",
      "Gentoo       5092.436975\n",
      "Name: body_mass_g, dtype: float64\n"
     ]
    }
   ],
   "source": [
    "import pandas as pd\n",
    "from statsmodels.api import OLS\n",
    "from statsmodels.stats.anova import anova_lm\n",
    "\n",
    "url = \"https://raw.githubusercontent.com/Soyoung-Yoon/bigdata/main/penguins.csv\"\n",
    "df = pd.read_csv(url)\n",
    "# print(df.head(3))\n",
    "\n",
    "# 성별, 종별 몸무게의 평균 확인\n",
    "print(df.groupby('sex')['body_mass_g'].mean())\n",
    "print(df.groupby('species')['body_mass_g'].mean())"
   ]
  },
  {
   "cell_type": "code",
   "execution_count": 31,
   "id": "704441f5",
   "metadata": {},
   "outputs": [
    {
     "name": "stdout",
     "output_type": "stream",
     "text": [
      "               df        sum_sq       mean_sq           F         PR(>F)\n",
      "C(sex)        1.0  3.887890e+07  3.887890e+07  387.855463   1.366199e-57\n",
      "C(species)    2.0  1.434016e+08  7.170079e+07  715.286340  1.618971e-120\n",
      "Residual    329.0  3.297919e+07  1.002407e+05         NaN            NaN\n"
     ]
    }
   ],
   "source": [
    "# 교호작용 불포함\n",
    "formula = 'body_mass_g ~ C(sex) + C(species)'\n",
    "model = OLS.from_formula(formula, data=df).fit()\n",
    "result = anova_lm(model)\n",
    "print(result)\n",
    "\n",
    "# 교호작용 포함(독립변수끼리 서로 영향을 미치는지, 상호작용\n",
    "formula2 = 'body_mass_g ~ C(sex) * C(species)'\n",
    "model2 = OLS.from_formula(formula2, data=df).fit()\n",
    "result2 = anova_lm(model2)\n",
    "# print(result2)\n"
   ]
  },
  {
   "cell_type": "code",
   "execution_count": 33,
   "id": "9640d974",
   "metadata": {},
   "outputs": [
    {
     "name": "stdout",
     "output_type": "stream",
     "text": [
      "0.8468\n"
     ]
    }
   ],
   "source": [
    "# [2] 결정계수 구하기\n",
    "SST = result['sum_sq'].sum()\n",
    "SSE = result.loc['Residual', 'sum_sq']\n",
    "SSR = SST - SSE\n",
    "R2 = SSR / SST\n",
    "print(round(R2, 4))"
   ]
  },
  {
   "cell_type": "code",
   "execution_count": 34,
   "id": "fe4e278b",
   "metadata": {},
   "outputs": [
    {
     "name": "stdout",
     "output_type": "stream",
     "text": [
      "100240.684\n"
     ]
    }
   ],
   "source": [
    "# [3] mse 구하기\n",
    "mse = result.loc['Residual', 'mean_sq']\n",
    "print(round(mse, 4))"
   ]
  },
  {
   "cell_type": "code",
   "execution_count": null,
   "id": "bf43755a",
   "metadata": {},
   "outputs": [],
   "source": []
  }
 ],
 "metadata": {
  "kernelspec": {
   "display_name": "study",
   "language": "python",
   "name": "python3"
  },
  "language_info": {
   "codemirror_mode": {
    "name": "ipython",
    "version": 3
   },
   "file_extension": ".py",
   "mimetype": "text/x-python",
   "name": "python",
   "nbconvert_exporter": "python",
   "pygments_lexer": "ipython3",
   "version": "3.10.16"
  }
 },
 "nbformat": 4,
 "nbformat_minor": 5
}
