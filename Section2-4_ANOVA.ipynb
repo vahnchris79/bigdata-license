{
 "cells": [
  {
   "cell_type": "markdown",
   "id": "e5abe0ff",
   "metadata": {},
   "source": [
    "#### 4-10. 분산의 중요성\n",
    "* 평균값은 동일하지만 분산값이 다름으로 인해 전체적인 데이터의 모습이 완전히 달라 보임\n",
    "* 분산이 클수록 집단의 평균값의 차이가 무의미해진다.\n",
    "* **집단간 평균값의 분산이 클수록, 집단 내 분산이 작아질 수록 평균의 차이가 분명해진다.**"
   ]
  },
  {
   "cell_type": "markdown",
   "id": "e5441855",
   "metadata": {},
   "source": [
    "#### 4-02. 일원분산분석(One-way ANOVA)\n",
    "* 독립변수: 범주형 1개, 종속변수: 연속형\n",
    "* 독립변수의 변화가 종속변수에 미치는 영향을 보기 위해 사용\n",
    "* 가정: 독립성, 정규성, 등분산성\n",
    "* scipy.stats나 statsmodels 라이브러리 사용\n",
    "\n",
    "* **iris 데이터에서, 품종(species)별 sepal_length의 평균에 차이가 있을까?**\n",
    "* 독립변수: species\n",
    "* 종속변수: sepal_length, sepal_width, petal_length, petal_width 중 1개\n",
    "* One-way ANOVA를 통해 평균 차이에 대한 통계적 유의성을 알아 볼 수 있다.\n",
    "* **귀무가설: 세 품종의 sepal_width 평균은 동일하다.**\n",
    "* **대립가설: 적어도 한 품종의 sepal_width 평균이 다르다.**"
   ]
  },
  {
   "cell_type": "code",
   "execution_count": 4,
   "id": "c6bef72a",
   "metadata": {},
   "outputs": [
    {
     "name": "stdout",
     "output_type": "stream",
     "text": [
      "   sepal_length  sepal_width  petal_length  petal_width species\n",
      "0           5.1          3.5           1.4          0.2  setosa\n",
      "1           4.9          3.0           1.4          0.2  setosa\n",
      "2           4.7          3.2           1.3          0.2  setosa\n"
     ]
    }
   ],
   "source": [
    "# [1] 데이터 가져오기\n",
    "import pandas as pd\n",
    "import seaborn as sns\n",
    "\n",
    "iris = sns.load_dataset('iris')\n",
    "print(iris.head(3))"
   ]
  },
  {
   "cell_type": "code",
   "execution_count": 8,
   "id": "1b495f94",
   "metadata": {},
   "outputs": [
    {
     "name": "stdout",
     "output_type": "stream",
     "text": [
      "[3.5 3.  3.2 3.1 3.6 3.9 3.4 3.4 2.9 3.1 3.7 3.4 3.  3.  4.  4.4 3.9 3.5\n",
      " 3.8 3.8 3.4 3.7 3.6 3.3 3.4 3.  3.4 3.5 3.4 3.2 3.1 3.4 4.1 4.2 3.1 3.2\n",
      " 3.5 3.6 3.  3.4 3.5 2.3 3.2 3.5 3.8 3.  3.8 3.2 3.7 3.3]\n",
      "[3.2 3.2 3.1 2.3 2.8 2.8 3.3 2.4 2.9 2.7 2.  3.  2.2 2.9 2.9 3.1 3.  2.7\n",
      " 2.2 2.5 3.2 2.8 2.5 2.8 2.9 3.  2.8 3.  2.9 2.6 2.4 2.4 2.7 2.7 3.  3.4\n",
      " 3.1 2.3 3.  2.5 2.6 3.  2.6 2.3 2.7 3.  2.9 2.9 2.5 2.8]\n",
      "[3.3 2.7 3.  2.9 3.  3.  2.5 2.9 2.5 3.6 3.2 2.7 3.  2.5 2.8 3.2 3.  3.8\n",
      " 2.6 2.2 3.2 2.8 2.8 2.7 3.3 3.2 2.8 3.  2.8 3.  2.8 3.8 2.8 2.8 2.6 3.\n",
      " 3.4 3.1 3.  3.1 3.1 3.1 2.7 3.2 3.3 3.  2.5 3.  3.4 3. ]\n"
     ]
    }
   ],
   "source": [
    "# [2] 그룹나누기\n",
    "target = 'sepal_width'\n",
    "# print(iris['species'].unique())\n",
    "gA, gB, gC = [s.to_numpy() for _, s in iris.groupby('species')[target]]\n",
    "print(gA, gB, gC, sep=\"\\n\")"
   ]
  },
  {
   "cell_type": "code",
   "execution_count": 9,
   "id": "0f1abd40",
   "metadata": {},
   "outputs": [
    {
     "name": "stdout",
     "output_type": "stream",
     "text": [
      "3.428 2.77 2.974\n"
     ]
    }
   ],
   "source": [
    "# [3] 품종별 각 변수의 평균 확인\n",
    "print(gA.mean(), round(gB.mean(), 3), gC.mean())"
   ]
  },
  {
   "cell_type": "code",
   "execution_count": 10,
   "id": "a9ce7174",
   "metadata": {},
   "outputs": [
    {
     "name": "stdout",
     "output_type": "stream",
     "text": [
      "               df     sum_sq   mean_sq         F        PR(>F)\n",
      "C(species)    2.0  11.344933  5.672467  49.16004  4.492017e-17\n",
      "Residual    147.0  16.962000  0.115388       NaN           NaN\n"
     ]
    }
   ],
   "source": [
    "# [4] 일원분산분석\n",
    "# 1) model = OLS.from_formula()\n",
    "# 2) anova_lm(model)\n",
    "from statsmodels.api import OLS\n",
    "from statsmodels.stats.anova import anova_lm\n",
    "\n",
    "formula = 'sepal_width ~ C(species)'\n",
    "model = OLS.from_formula(formula, data=iris).fit()\n",
    "result = anova_lm(model)\n",
    "print(result)"
   ]
  },
  {
   "cell_type": "code",
   "execution_count": 19,
   "id": "86de2edd",
   "metadata": {},
   "outputs": [
    {
     "name": "stdout",
     "output_type": "stream",
     "text": [
      "               df     sum_sq   mean_sq         F  PR(>F)\n",
      "C(species)    2.0  11.344933  5.672467  49.16004     0.0\n",
      "Residual    147.0  16.962000  0.115388       NaN     NaN\n",
      "11.344933\n",
      "0.401\n",
      "0.115388\n",
      "5.672467\n",
      "49.16004\n",
      "0.0\n"
     ]
    }
   ],
   "source": [
    "# [5] 오차제곱합, SSE(Sum of Squares Error)\n",
    "SSE = result.loc['Residual', 'sum_sq']\n",
    "print(round(result, 6))\n",
    "\n",
    "# [6] 회귀제곱합, SSR(Sum of Squares of Regression)\n",
    "SSR = result.loc['C(species)', 'sum_sq']\n",
    "print(round(SSR, 6))\n",
    "\n",
    "# [7] 결정계수\n",
    "R2 = SSR / (SSR + SSE)\n",
    "# R2 = SSR / result['sum_sq'].mean()\n",
    "print(round(R2, 3))\n",
    "\n",
    "# [8] 평균제곱오차(MSE, Mean Squared Error)\n",
    "MSE = result.loc['Residual', 'mean_sq']\n",
    "print(round(MSE, 6))\n",
    "\n",
    "# [9] 평균제곱회귀(MSR, Mena Squared Regression)\n",
    "MSR = result.loc['C(species)', 'mean_sq']\n",
    "print(round(MSR, 6))\n",
    "\n",
    "# [10] F-통계량\n",
    "F = result.loc['C(species)', 'F']\n",
    "print(round(F, 6))\n",
    "\n",
    "# [11] F-통계량 - pvalue\n",
    "pvalue = result.loc['C(species)', 'PR(>F)']\n",
    "print(round(pvalue, 6))"
   ]
  },
  {
   "cell_type": "code",
   "execution_count": 20,
   "id": "92c81b68",
   "metadata": {},
   "outputs": [
    {
     "name": "stdout",
     "output_type": "stream",
     "text": [
      "    Multiple Comparison of Means - Tukey HSD, FWER=0.50     \n",
      "============================================================\n",
      "  group1     group2   meandiff p-adj   lower   upper  reject\n",
      "------------------------------------------------------------\n",
      "    setosa versicolor   -0.658    0.0 -0.7345 -0.5815   True\n",
      "    setosa  virginica   -0.454    0.0 -0.5305 -0.3775   True\n",
      "versicolor  virginica    0.204 0.0088  0.1275  0.2805   True\n",
      "------------------------------------------------------------\n"
     ]
    }
   ],
   "source": [
    "# [5] 사후검정\n",
    "from statsmodels.stats.multicomp import pairwise_tukeyhsd\n",
    "result = pairwise_tukeyhsd(iris['sepal_width'], iris['species'], alpha=0.5)\n",
    "print(result)"
   ]
  },
  {
   "cell_type": "code",
   "execution_count": null,
   "id": "b919c599",
   "metadata": {},
   "outputs": [],
   "source": []
  }
 ],
 "metadata": {
  "kernelspec": {
   "display_name": "study",
   "language": "python",
   "name": "python3"
  },
  "language_info": {
   "codemirror_mode": {
    "name": "ipython",
    "version": 3
   },
   "file_extension": ".py",
   "mimetype": "text/x-python",
   "name": "python",
   "nbconvert_exporter": "python",
   "pygments_lexer": "ipython3",
   "version": "3.10.16"
  }
 },
 "nbformat": 4,
 "nbformat_minor": 5
}
