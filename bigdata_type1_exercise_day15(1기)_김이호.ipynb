{
 "cells": [
  {
   "cell_type": "code",
   "execution_count": 3,
   "id": "41678211",
   "metadata": {},
   "outputs": [],
   "source": [
    "import pandas as pd\n",
    "pd.set_option(\"display.max_row\", 1000)\n",
    "pd.set_option(\"display.max_column\", 100)\n",
    "import warnings\n",
    "warnings.filterwarnings('ignore')\n",
    "\n",
    "path = \"https://raw.githubusercontent.com/Soyoung-Yoon/bigdata/main/\""
   ]
  },
  {
   "cell_type": "markdown",
   "id": "735764c5",
   "metadata": {},
   "source": [
    "**7회-1번) 결측치 처리 및 과목별 점수 표준화**\n",
    "\n",
    "학생들의 수업 과목별 점수 데이터를 변환하고자 한다.\n",
    "\n",
    "다음 절차에 따라 문제를 해결하시오.\n",
    "- 1) 'score' 컬럼에서 결측치가 발생한 행을 제거한 뒤, 가장 많은 학생이 수강한 과목(subject)을 찾으시오.\n",
    "- 2) 해당 과목의 점수(score)를 표준화(standardization)하여, 표준화된 점수 중 가장 높은 값을 구하시오.\n",
    "> 표준화 공식: (값 - 평균) / 표준편차\n",
    "- 3) 구한 값을 반올림하여 소수점 아래 3자리까지 출력한다."
   ]
  },
  {
   "cell_type": "code",
   "execution_count": 24,
   "id": "f1b4b3b7",
   "metadata": {},
   "outputs": [
    {
     "name": "stdout",
     "output_type": "stream",
     "text": [
      "1.663\n"
     ]
    }
   ],
   "source": [
    "df = pd.read_csv(path + \"student_scores01.csv\")\n",
    "# print(df.head(), df.info(), sep=\"\\n\")\n",
    "\n",
    "# 'score' 컬럼에서 결측치가 발생한 행을 제거한 뒤, 가장 많은 학생이 수강한 과목(subject)을 찾으시오.\n",
    "df = df[~df['score'].isnull()].copy()\n",
    "# print(df.head())\n",
    "max_subject = df.groupby('subject')['subject'].count().reset_index(name='count').max()[0]\n",
    "# print(max_subject)\n",
    "\n",
    "# 해당 과목의 점수(score)를 표준화(standardization)하여, 표준화된 점수 중 가장 높은 값을 구하시오.\n",
    "# 표준화 공식: (값 - 평균) / 표준편차\n",
    "df2 = df.loc[df['subject'] == max_subject].copy()\n",
    "result = round(((df['score'] - df['score'].mean()) / df['score'].std(ddof=1)).max(), 3)\n",
    "# print(result) # 1.663\n"
   ]
  },
  {
   "cell_type": "markdown",
   "id": "8f9ce0f7",
   "metadata": {},
   "source": [
    "7회-2번) 종속변수와의 상관관계 분석\n",
    "\n",
    "주어진 데이터에서 종속변수와 가장 높은 상관관계를 갖는 독립변수를 찾고자 한다.\n",
    "\n",
    "다음 절차에 따라 문제를 해결하시오.\n",
    "\n",
    "* 1. 해당 데이터에는 77개의 독립변수와 1개의 종속변수('CLOSE')가 존재한다.\n",
    "* 2. 종속변수 'CLOSE'와 가장 높은 상관관계를 갖는 독립변수를 찾는다.\n",
    "* 3. 찾은 독립변수의 평균값을 구하고, 반올림하여 소수점 아래 3자리까지 출력한다.\n",
    "- [주의] 문제에서 상관관계에 대한 방법을 명시하지 않으면 pearson 방법입니다."
   ]
  },
  {
   "cell_type": "code",
   "execution_count": 68,
   "id": "8f99c69f",
   "metadata": {},
   "outputs": [
    {
     "name": "stdout",
     "output_type": "stream",
     "text": [
      "4.807\n"
     ]
    }
   ],
   "source": [
    "df = pd.read_csv(path + \"close_features.csv\")\n",
    "# print(df.head(), df.info(), sep=\"\\n\")\n",
    "# print(df.isna().sum().to_frame())\n",
    "\n",
    "# 종속변수 'CLOSE'와 가장 높은 상관관계를 갖는 독립변수를 찾는다.\n",
    "df = df.dropna()\n",
    "corr_df = df.corr(method=\"pearson\")['CLOSE']\n",
    "corr_df = corr_df.drop(\"CLOSE\")\n",
    "best_var = corr_df.abs().idxmax() \n",
    "# print(best_var) # feature_31\n",
    "\n",
    "# 찾은 독립변수의 평균값을 구하고, 반올림하여 소수점 아래 3자리까지 출력한다.\n",
    "result = round(df[best_var].mean(), 3)\n",
    "# print(result) # 4.807\n"
   ]
  },
  {
   "cell_type": "markdown",
   "id": "7f479c1f",
   "metadata": {},
   "source": [
    "7회-3번) 이상치 개수 구하기\n",
    "\n",
    "주어진 데이터에서 특정 기준에 따라 이상치 개수를 구하고자 한다.\n",
    "\n",
    "다음 절차에 따라 문제를 해결하시오.\n",
    "\n",
    "* 'feature_2' 컬럼의 이상치 개수를 구하여 정수로 출력한다.\n",
    "* 이상치 기준은 다음과 같다.\n",
    "- - 이상치 < 평균 - IQR * 1.5, 이상치 > 평균 + IQR * 1.5"
   ]
  },
  {
   "cell_type": "code",
   "execution_count": 103,
   "id": "b42392d5",
   "metadata": {},
   "outputs": [
    {
     "name": "stdout",
     "output_type": "stream",
     "text": [
      "224\n"
     ]
    }
   ],
   "source": [
    "df = pd.read_csv(path + \"outlier_data.csv\")\n",
    "# print(df.head())\n",
    "mean = df['feature_2'].mean()\n",
    "q1, q3 = df['feature_2'].quantile([0.25, 0.75])\n",
    "# print(q1, q3) # -71.0 75.0\n",
    "iqr = q3 - q1\n",
    "\n",
    "cond1 = mean - (iqr * 1.5)\n",
    "cond2 = mean + (iqr * 1.5)\n",
    "\n",
    "feature_2 = len(df[(df['feature_2'] < cond1) | (df['feature_2'] > cond2)]['feature_2'])\n",
    "# print(feature_2) # 224\n"
   ]
  },
  {
   "cell_type": "markdown",
   "id": "e3c90aae",
   "metadata": {},
   "source": [
    "15-4) 이상치가 가장 많은 독립변수 찾기 및 이상치 개수 구하기\n",
    "\n",
    "주어진 데이터는 아파트 가격 관련 데이터를 포함하고 있다. 아파트 가격(Price)은 종속변수이며, 나머지 변수들은 독립변수이다.\n",
    "\n",
    "다음 절차에 따라 문제를 해결하시오.\n",
    "\n",
    "* 1. 아파트 가격을 결정하는 독립변수들을 대상으로 분석을 수행한다.\n",
    "* 2. 이상치 기준은 다음과 같다.\n",
    "- -  이상치 < 평균 - IQR * 1.5, 이상치 > 평균 + IQR * 1.5\n",
    "\n",
    "* 3. 모든 독립변수에 대해 이상치 개수를 구한다.\n",
    "* 4. 이상치 개수가 가장 많은 독립변수를 찾아, 이상치 개수를 정수로 출력합니다."
   ]
  },
  {
   "cell_type": "code",
   "execution_count": 113,
   "id": "d7984ab2",
   "metadata": {},
   "outputs": [
    {
     "name": "stdout",
     "output_type": "stream",
     "text": [
      "16\n"
     ]
    }
   ],
   "source": [
    "df = pd.read_csv(path + \"apartment_prices.csv\")\n",
    "# print(df.head())\n",
    "# print(df.isna().sum().to_frame().T)\n",
    "# print(df.columns)\n",
    "\n",
    "# 독립변수 리스트\n",
    "cols = ['Size', 'Bedrooms', 'Bathrooms', 'Floor', 'Age', 'DistanceToCenter',\n",
    "        'NearbySchools', 'NearbyParks', 'PublicTransport', 'SafetyIndex']\n",
    "\n",
    "# 독립변수별 이상치 개수 구하기\n",
    "values = []\n",
    "for col in cols:\n",
    "    mean = df[col].mean()\n",
    "    q1, q3 = df[col].quantile([0.25, 0.75])\n",
    "    iqr = q3 - q1\n",
    "    cond1 = mean - (iqr * 1.5)\n",
    "    cond2 = mean + (iqr * 1.5)\n",
    "    cnt = len(df[(df[col] < cond1) | (df[col] > cond2)])\n",
    "    values.append([col, cnt])\n",
    "df2 = pd.DataFrame(values, columns=['col','cnt'])\n",
    "\n",
    "# 이상치 개수가 가장 많은 독립변수를 찾아, 이상치 개수를 정수로 출력\n",
    "result = int(df2.loc[df2.index == df2['cnt'].idxmax(), 'cnt'])\n",
    "# print(result) # 16\n"
   ]
  },
  {
   "cell_type": "markdown",
   "id": "164507b1",
   "metadata": {},
   "source": [
    "15-5) 상관관계 분석\n",
    "\n",
    "주어진 데이터에서 독립변수들 간의 상관관계를 분석하고자 한다.\n",
    "\n",
    "다음 절차에 따라 문제를 해결하시오.\n",
    "\n",
    "* 1. 결측치가 포함된 모든 행을 제거합니다.\n",
    "* 2. 1)의 결과를 사용해 모든 숫자형 변수 간 상관계수를 'spearman'으로 계산하시오.\n",
    "* 3. 숫자형 변수들 중 상관관계가 가장 큰 두 변수를 찾으시오.\n",
    "* 단, 같은 변수 간의 상관계수(자기 자신과의 상관계수)는 제외한다.\n",
    "* 4. 해당 두 변수의 상관계수 값을 반올림하여 소수점 아래 2자리까지 출력한다.\n",
    "- [참고] 'pearson', 'spearman', 'kendall' 모두 해보세요.\n",
    "\n",
    "* * 일반적으로는 'pearson' 이지만 차이가 있는지 보는 것도 재미있죠!"
   ]
  },
  {
   "cell_type": "code",
   "execution_count": 173,
   "id": "1b859b68",
   "metadata": {},
   "outputs": [
    {
     "name": "stdout",
     "output_type": "stream",
     "text": [
      "0.84\n"
     ]
    }
   ],
   "source": [
    "df = pd.read_csv(path + \"penguins01.csv\")\n",
    "# print(df.head(3))\n",
    "# print(df.isna().sum().to_frame().T)\n",
    "\n",
    "# 결측치가 포함된 모든 행을 제거\n",
    "df = df.dropna()\n",
    "# print(df.isna().sum().to_frame().T)\n",
    "\n",
    "# 1)의 결과를 사용해 모든 숫자형 변수 간 상관계수를 'spearman'으로 계산\n",
    "# print(df.info())\n",
    "df2 = df.select_dtypes(include=['number']).copy()\n",
    "corr = df2.corr(method='spearman') # 0.84\n",
    "# corr = df2.corr(method='pearson')  # 0.87\n",
    "# corr = df2.corr(method='kendall')    # 0.66\n",
    "# print(corr)\n",
    "\n",
    "# 숫자형 변수들 중 상관관계가 가장 큰 두 변수를 찾으시오. 자기자신과의 상관계수는 제외\n",
    "corr_pair = corr.unstack().reset_index()\n",
    "corr_pair.columns = ['var1', 'var2', 'correlation']\n",
    "corr_pair = corr_pair[corr_pair['var1'] != corr_pair['var2']]\n",
    "vars = corr_pair.loc[corr_pair.index==corr_pair['correlation'].idxmax(), ['var1','var2']].values[0]\n",
    "# print(vars) # ['flipper_length_mm' 'body_mass_g']\n",
    "\n",
    "# 해당 두 변수의 상관계수 값을 반올림하여 소수점 아래 2자리까지 출력한다.\n",
    "result = round(corr_pair[corr_pair['var1'].isin(vars)]['correlation'].max(), 2)\n",
    "# print(result) # 0.84\n"
   ]
  },
  {
   "cell_type": "markdown",
   "id": "dcdb5da5",
   "metadata": {},
   "source": [
    "15-6) 상관관계 분석 2\n",
    "\n",
    "주어진 데이터에서 독립변수들 간의 상관관계를 분석하고자 한다.\n",
    "\n",
    "다음 절차에 따라 문제를 해결하시오.\n",
    "\n",
    "* 1. 모든 \"숫자형 변수\" 간 상관계수(Pearson correlation coefficient)를 계산하시오.\n",
    "* 단, 같은 변수 간의 상관계수(자기 자신과의 상관계수)는 제외한다.\n",
    "\n",
    "* 2. 상관계수의 절댓값이 0.8 이상인 변수쌍의 개수를 구하여 정수로 출력하시오."
   ]
  },
  {
   "cell_type": "code",
   "execution_count": 181,
   "id": "2fbc9ea7",
   "metadata": {},
   "outputs": [
    {
     "name": "stdout",
     "output_type": "stream",
     "text": [
      "32\n"
     ]
    }
   ],
   "source": [
    "df = pd.read_csv(path + \"mpg.csv\")\n",
    "# print(df.head(3))\n",
    "# print(df.isna().sum().to_frame().T)\n",
    "\n",
    "# 모든 \"숫자형 변수\" 간 상관계수(Pearson correlation coefficient)를 계산하시오.\n",
    "# 단, 같은 변수 간의 상관계수(자기 자신과의 상관계수)는 제외한다.\n",
    "df2 = df.select_dtypes(include=['number']).copy()\n",
    "corr2 = df2.corr(method=\"pearson\")\n",
    "corr2 = corr2.unstack().reset_index()\n",
    "corr2.columns = ['var1', 'var2', 'value']\n",
    "corr2 = corr2[corr2['var1'] != corr2['var2']].copy()\n",
    "# print(corr2)\n",
    "# 상관계수의 절댓값이 0.8 이상인 변수쌍의 개수를 구하여 정수로 출력하시오.\n",
    "result = corr2[abs(corr2['value']) >= 0.8]['var1'].count() * 2\n",
    "# print(result) # 32\n"
   ]
  }
 ],
 "metadata": {
  "kernelspec": {
   "display_name": "study",
   "language": "python",
   "name": "python3"
  },
  "language_info": {
   "codemirror_mode": {
    "name": "ipython",
    "version": 3
   },
   "file_extension": ".py",
   "mimetype": "text/x-python",
   "name": "python",
   "nbconvert_exporter": "python",
   "pygments_lexer": "ipython3",
   "version": "3.10.16"
  }
 },
 "nbformat": 4,
 "nbformat_minor": 5
}
