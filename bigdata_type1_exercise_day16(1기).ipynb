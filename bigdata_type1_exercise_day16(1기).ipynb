{
 "cells": [
  {
   "cell_type": "code",
   "execution_count": 10,
   "id": "ea659ce4",
   "metadata": {},
   "outputs": [],
   "source": [
    "import pandas as pd\n",
    "pd.set_option('display.max_row', 500)\n",
    "pd.set_option('display.max_column', 500)\n",
    "import warnings\n",
    "warnings.filterwarnings('ignore')\n",
    "\n",
    "path = \"https://raw.githubusercontent.com/Soyoung-Yoon/bigdata/main/\""
   ]
  },
  {
   "cell_type": "markdown",
   "id": "bc14e2cd",
   "metadata": {},
   "source": [
    "8회-1번) 맥주 소비량 구하기\n",
    "\n",
    "다음 절차에 따라 최종 결과를 구해 정수로 작성하시오.\n",
    "\n",
    "* 1. 대륙별 맥주의 평균 소비량이 가장 많은 곳을 구하시오.\n",
    "* 2. 1번에서 구한 대륙에서 다섯번째로 맥주 소비량이 많은 국가를 구하시오.\n",
    "* 3. 2번에서 구한 국가의 맥주 소비량을 정수로 작성하시오."
   ]
  },
  {
   "cell_type": "code",
   "execution_count": 44,
   "id": "b8104133",
   "metadata": {},
   "outputs": [
    {
     "name": "stdout",
     "output_type": "stream",
     "text": [
      "238\n"
     ]
    }
   ],
   "source": [
    "df = pd.read_csv(path + \"drinks_09011.csv\")\n",
    "# print(df.head(3))\n",
    "# print(df.isna().sum().to_frame().T)\n",
    "\n",
    "# 대륙별 맥주의 평균 소비량이 가장 많은 곳을 구하시오.\n",
    "max_index = df.groupby(['대륙'], as_index=False)['맥주'].mean().idxmax().values[0]\n",
    "result1 = df[df.index == max_index]['대륙'].values[0]\n",
    "# print(result1) # North America\n",
    "\n",
    "# 1번에서 구한 대륙에서 다섯번째로 맥주 소비량이 많은 국가를 구하시오.\n",
    "min_index = df.loc[df['대륙'] == result1, '맥주'].sort_values(ascending=False).head(5).idxmin() # 109\n",
    "result2 = df[df.index == min_index]['국가'].values[0]\n",
    "# print(result2) # Mexico\n",
    "\n",
    "# 2번에서 구한 국가의 맥주 소비량을 정수로 작성하시오.\n",
    "result3 = int(df[df['국가'] == result2]['맥주'])\n",
    "print(result3) # 238\n"
   ]
  },
  {
   "cell_type": "markdown",
   "id": "1a7098fb",
   "metadata": {},
   "source": [
    "8회-2번) 관광객\n",
    "\n",
    "다음의 결과를 구하시오.\n",
    "\n",
    "* 1. 관광객비율이 두 번째로 높은 나라의 '관광'수를 a라고 정의하시오.\n",
    "- -  관광객비율 = 관광 / (관광 + 공무)\n",
    "\n",
    "* 2. 관광객 수가 두 번째로 높은 나라의 '공무'수를 b라고 정의하시오.\n",
    "* 3. a + b의 값을 구하여 정수로 출력한다."
   ]
  },
  {
   "cell_type": "code",
   "execution_count": 69,
   "id": "c5d2e2c4",
   "metadata": {},
   "outputs": [
    {
     "name": "stdout",
     "output_type": "stream",
     "text": [
      "239\n"
     ]
    }
   ],
   "source": [
    "df = pd.read_csv(path + \"tourist_08012.csv\")\n",
    "# print(df.head(3))\n",
    "# print(df.isna().sum().to_frame().T) # 사업 결측치 1개\n",
    "\n",
    "# 관광객비율이 두 번째로 높은 나라의 '관광'수를 a라고 정의하시오.\n",
    "# 관광객비율 = 관광 / (관광 + 공무)\n",
    "df['관광객비율'] = df['관광'] / (df['관광'] + df['공무'])\n",
    "# print(df.head(3))\n",
    "ratio = df.sort_values(by='관광객비율', ascending=False).head(2)\n",
    "a = ratio['관광'].values[1]\n",
    "# print(a) # 74\n",
    "\n",
    "# 관광객 수가 두 번째로 높은 나라의 '공무'수를 b라고 정의하시오.\n",
    "country = df.sort_values(by='관광', ascending=False).head(2)\n",
    "b = country['공무'].values[1]\n",
    "# print(b) # 165\n",
    "\n",
    "# a + b의 값을 구하여 정수로 출력한다.\n",
    "result = int(a + b)\n",
    "print(result) # 239\n"
   ]
  },
  {
   "cell_type": "markdown",
   "id": "df72f77f",
   "metadata": {},
   "source": [
    "8회-3번) 스케일링\n",
    "\n",
    "다음의 결과를 구하시오.\n",
    "\n",
    "* 1. co컬럼과 nmch컬럼을 사용하여 Min-Max Scale을 시행하시오.\n",
    "- - Min-Max Scale = (Xn - Xmin) / (Xmax - Xmin)\n",
    "\n",
    "* 2. Min-Max Scale이 적용된 각 칼럼의 표준편차를 구하시오.\n",
    " - -co칼럼의 표준편차 = a, nmch 칼럼의 표준편차 = b\n",
    "\n",
    "* 3. 2번에서 구한 a, b를 사용하여 두 값의 차이 값인 a - b의 값을 구해, 반올림하여 소수점 아래 3자리까지 출력한다."
   ]
  },
  {
   "cell_type": "code",
   "execution_count": 122,
   "id": "ca2dcaa4",
   "metadata": {},
   "outputs": [
    {
     "name": "stdout",
     "output_type": "stream",
     "text": [
      "0.026\n"
     ]
    }
   ],
   "source": [
    "df = pd.read_csv(path + \"environment_08013.csv\")\n",
    "# print(df.head())\n",
    "# print(df.isna().sum().to_frame().T)\n",
    "\n",
    "# co컬럼과 nmch컬럼을 사용하여 Min-Max Scale을 시행하시오.\n",
    "# Min-Max Scale = (Xn - Xmin) / (Xmax - Xmin)\n",
    "df['co_scale'] = (df['co'] - df['co'].min()) / (df['co'].max() - df['co'].min())\n",
    "df['nmch_scale'] = (df['nmch'] - df['nmch'].min()) / (df['nmch'].max() - df['nmch'].min())\n",
    "# print(df.head(3))\n",
    "\n",
    "# Min-Max Scale이 적용된 각 칼럼의 표준편차를 구하시오.\n",
    "# co칼럼의 표준편차 = a, nmch 칼럼의 표준편차 = b\n",
    "a = df['co_scale'].std(ddof=1)\n",
    "b = df['nmch_scale'].std(ddof=1)\n",
    "# print(a, b) # 0.08597636656940201 0.11197659182253142\n",
    "\n",
    "# 2번에서 구한 a, b를 사용하여 두 값의 차이 값인 a - b의 값을 구해, 반올림하여 소수점 아래 3자리까지 출력한다.\n",
    "result = round(abs(a - b), 3)\n",
    "print(result) # 0.026\n"
   ]
  },
  {
   "cell_type": "markdown",
   "id": "52458851",
   "metadata": {},
   "source": [
    "16-4) 연속 평균 이하 유병률 국가\n",
    "\n",
    "국가별 유병률 데이터를 분석 건강 관리가 잘 되어온 국가일 가능성이 높은 국가를 알아보자.\n",
    "\n",
    "다음 절차에 따라 문제를 해결하시오.\n",
    "\n",
    "* 1. 1999년, 2000년, 2001년, 2002년 각 연도별로, 국가 전체 유병률 평균값보다 작은 유병률을 기록한 국가를 각각 구하시오.\n",
    "* 2. 그리고, 이 네 해 모두에서 평균 이하 유병률을 기록한 국가의 개수를 구하시오\n",
    "- - 단, 유병률이 0인 것이 1개라도 포함된 국가는 제외하고 구한다."
   ]
  },
  {
   "cell_type": "code",
   "execution_count": null,
   "id": "b0f1de85",
   "metadata": {},
   "outputs": [
    {
     "name": "stdout",
     "output_type": "stream",
     "text": [
      "57\n"
     ]
    }
   ],
   "source": [
    "df = pd.read_csv(path + \"worlddata.csv\")\n",
    "# print(df.head())\n",
    "# print(df.isna().sum().to_frame().T)\n",
    "\n",
    "# 1999년, 2000년, 2001년, 2002년 각 연도별로, 국가 전체 유병률 평균값보다 작은 유병률을 기록한 국가를 각각 구하시오.\n",
    "years = [1999, 2000, 2001, 2002]\n",
    "below_mean_countries = {}\n",
    "for year in years:\n",
    "    rows = df[df['year'] == year].copy()\n",
    "    mean = rows.mean(axis=1).values[0]\n",
    "    below_countries = rows.columns[rows.iloc[0] < mean].tolist()\n",
    "    below_mean_countries[year] = below_countries\n",
    "\n",
    "# 그리고, 이 네 해 모두에서 평균 이하 유병률을 기록한 국가의 개수를 구하시오\n",
    "common_countries = set(below_mean_countries[1999])\n",
    "for year in [1999, 2000, 2001, 2002]:\n",
    "    common_countries = common_countries.intersection(below_mean_countries[year])\n",
    "# print(common_countries)\n",
    "\n",
    "# 단, 유병률이 0인 것이 1개라도 포함된 국가 제거\n",
    "country_values = df.set_index(\"year\")\n",
    "\n",
    "valid_countries=[]\n",
    "for c in common_countries:\n",
    "    values = country_values.loc[years, c].values\n",
    "    if not (values == 0).any():\n",
    "        valid_countries.append(c)\n",
    "result = len(valid_countries)\n",
    "# print(result) # 57"
   ]
  },
  {
   "cell_type": "markdown",
   "id": "c0cdbd20",
   "metadata": {},
   "source": [
    "**16-5) 점포별 매출 변화**\n",
    "\n",
    "점포(Store_ID)별로 2022년과 2023년의 월별 매출(Monthly_ Sales) 데이터를 이용하여 결측치를 처리하고, 전년 대비 매출 증가율을 분석하고자 한다.\n",
    "\n",
    "다음 절차에 따라 문제를 해결하시오.\n",
    "- 1) 2022년과, 2023년에 대해 각각 점포별로 월별 매출을 구하고, 매출 결측치는 바로 전월 매출로 대체한다.\n",
    "- 단, 첫 번째 월(2022년 1월)의 결측치는 2022년 2월의 데이터로 대체하시오.\n",
    "- 2) 점포별 1년 전 대비 매출 증가율을 계산하시오.\n",
    "> 2023년 매출 증가율 = (2023년총매출 - 2022년총매출)/ 2022년총매출\n",
    "- 3) 2023년 매출 증가율이 가장 높은 점포의 2022년총매출과 2023년의 총매출의 합을 정수로 출력한다."
   ]
  },
  {
   "cell_type": "code",
   "execution_count": null,
   "id": "9407a437",
   "metadata": {},
   "outputs": [
    {
     "name": "stdout",
     "output_type": "stream",
     "text": [
      "24203276.0\n"
     ]
    }
   ],
   "source": [
    "df = pd.read_csv(path + \"store_sales_data_v2.csv\")\n",
    "# print(df.head(5))\n",
    "# print(df.isna().sum().to_frame().T) # Monthly_Sales  70\n",
    "\n",
    "# 2022년과, 2023년에 대해 각각 점포별로 월별 매출을 구하고, 매출 결측치는 바로 전월 매출로 대체한다.\n",
    "# 단, 첫 번째 월(2022년 1월)의 결측치는 2022년 2월의 데이터로 대체하시오.\n",
    "df['Monthly_Sales'] = df['Monthly_Sales'].fillna(method='ffill')\n",
    "# print(df.isna().sum().to_frame().T)\n",
    "\n",
    "# 점포별 1년 전 대비 매출 증가율을 계산하시오.\n",
    "df1 = df[df['Year'] == 2022].copy()\n",
    "df2 = df[df['Year'] == 2023].copy()\n",
    "\n",
    "df1_sum = df1.groupby('Year')['Monthly_Sales'].transform('sum').values[0]\n",
    "df2_sum = df2.groupby('Year')['Monthly_Sales'].transform('sum').values[0]\n",
    "\n",
    "df2_ratio = (df2_sum - df1_sum) / df1_sum"
   ]
  }
 ],
 "metadata": {
  "kernelspec": {
   "display_name": "study",
   "language": "python",
   "name": "python3"
  },
  "language_info": {
   "codemirror_mode": {
    "name": "ipython",
    "version": 3
   },
   "file_extension": ".py",
   "mimetype": "text/x-python",
   "name": "python",
   "nbconvert_exporter": "python",
   "pygments_lexer": "ipython3",
   "version": "3.10.16"
  }
 },
 "nbformat": 4,
 "nbformat_minor": 5
}
