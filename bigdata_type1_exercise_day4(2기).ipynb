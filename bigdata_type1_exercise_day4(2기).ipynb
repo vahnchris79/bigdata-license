{
 "cells": [
  {
   "cell_type": "code",
   "execution_count": 3,
   "id": "1f36ab7e",
   "metadata": {},
   "outputs": [],
   "source": [
    "import pandas as pd\n",
    "pd.set_option('display.max_columns', 100)\n",
    "pd.set_option('display.max_rows', 1000)\n",
    "import warnings\n",
    "warnings.filterwarnings('ignore')\n",
    "\n",
    "path1 = \"https://raw.githubusercontent.com/Soyoung-Yoon/bigdata/main/\"\n",
    "path2 = \"https://raw.githubusercontent.com/Soyoung-Yoon/data_01/main/\""
   ]
  },
  {
   "cell_type": "markdown",
   "id": "3ee20a3c",
   "metadata": {},
   "source": [
    "**4-1) 샘플 개수 구하기**\n",
    "\n",
    "다음 조건을 모두 만족하는 샘플의 개수를 정수로 구하시오.\n",
    "- 단, bmi, s5, target 컬럼을 사용하며 다음 조건을 모두 만족해야 한다.\n",
    "- bmi가 전체 평균 이상인 데이터\n",
    "- s5가 전체 중앙값보다 큰 데이터\n",
    "- target 값이 150 이상인 데이터"
   ]
  },
  {
   "cell_type": "code",
   "execution_count": null,
   "id": "a852f2a7",
   "metadata": {},
   "outputs": [
    {
     "name": "stdout",
     "output_type": "stream",
     "text": [
      "108\n"
     ]
    }
   ],
   "source": [
    "df = pd.read_csv(path1 + \"diabetes.csv\")\n",
    "\n",
    "# bmi가 전체 평균 이상인 데이터\n",
    "result = len(df[(df['bmi'] >= df['bmi'].mean()) & \n",
    "                (df['s5'] > df['s5'].median()) & \n",
    "                (df['target'] >= 150)])\n",
    "print(result) # 108"
   ]
  },
  {
   "cell_type": "markdown",
   "id": "7b1b118e",
   "metadata": {},
   "source": [
    "**4-2) 펭귄의 수 구하기**\n",
    "\n",
    "다음 조건을 모두 만족하는 펭귄의 수를 구해 정수로 출력하시오.\n",
    "- species가 Gentoo인 데이터만 필터링한다.\n",
    "- 위의 필터링 된 데이터 중에서 bill_length_mm이 Gentoo 펭귄 전체에서 상위 20%에 해당하면서, flipper_length_mm이 220 이상인 경우만 유지한다.\n",
    "- 단, **상위 20%에 해당하는 것이 여러 개인 경우 모두 포함**하도록 한다."
   ]
  },
  {
   "cell_type": "code",
   "execution_count": null,
   "id": "4cb418ed",
   "metadata": {},
   "outputs": [
    {
     "name": "stdout",
     "output_type": "stream",
     "text": [
      "19\n"
     ]
    }
   ],
   "source": [
    "df = pd.read_csv(path2 + \"penguins03.csv\")\n",
    "\n",
    "# species가 Gentoo인 데이터만 필터링한다.\n",
    "df = df[df['species'] == 'Gentoo']\n",
    "\n",
    "# 필터링 된 데이터 중에서 bill_length_mm이 Gentoo 펭귄 전체에서 상위 20%에 \n",
    "# 해당하면서, flipper_length_mm이 220 이상인 경우만 유지\n",
    "# 상위 20%에 해당하는 것이 여러 개인 경우 모두 포함\n",
    "cond1 = (df['bill_length_mm']>=df['bill_length_mm'].quantile(0.8))\n",
    "cond2 = (df['flipper_length_mm'] >= 220)\n",
    "result = int(len(df[cond1 & cond2]))\n",
    "print(result) # 19"
   ]
  },
  {
   "cell_type": "markdown",
   "id": "abbc5a62",
   "metadata": {},
   "source": [
    "**4-3) 다이아몬드 가격**\n",
    "\n",
    "다음 조건을 모두 만족하는 다이아몬드의 가격(price) 합계를 정수로 구하시오.\n",
    "- cut 등급이 'Premium'이고, color가 'D' 또는 'F' 또는 'H'인 데이터만 필터링한다.\n",
    "- 위 필터링된 데이터에서, 각 (cut, color) 그룹별 **carat 중앙값**을 계산한다.\n",
    "- 그리고 필터링된 데이터에서 각 다이아몬드의 carat이 해당 그룹(cut, color)의 중앙값보다 큰 데이터를 최종적으로 선택한다."
   ]
  },
  {
   "cell_type": "code",
   "execution_count": null,
   "id": "1a3bedb7",
   "metadata": {},
   "outputs": [
    {
     "name": "stdout",
     "output_type": "stream",
     "text": [
      "23289898\n"
     ]
    }
   ],
   "source": [
    "df = pd.read_csv(path1 + \"diamonds.csv\")\n",
    "# print(df.shape) # (53940, 10)\n",
    "\n",
    "# cut 등급이 'Premium'이고, color가 'D' 또는 'F' 또는 'H'인 데이터만 필터링\n",
    "df = df[(df['cut'] == 'Premium') & (df['color'].isin(['D','F','H']))]\n",
    "# print(df.shape) # (6294, 10)\n",
    "\n",
    "# 필터링된 데이터에서, 각 (cut, color) 그룹별 carat 중앙값을 계산\n",
    "median = df.groupby(['cut','color'])['carat'].transform('median')\n",
    "\n",
    "# 필터링된 데이터에서 각 다이아몬드의 carat이 해당 그룹(cut, color)의 중앙값보다 큰 데이터를 최종적으로 선택한다.\n",
    "result = int(df[df['carat'] > median]['price'].sum())\n",
    "print(result) # 23289898"
   ]
  },
  {
   "cell_type": "markdown",
   "id": "ca96e5c4",
   "metadata": {},
   "source": [
    "**4-4) 펭귄의 체중**\n",
    "\n",
    "penguins 데이터셋을 사용하여 다음 조건을 모두 만족하는 펭귄의 body_mass_g 표준편차를 구하시오.\n",
    "- 모든 결측치는 제거한 후 처리하도록 한다.\n",
    "- 각 펭귄의 **body_mass_g가 자신이 속한 species의 중앙값보다 큰 경우**의 데이터를 선택한다.\n",
    "- 위의 조건을 만족하는 펭귄 중 sex가 'Male'이고 bill_depth_mm이 17을 초과하는 개체를 선택한다.\n",
    "- 결과는 반올림하여 소수점 아래 3자리까지 표시되도록 한다."
   ]
  },
  {
   "cell_type": "code",
   "execution_count": null,
   "id": "28627c14",
   "metadata": {},
   "outputs": [
    {
     "name": "stdout",
     "output_type": "stream",
     "text": [
      "4150.0\n"
     ]
    }
   ],
   "source": [
    "df = pd.read_csv(path1 + \"penguins01.csv\")\n",
    "# print(df.isna().sum().to_frame().T)\n",
    "\n",
    "# 모든 결측치는 제거\n",
    "df = df.dropna()\n",
    "# print(df.isna().sum().to_frame().T)\n",
    "\n",
    "# 각 펭귄의 body_mass_g가 자신이 속한 species의 중앙값보다 큰 경우의 데이터\n",
    "df = df[df['body_mass_g'] > df['body_mass_g'].median()].copy()\n",
    "\n",
    "# 위의 조건을 만족하는 펭귄 중 sex가 'Male'이고 bill_depth_mm이 17을 초과하는 개체를 선택\n",
    "df = df[(df['sex'] == 'Female') & (df['bill_depth_mm'] > 17)]\n",
    "\n",
    "# body_mass_g의 표준편차\n",
    "result = round(df['body_mass_g'].values[0], 3)\n",
    "print(result) # 4150.0"
   ]
  },
  {
   "cell_type": "markdown",
   "id": "b86e34cd",
   "metadata": {},
   "source": [
    "**4-5) 승객의 수 구하기**\n",
    "\n",
    "titanic.csv를 사용하여 다음 조건을 모두 만족하는 승객의 수를 정수로 구하시오.\n",
    "- Age 컬럼의 결측치는 **Pclass와 Gender 조합별 Age 평균값**으로 채운다.\n",
    "- 그 후, Age가 30세 이상인 승객만을 필터링한다.\n",
    "- 필터링된 데이터에서 **각 승객의 요금(Fare)이 동일 성별(Gender) 승객들의 요금 중앙값 이상인 경우**만 필터링한다."
   ]
  },
  {
   "cell_type": "code",
   "execution_count": null,
   "id": "65496e84",
   "metadata": {},
   "outputs": [
    {
     "name": "stdout",
     "output_type": "stream",
     "text": [
      "185\n"
     ]
    }
   ],
   "source": [
    "df = pd.read_csv(path1 + \"titanic_dataq.csv\")\n",
    "\n",
    "# Age 컬럼의 결측치는 Pclass와 Gender 조합별 Age 평균값으로 채운다.\n",
    "age_mean = df.groupby(['Pclass', 'Gender'])['Age'].transform('mean')\n",
    "df['Age'] = df['Age'].fillna(age_mean)\n",
    "\n",
    "#  Age가 30세 이상인 승객만을 필터링\n",
    "df = df[df['Age'] >= 30].copy()\n",
    "\n",
    "# 필터링된 데이터에서 각 승객의 요금(Fare)이 \n",
    "# 동일 성별(Gender) 승객들의 요금 중앙값 이상인 경우만 필터링\n",
    "fare_median = df.groupby('Gender')['Fare'].transform('median')\n",
    "\n",
    "result = df[df['Fare'] >= fare_median]['PassengerId'].count()\n",
    "print(result) # 185\n"
   ]
  }
 ],
 "metadata": {
  "kernelspec": {
   "display_name": "study",
   "language": "python",
   "name": "python3"
  },
  "language_info": {
   "codemirror_mode": {
    "name": "ipython",
    "version": 3
   },
   "file_extension": ".py",
   "mimetype": "text/x-python",
   "name": "python",
   "nbconvert_exporter": "python",
   "pygments_lexer": "ipython3",
   "version": "3.10.16"
  }
 },
 "nbformat": 4,
 "nbformat_minor": 5
}
