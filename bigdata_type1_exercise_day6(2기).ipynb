{
 "cells": [
  {
   "cell_type": "code",
   "execution_count": 1,
   "id": "44bfd5d9",
   "metadata": {},
   "outputs": [],
   "source": [
    "import pandas as pd\n",
    "pd.set_option('display.max_columns', 100)\n",
    "import warnings\n",
    "warnings.filterwarnings('ignore')\n",
    "\n",
    "path = \"https://raw.githubusercontent.com/Soyoung-Yoon/data_01/main/\"\n"
   ]
  },
  {
   "cell_type": "markdown",
   "id": "269e471c",
   "metadata": {},
   "source": [
    "6-1) event_log_with_time.csv 데이터를 사용한다.\n",
    "- 지속시간(duration)을 구하고, 지속시간 중 가장 큰 5개 의 평균을 구한다.\n",
    "- duration = end_datetime - start_datetime\n",
    "- 해당 평균을 구하여, 반올림하여 초 단위 정수로 출력한다."
   ]
  },
  {
   "cell_type": "code",
   "execution_count": null,
   "id": "6468aa55",
   "metadata": {},
   "outputs": [
    {
     "name": "stdout",
     "output_type": "stream",
     "text": [
      "594\n"
     ]
    }
   ],
   "source": [
    "df = pd.read_csv(path + \"event_log_with_time.csv\")\n",
    "# print(df.head(3))\n",
    "# print(df.info())\n",
    "\n",
    "# 지속시간(duration)을 구하고, 지속시간 중 가장 큰 5개 의 평균을 구한다.\n",
    "df['start_datetime'] = df['start_datetime'].astype('datetime64[ns]')\n",
    "df['end_datetime'] = df['end_datetime'].astype('datetime64[ns]')\n",
    "df['duration'] = df['end_datetime'] - df['start_datetime']\n",
    "mean_duration = df['duration'].sort_values(ascending=False).head(5).mean()\n",
    "\n",
    "# 해당 평균을 구하여, 반올림하여 초 단위 정수로 출력\n",
    "result = round(mean_duration.total_seconds())\n",
    "print(result) # 594"
   ]
  },
  {
   "cell_type": "markdown",
   "id": "9320845c",
   "metadata": {},
   "source": [
    "6-2) event_log_with_time.csv 데이터를 사용한다.\n",
    "- 'Run' 이벤트 중 가장 오래 지속된 이벤트의 시간을 반올림하여 **분 단위** 정수로 구하시오.\n",
    "- 지속시간(duration) = end_datetime - start_datetime"
   ]
  },
  {
   "cell_type": "code",
   "execution_count": null,
   "id": "6e56f746",
   "metadata": {},
   "outputs": [
    {
     "name": "stdout",
     "output_type": "stream",
     "text": [
      "9\n"
     ]
    }
   ],
   "source": [
    "df = pd.read_csv(path + \"event_log_with_time.csv\")\n",
    "# print(df.head(3))\n",
    "df['start_datetime'] = df['start_datetime'].astype('datetime64[ns]')\n",
    "df['end_datetime'] = df['end_datetime'].astype('datetime64[ns]')\n",
    "df['duration'] = df['end_datetime'] - df['start_datetime']\n",
    "\n",
    "components = pd.Series(df[df['event'] == 'Run']['duration'].sort_values(ascending=False).head(1)).dt.components\n",
    "result = round(components.minutes.values[0])\n",
    "# print(result) # 9\n"
   ]
  },
  {
   "cell_type": "markdown",
   "id": "a53f428f",
   "metadata": {},
   "source": [
    "6-3) event_log_with_time.csv 데이터를 사용한다.\n",
    "- start_datetime이 2024년 4월 1일부터 5일까지의 데이터를 대상으로, 발생 빈도가 가장 높은 event를 찾고, 해당 event에 대한 value 평균을 구하시오.\n",
    "- 결과는 반올림하여 정수로 출력한다."
   ]
  },
  {
   "cell_type": "code",
   "execution_count": null,
   "id": "0932c86d",
   "metadata": {},
   "outputs": [
    {
     "name": "stdout",
     "output_type": "stream",
     "text": [
      "54\n"
     ]
    }
   ],
   "source": [
    "df = pd.read_csv(path + \"event_log_with_time.csv\")\n",
    "# print(df.head(3))\n",
    "# print(df.info())\n",
    "df['start_datetime'] = df['start_datetime'].astype('datetime64[ns]')\n",
    "\n",
    "# start_datetime이 2024년 4월 1일부터 5일까지의 데이터를 대상 추출\n",
    "df = df[(df['start_datetime'].dt.year == 2024) & (df['start_datetime'].dt.month == 4) & \n",
    "        (df['start_datetime'].dt.day >= 1) & (df['start_datetime'].dt.day <= 5)].copy()\n",
    "\n",
    "# 발생 빈도가 가장 높은 event를 찾고, 해당 event에 대한 value 평균을 구하시오.\n",
    "result = round(df[df['event'] == df['event'].value_counts().idxmax()]['value'].mean())\n",
    "# print(result) # 54"
   ]
  },
  {
   "cell_type": "markdown",
   "id": "edba0fc3",
   "metadata": {},
   "source": [
    "6-4) event_log_02.csv 파일을 사용하여 다음을 구하시오.\n",
    "- start_datetime 기준 2020년 1월에 발생한 이벤트(event) 중 가장 많이 발생한 이벤트 종류를 A, 가장 적게 발생한 이벤트 종류를 B라고 한다.\n",
    "- 2020년 1월 발생한 A이벤트의 end_datetime 기준 가장 나중에 발생한 이벤트의 일(day)을 Aday, B이벤트의 end_datetime 기준 가장 먼저 발생한 이벤트의 일(day)을 Bday라고 할 때 두 수의 합을 정수로 출력하라.\n",
    "- 2020-01-25 의 경우 일(day)은 25이다."
   ]
  },
  {
   "cell_type": "code",
   "execution_count": null,
   "id": "610cecae",
   "metadata": {},
   "outputs": [
    {
     "name": "stdout",
     "output_type": "stream",
     "text": [
      "51\n"
     ]
    }
   ],
   "source": [
    "df = pd.read_csv(path + \"event_log_02.csv\")\n",
    "# print(df.head())\n",
    "\n",
    "\n",
    "# start_datetime 기준 2020년 1월에 발생한 이벤트(event) 중 가장 많이 발생한 이벤트 종류를 A, \n",
    "# 가장 적게 발생한 이벤트 종류를 B라고 한다.\n",
    "# df['start_datetime'] = df['start_datetime'].astype('datetime64[ns]')\n",
    "A = df[df['start_datetime'].str.startswith('2020-01')]['event'].value_counts().idxmax()\n",
    "B = df[df['start_datetime'].str.startswith('2020-01')]['event'].value_counts().idxmin()\n",
    "# print(A, B) # Run Start\n",
    "\n",
    "# 2020년 1월 발생한 A이벤트의 end_datetime 기준 가장 나중에 발생한 이벤트의 일(day)을 Aday,\n",
    "# B이벤트의 end_datetime 기준 가장 먼저 발생한 이벤트의 일(day)을 Bday라고 할 때 두 수의 합을 정수로 출력하라.\n",
    "Aday = int(df[(df['start_datetime'].str.startswith('2020-01')) & (df['event'] == A)]['end_datetime'].str[8:10].max())\n",
    "Bday = int(df[(df['start_datetime'].str.startswith('2020-01')) & (df['event'] == B)]['end_datetime'].str[8:10].max())\n",
    "result = Aday + Bday\n",
    "print(result) # 51\n"
   ]
  },
  {
   "cell_type": "markdown",
   "id": "87c0ac83",
   "metadata": {},
   "source": [
    "6-5) event_log_02.csv 파일을 사용하여 다음을 구하시오.\n",
    "\n",
    "- 월별 지속시간(duration)의 합계 중에서 가장 큰 값에서 가장 작은 값을 뺀 값을 구하고, 그 값의 시간, 분, 초를 모두 더한 값을 정수로 출력하시오.\n",
    "- 지속시간(duration) = end_datetime - start_datetime\n",
    "- 월(month) : start_datetime의 월 정보 사용"
   ]
  },
  {
   "cell_type": "code",
   "execution_count": null,
   "id": "c4f74646",
   "metadata": {},
   "outputs": [
    {
     "name": "stdout",
     "output_type": "stream",
     "text": [
      "62\n"
     ]
    }
   ],
   "source": [
    "df = pd.read_csv(path + \"event_log_02.csv\")\n",
    "# print(df.head(3))\n",
    "df['start_datetime'] = df['start_datetime'].astype('datetime64[ns]')\n",
    "df['end_datetime'] = df['end_datetime'].astype('datetime64[ns]')\n",
    "df['duration'] = df['end_datetime'] - df['start_datetime']\n",
    "df['month'] = df['start_datetime'].dt.month\n",
    "max_dur = df.groupby('month')['duration'].sum().max()\n",
    "min_dur = df.groupby('month')['duration'].sum().min()\n",
    "diff_dur = pd.Series(pd.to_timedelta([max_dur - min_dur]))\n",
    "components = diff_dur.dt.components\n",
    "result = int(components.hours + components.minutes + components.seconds)\n",
    "print(result) # 62\n"
   ]
  }
 ],
 "metadata": {
  "kernelspec": {
   "display_name": "study",
   "language": "python",
   "name": "python3"
  },
  "language_info": {
   "codemirror_mode": {
    "name": "ipython",
    "version": 3
   },
   "file_extension": ".py",
   "mimetype": "text/x-python",
   "name": "python",
   "nbconvert_exporter": "python",
   "pygments_lexer": "ipython3",
   "version": "3.10.16"
  }
 },
 "nbformat": 4,
 "nbformat_minor": 5
}
