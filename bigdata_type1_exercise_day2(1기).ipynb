{
 "cells": [
  {
   "cell_type": "markdown",
   "id": "f8647fdb",
   "metadata": {},
   "source": [
    "#### 2-1) 상위 지출 고객의 팁 분석\n",
    "\n",
    "식사 지출이 높은 고객일수록 팁을 더 많이 주는지 알아보기 위해, 총 지출(total_bill)이 높은 고객들의 팁(tip)을 분석하고자 합니다.\n",
    "\n",
    "다음을 수행하세요.\n",
    "\n",
    "* 'total_bill'컬럼에서 결측치를 제거한 뒤, 'total_bill' 기준 상위 20%에 해당하는 데이터를 추출합니다.\n",
    "* 위에서 추출된 데이터에 대해 'tip'평균을 계산하여 결과로 제출합니다.\n",
    "* 결과는 반올림하여 소수점 아래 3자리까지 출력합니다.\n"
   ]
  },
  {
   "cell_type": "code",
   "execution_count": null,
   "id": "fbe84763",
   "metadata": {},
   "outputs": [
    {
     "name": "stdout",
     "output_type": "stream",
     "text": [
      "4.214\n"
     ]
    }
   ],
   "source": [
    "# 데이터 확인\n",
    "import pandas as pd\n",
    "pd.set_option('display.width', 120)\n",
    "path = \"https://raw.githubusercontent.com/Soyoung-Yoon/data_01/main/\"\n",
    "df = pd.read_csv(path + 'tips02.csv')\n",
    "# print(df.isna().sum().to_frame().T)\n",
    "# print(df.head(3))\n",
    "# print(df.shape) # (244, 7)\n",
    "\n",
    "# total_bill 결측치 제거\n",
    "df = df[~df['total_bill'].isnull()]\n",
    "# print(df.isna().sum().to_frame().T)\n",
    "\n",
    "# total_bill 기준 상위 20%에 해당하는 데이터 추출\n",
    "higher = df['total_bill'].quantile(0.8)\n",
    "df = df.loc[df['total_bill'] >=  higher].copy()\n",
    "# print(df.shape) (48, 7)\n",
    "\n",
    "# 위에서 추출된 데이터에 대해 'tip'평균을 계산하여 결과로 제출(반올림하여 소수점 3자리)\n",
    "# print(df.head())\n",
    "result = df['tip'].mean()\n",
    "print(round(result, 3)) # 4.214"
   ]
  },
  {
   "cell_type": "markdown",
   "id": "ea1806aa",
   "metadata": {},
   "source": [
    "#### 2-2) 고알코올 와인의 산도 특성 분석\n",
    "\n",
    "알코올 도수가 높은 와인은 특정 종류(wine_variety)에 따라 화학적 특성이 다를 수 있습니다. 이 문제에서는 고알코올 와인의 산도(malic_acid) 특성을\n",
    "\n",
    "분석하고자 합니다.\n",
    "\n",
    "다음 작업을 수행하세요.\n",
    "\n",
    "* wine.csv를 사용합니다.\n",
    "* alcohol 컬럼의 값이 중앙값보다 큰 데이터 중, wine_variety가 1인 데이터의 malic_acid평균을 계산하여 결과로 제출합니다.\n",
    "* 결과는 반올림하여 소수점 아래 3자리까지 출력합니다."
   ]
  },
  {
   "cell_type": "code",
   "execution_count": null,
   "id": "cd5bb433",
   "metadata": {},
   "outputs": [
    {
     "name": "stdout",
     "output_type": "stream",
     "text": [
      "1.274\n"
     ]
    }
   ],
   "source": [
    "# 데이터 확인\n",
    "import pandas as pd\n",
    "pd.set_option('display.width', 120)\n",
    "filename = \"https://raw.githubusercontent.com/Soyoung-Yoon/bigdata/main/wine.csv\"\n",
    "df = pd.read_csv(filename)\n",
    "# print(df.head(3))\n",
    "# print(df.shape) (178, 14)\n",
    "\n",
    "# alcohol 컬럼값의 중앙값보다 큰 데이터 추출\n",
    "df = df[df['alcohol'] > df['alcohol'].median()].copy() # >= -> >로 수정\n",
    "# print(df.shape) (85, 14)\n",
    " \n",
    "# 추출된 결과에서 wine_variety가 1인 데이터 추출\n",
    "df = df[df['wine_variety'] == 1]\n",
    "# print(df.shape) (5, 14)\n",
    "\n",
    "# 추출된 결과에서 malic_acid 평균을 계산하여 결과를 반올림하여 소수점 3자리까지 출력\n",
    "result = df['malic_acid'].mean()\n",
    "print(round(result, 3)) # 2.290"
   ]
  },
  {
   "cell_type": "markdown",
   "id": "3f2e5e92",
   "metadata": {},
   "source": [
    "#### 2-3) 펭귄 부리 깊이 특성 분석\n",
    "\n",
    "펭귄의 날개 길이와 부리 깊이는 종(species)에 따라 다르게 분포한다. 이 문제에서는 특정 조건을 만족하는 펭귄들의 부리 깊이 특성을 분석하고자 한다.\n",
    "\n",
    "다음 작업을 수행하세요.\n",
    "\n",
    "* penguins01.csv파일을 사용하도록 합니다.\n",
    "* 모든 결측치를 제거합니다. (결측치가 1개라도 포함된 행 제거를 합니다.)\n",
    "* species가 'Chinstrap'이면서 flipper_length_mm이 40% 분위수 이상인 펭귄들만 필터링하여 사용합니다.\n",
    "* 위에서 필터링된 데이터에서 bill_depth_mm이 해당 그룹의 중앙값보다 큰 개체의 수를 출력합니다."
   ]
  },
  {
   "cell_type": "code",
   "execution_count": 7,
   "id": "d1447b87",
   "metadata": {},
   "outputs": [],
   "source": [
    "# 데이터확인\n",
    "import pandas as pd\n",
    "pd.set_option('display.width', 120)\n",
    "filename = \"https://raw.githubusercontent.com/Soyoung-Yoon/bigdata/main/penguins01.csv\"\n",
    "df = pd.read_csv(filename)\n",
    "# print(df.head())\n",
    "# print(df.isna().sum().to_frame().T)\n",
    "\n",
    "# 모든 결측치 제거\n",
    "df = df.dropna()\n",
    "# print(df.isna().sum().to_frame().T)\n",
    "\n",
    "# Chinstrap이면서 flipper_length_mm가 40% 분위수 이상인 펭귄들 필터\n",
    "df = df.loc[(df['species'] == 'Chinstrap') & (df['flipper_length_mm'] >= df['flipper_length_mm'].quantile(0.4))]\n",
    "# print(df.shape[0])\n",
    "# print(df.head())\n",
    "\n",
    "# 필터링 데이터에서 bill_depth_mm이 해당그룹의 중앙값보다 큰 개체의 수 출력\n",
    "result = len(df[df['bill_depth_mm'] > df['bill_depth_mm'].median()]) # >= -> >로 수정\n",
    "# print(result) # 22 -> 18"
   ]
  },
  {
   "cell_type": "markdown",
   "id": "d5ed8812",
   "metadata": {},
   "source": [
    "#### 2-4) 다이아몬드 컷 등급별 특성 비교\n",
    "\n",
    "다이아몬드의 cut 등급에 따라 가격과 깊이(depth) 특성이 달라집니다. 이 문제에서는 가장 저렴한 cut과 가장 비싼 cut의 내부 특성을 비교 분석합니다.\n",
    "\n",
    "다음 작업을 수행하세요.\n",
    "\n",
    "* diamonds.csv파일을 사용하도록 합니다.\n",
    "* 다음의 두 값(A, B)를 구하고 이 두값을 더한 결과를 정수로 출력합니다.\n",
    "* A: 평균 가격(price)이 가장 낮은 cut의 데이터 중, depth가 해당 cut의 데이터에서 중앙값 이상인 데이터의 개수\n",
    "* B: 평균 가격(price)이 가장 높은 cut의 데이터 중, depth가 해당 cut의 데이터 평균 depth보다 작은 데이터의 개수"
   ]
  },
  {
   "cell_type": "code",
   "execution_count": null,
   "id": "17398c7e",
   "metadata": {},
   "outputs": [
    {
     "name": "stdout",
     "output_type": "stream",
     "text": [
      "17441 <class 'int'>\n"
     ]
    }
   ],
   "source": [
    "# 데이터 확인\n",
    "import pandas as pd\n",
    "pd.set_option('display.width', 120)\n",
    "filename = \"https://raw.githubusercontent.com/Soyoung-Yoon/bigdata/main/diamonds.csv\"\n",
    "df = pd.read_csv(filename)\n",
    "# print(df.head())\n",
    "# print(df.shape) (53940, 10)\n",
    "\n",
    "# cut별 평균 price 구하기\n",
    "cut_price =df.groupby('cut')['price'].mean()\n",
    "\n",
    "# (수정) 평균가격(price)이 가장 낮은 cut의 데이터\n",
    "df_low = df[df['cut']==cut_price.idxmin()].copy()\n",
    "\n",
    "# 추출결과의 depth 중앙값 이상인 데이터의 개수(A)\n",
    "A = len(df_low[df_low['depth'] >= df_low['depth'].median()])\n",
    "# print(A) # 11347\n",
    "\n",
    "# (수정) 평균가격(price)이 가장 높은 cut의 데이터\n",
    "df_high = df[df['cut'] == cut_price.idxmax()].copy()\n",
    "\n",
    "# 추출결과의 평균 depth보다 작은 데이터의 개수(B)\n",
    "B = len(df_high[df_high['depth'] < df_high['depth'].mean()])\n",
    "# print(B) # 6094\n",
    "\n",
    "# A와 B를 더한 값을 정수로 출력\n",
    "result = int(A + B)\n",
    "print(result, type(result)) # 17441 <class 'int'>"
   ]
  },
  {
   "cell_type": "markdown",
   "id": "36ee69fd",
   "metadata": {},
   "source": [
    "#### 2-5) 연도별 승객증가와 최고월 분석\n",
    "\n",
    "승객 수는 연도와 월에 따라 다르게 변동하며, 특정 연도에 큰 성장이 일어날 수 있습니다. 이 문제에서는 연도별 증가량과 해당 연도의 최고\n",
    "\n",
    "월 승객 수를 분석합니다.\n",
    "\n",
    "다음 작업을 수행하세요.\n",
    "\n",
    "* passengers.csv를 사용하세요.\n",
    "* 연도(year)별 총 승객 수(passengers)를 계산한 후, 연도 중 가장 승객 수가 많이 증가한 연도(year)를 구합니다.\n",
    "* 이때, 첫 번째 연도는 증가치를 0으로 사용합니다.\n",
    "* 위의 결과로 구한 연도(year)에서 가장 승객이 많았던 달(month)의 승객수를 정수로 출력합니다."
   ]
  },
  {
   "cell_type": "code",
   "execution_count": null,
   "id": "9cd964db",
   "metadata": {},
   "outputs": [
    {
     "name": "stdout",
     "output_type": "stream",
     "text": [
      "622\n"
     ]
    }
   ],
   "source": [
    "# 데이터 확인\n",
    "import pandas as pd\n",
    "pd.set_option('display.width', 120)\n",
    "filename=\"https://raw.githubusercontent.com/Soyoung-Yoon/bigdata/main/flights.csv\"\n",
    "df = pd.read_csv(filename)\n",
    "# print(df.head())\n",
    "\n",
    "# 연도별 총 승객 수 계산\n",
    "s = df.groupby('year')[['passengers']].sum()\n",
    "# print(s)\n",
    "\n",
    "# 연도 중 가장 승객 수가 많이 증가한 연도 구하기\n",
    "s['diff'] = s['passengers'].diff().fillna(0)\n",
    "max_year = s.idxmax().values[0]\n",
    "# print(max_year)\n",
    "\n",
    "# 위의 결과로 구한 연도에서 가장 승객이 많았던 달의 숭객 수를 정수로 출력\n",
    "result = df.loc[df['year'] == max_year, 'month':'passengers'].max().values[1]\n",
    "# print(int(result)) 622"
   ]
  },
  {
   "cell_type": "code",
   "execution_count": null,
   "id": "efc435d5",
   "metadata": {},
   "outputs": [],
   "source": []
  }
 ],
 "metadata": {
  "kernelspec": {
   "display_name": "study",
   "language": "python",
   "name": "python3"
  },
  "language_info": {
   "codemirror_mode": {
    "name": "ipython",
    "version": 3
   },
   "file_extension": ".py",
   "mimetype": "text/x-python",
   "name": "python",
   "nbconvert_exporter": "python",
   "pygments_lexer": "ipython3",
   "version": "3.10.16"
  }
 },
 "nbformat": 4,
 "nbformat_minor": 5
}
