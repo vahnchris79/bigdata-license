{
 "cells": [
  {
   "cell_type": "code",
   "execution_count": 2,
   "id": "8a2c690b",
   "metadata": {},
   "outputs": [],
   "source": [
    "import pandas as pd"
   ]
  },
  {
   "cell_type": "markdown",
   "id": "a87b14dd",
   "metadata": {},
   "source": [
    "#### 4회-1번) 신상데이터\n",
    "\n",
    "'age' 컬럼은 사용자의 나이를 나타내는 정보이며, 나이 분포의 범위를 이해하기 위한 분석을 수행하고자 한다.\n",
    "\n",
    "다음 절차에 따라 문제를 해결하시오.\n",
    "\n",
    "* (가) age 컬럼의 제1사분위수와 제3사분위수를 구하시오\n",
    "* (나) 두 값의 차이 절댓값을 구하시오\n",
    "* (다) (나)의 결과를 소수점 이하를 버리고 정수로 출력한다."
   ]
  },
  {
   "cell_type": "code",
   "execution_count": 20,
   "id": "6c4a69a5",
   "metadata": {},
   "outputs": [],
   "source": [
    "\n",
    "path = \"https://raw.githubusercontent.com/Soyoung-Yoon/bigdata/main/\"\n",
    "df = pd.read_csv(path + 'basic1_data04.csv')\n",
    "# print(df.head(3))\n",
    "\n",
    "# (가) age 컬럼의 제1사분위수와 제3사분위수를 구하시오\n",
    "Q1, Q3 = df['age'].quantile([0.25, 0.75])\n",
    "# print(Q1, Q3) # 26.875 77.0\n",
    "\n",
    "# (나) 두 값의 차이 절댓값을 구하시오\n",
    "result = abs(Q1 - Q3)\n",
    "# print(result) # 50.125\n",
    "\n",
    "# (다) (나)의 결과를 소수점 이하를 버리고 정수로 출력\n",
    "# print(int(result)) # 50"
   ]
  },
  {
   "cell_type": "markdown",
   "id": "20ac73f2",
   "metadata": {},
   "source": [
    "#### 4회-2번) Facebook 데이터\n",
    "\n",
    "Facebook 게시물에 대한 데이터이다. 데이터에 포함된, 사용자 반응 패턴을 분석을 수행하고자 한다.\n",
    "\n",
    "다음 절차에 따라 문제를 해결하시오.\n",
    "\n",
    "* (가) 각 데이터에 대해 (love + wows) 값을 reaction으로 나눈 비율을 계산하시오.\n",
    "* (나) 계산한 비율이 0.4보다 크고 0.5보다 작은 데이터를 필터링하시오.\n",
    "* (다) 위 조건을 만족하는 데이터 중에서 type이 'video'인 데이터의 개수를 구하여 정수형으로 출력한다."
   ]
  },
  {
   "cell_type": "code",
   "execution_count": 19,
   "id": "a40e7154",
   "metadata": {},
   "outputs": [],
   "source": [
    "\n",
    "path = \"https://raw.githubusercontent.com/Soyoung-Yoon/bigdata/main/\"\n",
    "df = pd.read_csv(path + \"fb_data04.csv\")\n",
    "# print(df.head())\n",
    "\n",
    "# (가) (lov + wow) / reactions 의 비율\n",
    "df['ratio'] = (df['loves'] + df['wows']) / df['reactions']\n",
    "# print(df.head())\n",
    "\n",
    "# (나) 계산한 비율이 0.4보다 크고 0.5보다 작은 데이터를 필터링\n",
    "filtered = df[(df['ratio'] > 0.4) & (df['ratio'] < 0.5)]\n",
    "# print(filtered.head())\n",
    "\n",
    "# (다) 위 조건을 만족하는 데이터 중에서 type이 'video'인 데이터의 개수를 구하여 정수형으로 출력\n",
    "result = len(filtered[filtered['type'] == 'video'])\n",
    "# print(int(result)) # 90"
   ]
  },
  {
   "cell_type": "markdown",
   "id": "6cfba06c",
   "metadata": {},
   "source": [
    "#### 4회-3번) 넷플릭스 데이터\n",
    "\n",
    "Netflix 콘텐츠 정보를 담은 데이터셋을 사용하여, 2018년 1월에 추가된 콘텐츠 중 제작국가가 'United Kingdom'인 데이터를 검색하고자 한다.\n",
    "\n",
    "다음 절차에 따라 문제를 해결하시오.\n",
    "\n",
    "* (가) date_added 컬럼에서 2018년 1월에 추가된 데이터를 선택하시오.\n",
    "* (나) country 컬럼의 값이 'United Kingdom'만 포함된 데이터를 필터링하시오.\n",
    "* (다) 위 조건을 모두 만족하는 데이터의 개수를 정수형으로 출력한다."
   ]
  },
  {
   "cell_type": "code",
   "execution_count": null,
   "id": "08f9833d",
   "metadata": {},
   "outputs": [
    {
     "name": "stdout",
     "output_type": "stream",
     "text": [
      "6\n"
     ]
    }
   ],
   "source": [
    "pd.set_option('display.width', 120)\n",
    "path = \"https://raw.githubusercontent.com/Soyoung-Yoon/bigdata/main/\"\n",
    "df = pd.read_csv(path + \"nf_data04.csv\")\n",
    "# print(df.head())\n",
    "\n",
    "# (가) date_added컬럼에서 2018년 1월에 추가된 데이터를 선택하시오\n",
    "df['date_added'] = pd.to_datetime(df['date_added'])\n",
    "# print(df.head())\n",
    "df_date = df[df['date_added'].astype(str).str.contains('2018-01')]\n",
    "# print(df_date.head())\n",
    "\n",
    "# (나) country 컬럼의 값이 'United Kingdom'만 포함된 데이터를 필터링\n",
    "filtered = df_date[df_date['country'] == 'United Kingdom']\n",
    "\n",
    "# (다) 위 조건을 모두 만족하는 데이터의 개수를 정수형으로 출력한다.\n",
    "result = len(filtered)\n",
    "# print(int(result)) # 6"
   ]
  },
  {
   "cell_type": "markdown",
   "id": "3bacc2e6",
   "metadata": {},
   "source": [
    "#### 중급, 상급문제\n",
    "\n",
    "12-4) 총 매출액 구하기\n",
    "\n",
    "특정 품목의 한 달간 매출액을 계산함으로써 품목별 성과를 모니터링하고 향후 판매 전략에 반영하고자 합니다.\n",
    "* sales_data.csv: 매출 발생 일자(sale_date), 품목 ID(item_id), 판매 수량(quantity)를 포함하는 데이터\n",
    "* price_list.csv: 품목 ID(item_id)와 해당 품목의 단가(unit_price)를 포함하는 데이터\n",
    "\n",
    "두 데이터셋을 활용하여 다음 절차에 따라 문제를 해결하시오\n",
    "\n",
    "1. sales_data.csv와 price_list.csv를 item_id를 기준으로 병합(merge)하시오.\n",
    "2. 병합된 데이터에 대해 매출액(sale_amount)를 구하시오.\n",
    "* 매출액(sales_amount) = 판매 수량(quantity) * 단가(unit_price)\n",
    "3. 2024년 6월에 판매된 'ITEM_001'에 대한 총 매출액을 구하여, 정수형으로 출력한다."
   ]
  },
  {
   "cell_type": "code",
   "execution_count": 43,
   "id": "596a1abe",
   "metadata": {},
   "outputs": [],
   "source": [
    "\n",
    "path = \"https://raw.githubusercontent.com/Soyoung-Yoon/data_01/main/\"\n",
    "df1 = pd.read_csv(path + \"sales_data.csv\")\n",
    "df2 = pd.read_csv(path + \"price_list.csv\")\n",
    "# print(df1.head())\n",
    "# print(df2.head())\n",
    "# print(df1.shape, df2.shape)\n",
    "\n",
    "# 1. 데이터 병합\n",
    "df_all = df1.merge(df2, how=\"left\", on=\"item_id\")\n",
    "# print(df_all.head())\n",
    "# print(df_all.shape)\n",
    "\n",
    "# 2. 매출액(sale_amount) 구하기\n",
    "df_all['sale_amount'] = df_all['quantity'] * df_all['unit_price']\n",
    "# print(df_all.head())\n",
    "\n",
    "# 3. 2024년 6월에 판매된 'ITEM_001'에 대한 총 매출액을 정수형으로 출력\n",
    "# print(df_all.info())\n",
    "result = int(df_all[(df_all['sale_date'].str.startswith('2024-06')) & (df_all['item_id'] == 'ITEM_001')]['sale_amount'].sum())\n",
    "# print(result) # 405720"
   ]
  },
  {
   "cell_type": "markdown",
   "id": "f75e86cf",
   "metadata": {},
   "source": [
    "12-5) 총 매출액 구하기\n",
    "\n",
    "월별로 가장 높은 매출을 기록한 품목을 파악하여 인기 품목의 추세를 분석하고자 한다.\n",
    "* sales_data01.csv: 매출 발생 일자(sale_date), 품목 ID(item_id), 판매 수량(quantity)를 포함하는 데이터\n",
    "* price_list.csv: 품목 ID(item_id)와 해당 품목의 단가(unit_price)를 포함하는 데이터\n",
    "\n",
    "두 데이터셋을 활용하여 다음 절차에 따라 문제를 해결하시오\n",
    "\n",
    "1. sales_data01.csv와 price_list.csv를 item_id를 기준으로 병합(merge)하시오.\n",
    "2. 병합된 데이터에 '년도(year)', '월(month)', '매출액(sales_amount)' 컬럼을 추가하시오.\n",
    "* 매출액(sales_amount) = 판매 수량(quantity) * 단가(unit_price)\n",
    "3. 각 (년도, 월, item_id)별로 매출액을 집계하시오\n",
    "4. 각 (년도, 월)별로 매출액이 가장 높은 item_id를 찾으시오\n",
    "5. 가장 높은 매출을 기록한 item_id의 빈도를 계산하여 가장 빈도가 높은 item_id의 숫자부분만 정수로 출력하시오."
   ]
  },
  {
   "cell_type": "code",
   "execution_count": 86,
   "id": "e5bb0081",
   "metadata": {},
   "outputs": [],
   "source": [
    "\n",
    "path = \"https://raw.githubusercontent.com/Soyoung-Yoon/data_01/main/\"\n",
    "df1 = pd.read_csv(path + \"sales_data01.csv\")\n",
    "df2 = pd.read_csv(path + \"price_list.csv\")\n",
    "# print(df1.head())\n",
    "# print(df2.head())\n",
    "# print(df1.shape, df2.shape) # (10937, 3) (10, 2)\n",
    "\n",
    "# 1. 데이터 병합\n",
    "df_all = df1.merge(df2, how=\"left\", on=\"item_id\")\n",
    "# print(df_all.head())\n",
    "\n",
    "# 2. 병합된 데이터에서 년도, 월, 매출액 컬럼을 추가\n",
    "df_all['year'] = df_all['sale_date'].str[:4]\n",
    "df_all['month'] = df_all['sale_date'].str[5:7]\n",
    "df_all['sale_amount'] = df_all['quantity'] * df_all['unit_price']\n",
    "# print(df_all.head())\n",
    "\n",
    "# 3. 각 년도, 월, item_id별 매출액 집계\n",
    "df3 = df_all.groupby(['year','month','item_id'])['sale_amount'].sum().reset_index()\n",
    "# print(df3.head())\n",
    "\n",
    "# 4. 각 년도, 월별로 매출액이 가장 높은 item_id을 찾으시오\n",
    "df3_idx = df3.groupby(['year', 'month'])['sale_amount'].idxmax()\n",
    "top_items = df3.iloc[df3_idx].reset_index(drop=True).sort_values('sale_amount', ascending=False)\n",
    "\n",
    "# 5. 가장 높은 매출을 기록한 item_id의 빈도를 계산하여 가장 빈도가 높은 item_id의 숫자부분만 정수로 출력하시오\n",
    "result = int(top_items['item_id'].value_counts().index[0].split('_')[1])\n",
    "# print(result) # 10"
   ]
  }
 ],
 "metadata": {
  "kernelspec": {
   "display_name": "study",
   "language": "python",
   "name": "python3"
  },
  "language_info": {
   "codemirror_mode": {
    "name": "ipython",
    "version": 3
   },
   "file_extension": ".py",
   "mimetype": "text/x-python",
   "name": "python",
   "nbconvert_exporter": "python",
   "pygments_lexer": "ipython3",
   "version": "3.10.16"
  }
 },
 "nbformat": 4,
 "nbformat_minor": 5
}
