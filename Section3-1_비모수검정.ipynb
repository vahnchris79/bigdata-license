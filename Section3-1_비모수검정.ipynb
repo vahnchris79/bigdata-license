{
 "cells": [
  {
   "cell_type": "markdown",
   "id": "2bb2ac09",
   "metadata": {},
   "source": [
    "#### 3-01. 카이제곱 적합도 검정\n",
    "* **데이터의 분포와 기대 분포에 대한 검정**\n",
    "* 주로 알려져 있는 범주형 데이터의 분포가 사실인지 검정할 때 사용\n",
    "* 귀무가설: 데이터의 분포가 기대분포와 같다.\n",
    "* 대리가설: 데이터의 분포가 기대분포와 다르다.\n",
    "* **scipy.stats.chisquare(observed, expected)**를 사용한다.\n",
    "* **observed**와 **expected**는 **범주별 개수로 작성해야 하며, 합계가 동일해야 한다.**\n",
    "* observed: 관찰(=측정, 실제, 표본) 데이터의 범주별 개수(=분포)\n",
    "* expected: 기대분포에 따른 데이터 개수"
   ]
  },
  {
   "cell_type": "markdown",
   "id": "1fb49614",
   "metadata": {},
   "source": [
    "#### 1-01. 기대분포가 특정비율\n",
    "* A학급 40명의 혈액형 비율을 A, B, O, AB 각각 20%, 20%, 30%, 30%로 예상하였다.\n",
    "* 실제 측정결과 16, 16, 4, 4 명인 경우의 적합도 검정을 수행\n",
    "* H0: 변수의 분포가 기대분포와 같다.\n",
    "* H1: 변수의 분포가 기대분포와 다르다."
   ]
  },
  {
   "cell_type": "code",
   "execution_count": 2,
   "id": "9eab9034",
   "metadata": {},
   "outputs": [
    {
     "name": "stdout",
     "output_type": "stream",
     "text": [
      "검정통계량: 26.667, p-value: 0.000\n",
      "기각\n",
      "변수의 분포가 기대분포와 같지 않다.\n"
     ]
    }
   ],
   "source": [
    "# 문제풀이\n",
    "import pandas as pd\n",
    "import numpy as np\n",
    "from scipy.stats import chisquare\n",
    "\n",
    "observed = [16, 16, 4, 4]\n",
    "# expected = [40*0.2, 40*0.2, 40*0.3, 40*0.3]\n",
    "expected = np.array([0.2, 0.2, 0.3, 0.3]) * 40\n",
    "# print(observed, expected, sep=\"\\n\")\n",
    "\n",
    "statistic, pvalue = chisquare(observed, expected)\n",
    "print(f\"검정통계량: {statistic:.3f}, p-value: {pvalue:.3f}\")\n",
    "print(\"채택\" if pvalue > 0.05 else \"기각\")\n",
    "print(\"변수의 분포가 기대분포와 같지 않다.\")"
   ]
  },
  {
   "cell_type": "code",
   "execution_count": 4,
   "id": "5af6cc56",
   "metadata": {},
   "outputs": [
    {
     "name": "stdout",
     "output_type": "stream",
     "text": [
      "검정통계량: 26.667, p-value: 0.000\n",
      "기각\n",
      "변수의 분포가 기대분포와 같지 않다.\n"
     ]
    }
   ],
   "source": [
    "# [파일로 주어진 경우 직접 개수 계산]\n",
    "# data를 파일로 가정하고, 'blood_type'이 범주형 변수일때\n",
    "import pandas as pd\n",
    "import numpy as np\n",
    "from scipy.stats import chisquare\n",
    "\n",
    "data = {'blood_type': ['A']*16 + ['B']*16 + ['O']*4 + ['AB']*4}\n",
    "data = pd.DataFrame(data)\n",
    "data['blood_type'] = pd.Categorical(data['blood_type'], categories=['A','B','O','AB'])\n",
    "observed = [16, 16, 4, 4]\n",
    "expected = np.array([0.2, 0.2, 0.3, 0.3]) * 40\n",
    "# print(observed, expected, sep=\"\\n\")\n",
    "\n",
    "statistic, pvalue = chisquare(observed, expected)\n",
    "print(f\"검정통계량: {statistic:.3f}, p-value: {pvalue:.3f}\")\n",
    "print(\"채택\" if pvalue > 0.05 else \"기각\")\n",
    "print(\"변수의 분포가 기대분포와 같지 않다.\")"
   ]
  },
  {
   "cell_type": "markdown",
   "id": "ccbe4794",
   "metadata": {},
   "source": [
    "#### 1-02. 기대분포가 동일비율\n",
    "* 4개의 범주에 대해 동일한 비율이라고 가정하고, 실제측정한 표본분포가 다음과 같다.\n",
    "* 카이제곱 적합도 검정을 수행하여 보자\n",
    "* observed = [54, 60, 60, 60]\n",
    "* H0: 변수의 분포에 비율 차이가 없다.\n",
    "* H1: 변수의 분포에 비율 차이가 있다."
   ]
  },
  {
   "cell_type": "code",
   "execution_count": 8,
   "id": "d550985f",
   "metadata": {},
   "outputs": [
    {
     "name": "stdout",
     "output_type": "stream",
     "text": [
      "검정통계량: 2.400, p-value: 0.494\n",
      "채택\n",
      "변수의 분포에 비율 차이가 없다.\n"
     ]
    }
   ],
   "source": [
    "# 기대비율이 동일비율인 경우에 대한 카이제곱 적합도 검정 수행\n",
    "import numpy as np\n",
    "from scipy.stats import chisquare\n",
    "\n",
    "observed = [54, 46, 60, 60]\n",
    "expected = np.array([0.25] * 4) * sum(observed)\n",
    "# print(observed, expected, sep=\"\\n\")\n",
    "\n",
    "statistic, pvalue = chisquare(observed, expected)\n",
    "print(f\"검정통계량: {statistic:.3f}, p-value: {pvalue:.3f}\")\n",
    "print(\"채택\" if pvalue > 0.05 else \"기각\")\n",
    "print(\"변수의 분포에 비율 차이가 없다.\")"
   ]
  },
  {
   "cell_type": "code",
   "execution_count": null,
   "id": "52f98741",
   "metadata": {},
   "outputs": [],
   "source": []
  }
 ],
 "metadata": {
  "kernelspec": {
   "display_name": "study",
   "language": "python",
   "name": "python3"
  },
  "language_info": {
   "codemirror_mode": {
    "name": "ipython",
    "version": 3
   },
   "file_extension": ".py",
   "mimetype": "text/x-python",
   "name": "python",
   "nbconvert_exporter": "python",
   "pygments_lexer": "ipython3",
   "version": "3.10.16"
  }
 },
 "nbformat": 4,
 "nbformat_minor": 5
}
