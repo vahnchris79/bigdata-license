{
 "cells": [
  {
   "cell_type": "code",
   "execution_count": 1,
   "id": "ae27201f",
   "metadata": {},
   "outputs": [],
   "source": [
    "import pandas as pd\n",
    "pd.set_option(\"display.max_rows\", 100)\n",
    "pd.set_option(\"display.max_columns\", 100)\n",
    "import warnings\n",
    "warnings.filterwarnings(\"ignore\")\n",
    "\n",
    "path1 = \"https://raw.githubusercontent.com/Soyoung-Yoon/bigdata/main/\"\n",
    "path2 = \"https://raw.githubusercontent.com/Soyoung-Yoon/data_01/main/\"\n"
   ]
  },
  {
   "cell_type": "markdown",
   "id": "66ac7ce0",
   "metadata": {},
   "source": [
    "**2회-1번) 보스턴 주택 가격**\n",
    "\n",
    "보스턴 주택 가격 데이터셋(Boston)을 사용해 극단적인 값이 분석에 미치는 영향을 줄이기 위한 전처리 과정을 수행한 뒤, 특정 조건에 해당하는 평균 범죄율을 확인하려 한다.\n",
    "\n",
    "다음 절차에 따라 문제를 해결하시오.\n",
    "- 1) 범죄율(CRIM)컬럼에서 TOP10(즉, 상위 10위)을 찾는다.\n",
    "- 2) 이 중 10번째 값으로, 상위 10개의 값을 모두 대체한다.\n",
    "- 3) 값을 변경한 데이터에서 AGE 변수가 80이상인 것을 대상으로, 범죄율의 평균을 산출한다.\n",
    "- 4) 산출된 평균을 반올림하여 소수점 아래 4자리까지 출력한다."
   ]
  },
  {
   "cell_type": "code",
   "execution_count": null,
   "id": "34cdc4ae",
   "metadata": {},
   "outputs": [
    {
     "name": "stdout",
     "output_type": "stream",
     "text": [
      "16.8118\n"
     ]
    }
   ],
   "source": [
    "df = pd.read_csv(path1 + \"boston.csv\")\n",
    "# print(df.head(3), df.info(), df.shape, sep=\"\\n\") # (506, 14)\n",
    "\n",
    "# 범죄율(CRIM)컬럼에서 TOP10(즉, 상위 10위)을 찾는다\n",
    "df = df[df['CRIM'] > df['CRIM'].quantile(0.9)]\n",
    "# print(df.shape) # (51, 14)\n",
    "# 이 중 10번째 값으로, 상위 10개의 값을 모두 대체한다.\n",
    "df['CRIM'] = df['CRIM'][10:11].values[0]\n",
    "# print(df)\n",
    "\n",
    "# 값을 변경한 데이터에서 AGE 변수가 80이상인 것을 대상으로, 범죄율의 평균을 산출한다.\n",
    "result = df[df['AGE'] >= 80]['CRIM'].mean()\n",
    "\n",
    "# 산출된 평균을 반올림하여 소수점 아래 4자리까지 출력\n",
    "print(round(result, 4)) # 16.8118"
   ]
  },
  {
   "cell_type": "markdown",
   "id": "2130d7bf",
   "metadata": {},
   "source": [
    "**2회-2번) 캘리포니아 주택 정보 - 결측값**\n",
    "\n",
    "캘리포니아 주택 정보 데이터셋(Housing)의 앞부분만 사용하여 결측값 처리 전후의 변화를 비교해보는 연습을 진행한다.\n",
    "\n",
    "다음 절차에 따라 문제를 해결하시오.\n",
    "- 1) 전체 데이터의 첫 번째 행부터 순서대로 80%에 해당하는 데이터만 추출하여 사용한다.\n",
    "- 2) 추출된 데이터에서 total_bedrooms 변수에 결측값이 있다면, 해당 결측값을 total_bedrooms 변수의 중앙값으로 대체한다.\n",
    "- 3) 결측값을 대체하기 전과 후의 total_bedrooms 변수의 표준편차를 각각 계산한다.\n",
    "- 4) 마지막으로, 대체 전 표준편차 - 대체 후 표준편차의 값을 구하고, 반올림하여 소수점 아래 3자리까지 출력한다."
   ]
  },
  {
   "cell_type": "code",
   "execution_count": null,
   "id": "77218a1b",
   "metadata": {},
   "outputs": [
    {
     "name": "stdout",
     "output_type": "stream",
     "text": [
      "1.975\n"
     ]
    }
   ],
   "source": [
    "df = pd.read_csv(path1 + \"housing.csv\")\n",
    "# print(df.head(3), df.shape, sep=\"\\n\") # (20640, 10)\n",
    "\n",
    "# 전체 데이터의 첫 번째 행부터 순서대로 80%에 해당하는 데이터만 추출하여 사용한다\n",
    "df = df.loc[:int(len(df) * 0.8),:].copy()\n",
    "# print(df.shape) # (16513, 10)\n",
    "\n",
    "# 추출된 데이터에서 total_bedrooms 변수에 결측값이 있다면, 해당 결측값을 total_bedrooms 변수의 중앙값으로 대체한다.\n",
    "# print(df.isna().sum().to_frame().T) # 159\n",
    "df2 = df.copy()\n",
    "df2['total_bedrooms'] = df2['total_bedrooms'].fillna(df2['total_bedrooms'].median())\n",
    "# print(df2.isna().sum().to_frame().T)\n",
    "\n",
    "# 결측값을 대체하기 전과 후의 total_bedrooms 변수의 표준편차를 각각 계산한다.\n",
    "before_std = df['total_bedrooms'].std(ddof=1)\n",
    "after_std = df2['total_bedrooms'].std(ddof=1)\n",
    "\n",
    "# 대체 전 표준편차 - 대체 후 표준편차의 값을 구하고, 반올림하여 소수점 아래 3자리까지 출력한다.\n",
    "result = round(before_std - after_std, 3)\n",
    "print(result) # 1.975"
   ]
  },
  {
   "cell_type": "markdown",
   "id": "88483f43",
   "metadata": {},
   "source": [
    "**2회 3번) 캘리포니아 주택 정보 - 이상값**\n",
    "\n",
    "캘리포니아 주택 정보 데이터셋(Housing)을 사용하여 latitude 컬럼의 이상값을 찾아 그 합을 계산한다.\n",
    "\n",
    "다음 절차에 따라 문제를 해결하시오.\n",
    "- 1) 'latitude' 컬럼의 이상값를 찾아, 이상치들의 합을 산출하시오.\n",
    "- 2) 이상치 기준은 다음과 같다.\n",
    "> 평균 - (표준편차 * 1.5), 평균 + (표준편차 * 1.5)\n",
    "- 3) 계산 결과를 반올림하여 정수형으로 출력한다."
   ]
  },
  {
   "cell_type": "code",
   "execution_count": null,
   "id": "7fe25e6b",
   "metadata": {},
   "outputs": [
    {
     "name": "stdout",
     "output_type": "stream",
     "text": [
      "45816\n"
     ]
    }
   ],
   "source": [
    "df = pd.read_csv(path1 + \"housing.csv\")\n",
    "# print(df.head(3), df.shape, sep=\"\\n\") # (20640, 10)\n",
    "\n",
    "# 'latitude' 컬럼의 이상값를 찾아, 이상치들의 합을 산출하시오\n",
    "# 이상치 기준: 평균 - (표준편차 * 1.5), 평균 + (표준편차 * 1.5)\n",
    "mean_lat = df['latitude'].mean()\n",
    "std_lat = df['latitude'].std(ddof=1)\n",
    "lower = mean_lat - (std_lat * 1.5)\n",
    "upper = mean_lat + (std_lat * 1.5)\n",
    "df = df[(df['latitude'] < lower) | (df['latitude'] > upper)].copy()\n",
    "# print(df.shape) # (1151, 10)\n",
    "result = df['latitude'].sum()\n",
    "\n",
    "# 계산 결과를 반올림하여 정수형으로 출력\n",
    "print(round(result)) # 45816\n"
   ]
  },
  {
   "cell_type": "markdown",
   "id": "c938149c",
   "metadata": {},
   "source": [
    "**10-4) 최다 발생/검거 범죄유형의 빈도 분석**\n",
    "\n",
    "연도별로 가장 많이 발생하거나 검거된 범죄유형을 조사하여, 자주 1위를 기록한 유형은 우선적으로 대응하려합니다.\n",
    "\n",
    "다음 절차에 따라 문제를 해결하시오.\n",
    "- 1) 연도별로 '발생건수'에 대해 가장 많이 발생하는 범죄유형을 찾고, 가장 많이 1위를 차지한 범죄유형의 번호를 A라고한다.\n",
    "- 2) 연도별로 '검거건수'에 대해 가장 많이 발생하는 범죄유형을 찾고, 가장 많이 1위를 차지한 범죄유형의 번호를 B라고한다.\n",
    "- 3) A, B의 범죄유형 번호를 정수로 사용하여 두 번호의 합을 구해 출력한다.\n",
    "- 예) 범죄유형4 -> 4를 사용하고, 범죄유형8 -> 8로 사용하여 두 번호의 합으로 12를 출력합니다."
   ]
  },
  {
   "cell_type": "code",
   "execution_count": null,
   "id": "88a37e36",
   "metadata": {},
   "outputs": [
    {
     "name": "stdout",
     "output_type": "stream",
     "text": [
      "13\n"
     ]
    }
   ],
   "source": [
    "df = pd.read_csv(path2 + \"crime_data02.csv\")\n",
    "# print(df.head(3), df.info(), sep=\"\\n\")\n",
    "\n",
    "# 연도별로 '발생건수'에 대해 가장 많이 발생하는 범죄유형을 찾고, 가장 많이 1위를 차지한 범죄유형의 번호를 A라고한다.\n",
    "cols = [col for col in df.columns if '유형' in col]\n",
    "df = df.melt(id_vars=['연도','구분'], value_vars=cols, var_name='유형', value_name='건수')\n",
    "A = df[df['구분']=='발생건수'].groupby(['연도','유형'])['건수'].sum().idxmax()[1][-1]\n",
    "\n",
    "# 연도별로 '검거건수'에 대해 가장 많이 발생하는 범죄유형을 찾고, 가장 많이 1위를 차지한 범죄유형의 번호를 B라고한다.\n",
    "B = df[df['구분']=='검거건수'].groupby(['연도','유형'])['건수'].sum().idxmax()[1][-1]\n",
    "\n",
    "# A, B의 범죄유형 번호를 정수로 사용하여 두 번호의 합을 구해 출력한다.\n",
    "print(int(A) + int(B)) # 13"
   ]
  },
  {
   "cell_type": "markdown",
   "id": "5bead2b2",
   "metadata": {},
   "source": [
    "**10-5) 연도별 발생 대비 검거 차이 분석**\n",
    "\n",
    "범죄 발생과 검거 간의 차이는 치안의 효율성을 나타낸다. 어느 해에 그 차이가 가장 컸는지 확인해 본다.\n",
    "\n",
    "다음 절차에 따라 문제를 해결하시오.\n",
    "- 1) 연도별로 '발생건수' 합계와 '검거건수' 합계를 구한 뒤, 그 차이를 계산한다.\n",
    "> 차이 = '발생건수' 합계 - '검거건수' 합계\n",
    "- 2) 차이가 가장 큰 연도의 연도값을 정수로 출력한다."
   ]
  },
  {
   "cell_type": "code",
   "execution_count": null,
   "id": "c0e7fee3",
   "metadata": {},
   "outputs": [
    {
     "name": "stdout",
     "output_type": "stream",
     "text": [
      "2018\n"
     ]
    }
   ],
   "source": [
    "df = pd.read_csv(path2 + \"crime_data02.csv\")\n",
    "# print(df.head(3))\n",
    "\n",
    "# 연도별로 '발생건수' 합계와 '검거건수' 합계를 구한 뒤, 그 차이를 계산한다.\n",
    "# 차이 = '발생건수' 합계 - '검거건수' 합계\n",
    "cols = [col for col in df.columns if '유형' in col]\n",
    "df = df.melt(id_vars=['연도','구분'], value_vars=cols, var_name=\"유형\", value_name=\"건수\")\n",
    "execute = df[df['구분'] == '발생건수'].groupby('연도', as_index=False)['건수'].sum().reset_index().drop(columns='index')\n",
    "execute.columns = ['연도','발생건수']\n",
    "catch = df[df['구분'] == '검거건수'].groupby('연도', as_index=False)['건수'].sum().reset_index().drop(columns='index')\n",
    "catch.columns = ['연도','검거건수']\n",
    "df2 = pd.merge(execute, catch, \"left\", \"연도\")\n",
    "df2['차이'] = df2['발생건수'] - df2['검거건수']\n",
    "# print(df2)\n",
    "\n",
    "# 차이가 가장 큰 연도의 연도값을 정수로 출력한다.\n",
    "print(int(df2[df2.index == df2['차이'].idxmax()]['연도'])) # 2018"
   ]
  },
  {
   "cell_type": "code",
   "execution_count": null,
   "id": "2a8a27b0",
   "metadata": {},
   "outputs": [],
   "source": []
  }
 ],
 "metadata": {
  "kernelspec": {
   "display_name": "study",
   "language": "python",
   "name": "python3"
  },
  "language_info": {
   "codemirror_mode": {
    "name": "ipython",
    "version": 3
   },
   "file_extension": ".py",
   "mimetype": "text/x-python",
   "name": "python",
   "nbconvert_exporter": "python",
   "pygments_lexer": "ipython3",
   "version": "3.10.16"
  }
 },
 "nbformat": 4,
 "nbformat_minor": 5
}
