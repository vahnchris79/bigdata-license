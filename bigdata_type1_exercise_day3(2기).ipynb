{
 "cells": [
  {
   "cell_type": "code",
   "execution_count": 1,
   "id": "f963090e",
   "metadata": {},
   "outputs": [],
   "source": [
    "import pandas as pd\n",
    "pd.set_option('display.max_columns', 100)\n",
    "import warnings\n",
    "warnings.filterwarnings('ignore')\n",
    "\n",
    "path1 = \"https://raw.githubusercontent.com/Soyoung-Yoon/bigdata/main/\"\n",
    "path2 = \"https://raw.githubusercontent.com/Soyoung-Yoon/data_01/main/\""
   ]
  },
  {
   "cell_type": "markdown",
   "id": "d3cf72ff",
   "metadata": {},
   "source": [
    "**3-1) 중간 수준 출력 차량의 지역별 연비 특성 분석**\n",
    "\n",
    "차량의 마력(horsepower)과 연비(mpg)의 관련성을 알기위해 중간 성능대 차량의 지역별 연비 경향을 분석한다.\n",
    "\n",
    "다음 절차에 따라 문제를 해결하시오.\n",
    "- horsepower 값이 전체에서 하위 20% 이상, 상위 20% 이하인 차량만을 대상으로 한다. (즉, horsepower가 전체의 20% 분위수 이상, 80% 분위수 이하인 데이터만 필터링)\n",
    "- 이후, 필터링된 데이터에서 origin별로 연비(mpg)의 중앙값을 계산하고, 그 중 가장 큰 값과 가장 작은 값의 차이를 반올림하여 정수로 출력한다."
   ]
  },
  {
   "cell_type": "code",
   "execution_count": null,
   "id": "894df600",
   "metadata": {},
   "outputs": [
    {
     "name": "stdout",
     "output_type": "stream",
     "text": [
      "6\n"
     ]
    }
   ],
   "source": [
    "df = pd.read_csv(path2 + \"mpg02.csv\")\n",
    "# print(df.head(3), df.shape) # (400, 9)\n",
    "\n",
    "# horsepower 값이 전체에서 하위 20% 이상, 상위 20% 이하인 차량만을 대상\n",
    "df = df[(df['horsepower'] >= df['horsepower'].quantile(0.2)) & \n",
    "        (df['horsepower'] <= df['horsepower'].quantile(0.8))]\n",
    "# print(df.shape) # (240, 9)\n",
    "\n",
    "# 필터링된 데이터에서 origin별로 연비(mpg)의 중앙값을 계산\n",
    "median = df.groupby('origin')['mpg'].transform('median')\n",
    "\n",
    "# 그 중 가장 큰 값과 가장 작은 값의 차이를 반올림하여 정수로 출력\n",
    "result = round(median.max() - median.min())\n",
    "print(result) # 6\n"
   ]
  },
  {
   "cell_type": "markdown",
   "id": "696ca7c6",
   "metadata": {},
   "source": [
    "**3-2) 이상적인 컷의 고캐럿 다이아몬드 가격 분포 분석**\n",
    "\n",
    "다이아몬드의 cut 등급과 carat(중량)은 가격에 큰 영향을 미칩니다. 이 문제에서는 이상적인 컷(Ideal)과 고캐럿 조건을 만족하는 다이아몬드들의 가격 분포를 분석합니다.\n",
    "\n",
    "다음 작업을 수행하세요.\n",
    "- diamonds.csv를 사용합니다.\n",
    "- 다이아몬드 중에서 cut 등급이 Ideal이고, carat이 전체 다이아몬드 평균보다 큰 데이터만을 필터링한다.\n",
    "- 이렇게 필터링된 데이터에서 price의 사분위 범위 (IQR, Interquartile Range) 를 결과로 구합니다.\n",
    "- IQR = Q3 - Q1\n",
    "    - Q1: 1사분위수 (25%), Q3: 3사분위수 (75%)\n",
    "- 결과를 정수로 출력합니다."
   ]
  },
  {
   "cell_type": "code",
   "execution_count": null,
   "id": "f7ced29c",
   "metadata": {},
   "outputs": [
    {
     "name": "stdout",
     "output_type": "stream",
     "text": [
      "5336\n"
     ]
    }
   ],
   "source": [
    "df = pd.read_csv(path1 + \"diamonds.csv\")\n",
    "# print(df.head(3), df.shape) # (53940, 10)\n",
    "\n",
    "# 다이아몬드 중에서 cut 등급이 Ideal이고, carat이 전체 다이아몬드 평균보다 큰 데이터만을 필터링\n",
    "df = df[(df['cut']=='Ideal') & (df['carat'] > df['carat'].mean())].copy()\n",
    "# print(df.shape) # (6761, 10)\n",
    "\n",
    "# 필터링된 데이터에서 price의 사분위 범위 (IQR, Interquartile Range)를 결과로 구함\n",
    "# IQR = Q3 - Q1, Q1: 1사분위수 (25%), Q3: 3사분위수 (75%)\n",
    "IQR = df['price'].quantile(0.75) - df['price'].quantile(0.25)\n",
    "print(int(IQR)) # 5336\n"
   ]
  },
  {
   "cell_type": "markdown",
   "id": "79753c1e",
   "metadata": {},
   "source": [
    "**3-3) 붓꽃의 품종별 특성 분석**\n",
    "\n",
    "붓꽃(iris) 품종은 꽃받침 길이(sepal_length)와 꽃잎 너비(petal_width)에 따라 구분되는 특성이 있습니다. 이 문제에서는 두 가지 기준을 동시에 만족하는 표본의 수를 알아봅니다.\n",
    "\n",
    "다음 작업을 수행하세요.\n",
    "- 붓꽃 데이터셋(iris01.csv)을 사용합니다.\n",
    "- 아래의 두 조건을 모두 만족하는 표본의 개수를 구합니다.\n",
    "- 조건1: sepal_length가 해당 품종(species)별 평균보다 큰 데이터\n",
    "- 조건2: petal_width가 0.2 이상인 데이터\n",
    "- 단, species는 'setosa', 'versicolor', 'virginica'의 3가지 종류가 있음"
   ]
  },
  {
   "cell_type": "code",
   "execution_count": 15,
   "id": "f7930311",
   "metadata": {},
   "outputs": [],
   "source": [
    "df = pd.read_csv(path1 + \"iris01.csv\")\n",
    "# print(df.head(), df.shape)\n",
    "\n",
    "# 아래 두 조건을 모두 만족하는 표본의 개수\n",
    "# 조건1: sepal_length가 해당 품종(species)별 평균보다 큰 데이터\n",
    "s = df.groupby('species')['sepal_length'].transform('mean')\n",
    "df = df[df['sepal_length'] > s]\n",
    "\n",
    "# 조건2: petal_width가 0.2 이상인 데이터\n",
    "df = df[df['petal_width'] >= 0.2]\n",
    "\n",
    "result = len(df)\n",
    "# print(result) # 67"
   ]
  },
  {
   "cell_type": "markdown",
   "id": "6a6e1100",
   "metadata": {},
   "source": [
    "**3-4) 1980년대 이후 저실린더 차량의 국가별 분포 분석**\n",
    "\n",
    "1980년 이후에는 연료 효율성을 고려한 저배기량 차량이 증가하였습니다. 이 문제에서는 해당 연도별 평균보다 적은 실린더 수(cylinders)를 가진 차량이 어느 국가(origin)에서 가장 많이 생산되었는지를 파악하고자 합니다.\n",
    "\n",
    "다음 작업을 수행하세요.\n",
    "- mpg.csv 파일을 사용합니다.\n",
    "- model_year가 80 이상인 차량만 필터링합니다.\n",
    "- 위 차량 중에서, 연도(model_year)별 cylinders 수가 평균 미만인 차량만 필터링합니다.\n",
    "- 위 조건을 만족하는 차량들의 origin 중에서, 가장 빈도가 높은(origin의 최빈값) 국가 이름을 결과로 구합니다.\n",
    "- 결과는 문자열로 출력합니다. (대소문자 변경 없이 입력)\n"
   ]
  },
  {
   "cell_type": "code",
   "execution_count": null,
   "id": "d82578bc",
   "metadata": {},
   "outputs": [
    {
     "name": "stdout",
     "output_type": "stream",
     "text": [
      "japan\n"
     ]
    }
   ],
   "source": [
    "df = pd.read_csv(path1 + \"mpg.csv\")\n",
    "# print(df.head(3), df.shape) # (392, 9)\n",
    "\n",
    "# model_year가 80 이상인 차량만 필터링\n",
    "df = df[df['model_year'] >= 80]\n",
    "# print(df.shape) # (85, 9)\n",
    "\n",
    "# 위 차량 중에서, 연도(model_year)별 cylinders 수가 평균 미만인 차량만 필터링\n",
    "mean = df.groupby('model_year')['cylinders'].transform('mean')\n",
    "df = df[df['cylinders'] < mean]\n",
    "# print(df.shape) # (71, 9)\n",
    "\n",
    "# 위 조건을 만족하는 차량들의 origin 중에서, 가장 빈도가 높은(origin의 최빈값) 국가 이름을 결과로 출력\n",
    "# print(df['origin'].mode().values[0]) # japan"
   ]
  },
  {
   "cell_type": "markdown",
   "id": "338967f1",
   "metadata": {},
   "source": [
    "**3-5) 성별 대비 고요금 승객의 등급별 요금 차이 분석**\n",
    "\n",
    "탑승 요금(Fare)은 성별과 좌석 등급(Pclass)에 따라 차이가 날 수 있습니다. 이 문제에서는 성별 평균보다 더 높은 요금을 낸 승객들의 등급별 요금 차이를 분석하고자 합니다.\n",
    "\n",
    "다음 작업을 수행하세요.\n",
    "- titanic.csv를 사용합니다.\n",
    "- Fare가 자신과 동일한 성별(Gender)의 평균 요금보다 높은 승객만 필터링합니다.\n",
    "- 위 조건을 만족하는 승객들을 Pclass(좌석 등급) 기준으로 그룹화하여, 각 등급별 Fare의 평균을 계산합니다.\n",
    "- 이 중 가장 높은 등급별 평균과 가장 낮은 등급별 평균의 차이를 계산하여 결과로 구합니다.\n",
    "- 최종 결과는 반올림하여 소수점 아래 3자리까지 출력합니다."
   ]
  },
  {
   "cell_type": "code",
   "execution_count": null,
   "id": "fa95fb7a",
   "metadata": {},
   "outputs": [
    {
     "name": "stdout",
     "output_type": "stream",
     "text": [
      "70.479\n"
     ]
    }
   ],
   "source": [
    "df = pd.read_csv(path1 + \"titanic_dataq.csv\")\n",
    "# print(df.head(3), df.shape) # (891, 12)\n",
    "\n",
    "# Fare가 자신과 동일한 성별(Gender)의 평균 요금보다 높은 승객만 필터링\n",
    "s = df.groupby('Gender')['Fare'].transform('mean')\n",
    "# print(len(df[df['Fare'] > s])) # 274\n",
    "\n",
    "# 위 조건을 만족하는 승객들을 Pclass(좌석 등급) 기준으로 그룹화하여, 각 등급별 Fare의 평균을 계산\n",
    "cond = df.groupby('Pclass', as_index=False)['Fare'].mean()\n",
    "\n",
    "# 이 중 가장 높은 등급별 평균과 가장 낮은 등급별 평균의 차이를 계산,\n",
    "# 최종 결과는 반올림하여 소수점 아래 3자리까지 출력\n",
    "result = round(cond['Fare'].max() - cond['Fare'].min(), 3)\n",
    "print(result) # 70.479"
   ]
  }
 ],
 "metadata": {
  "kernelspec": {
   "display_name": "study",
   "language": "python",
   "name": "python3"
  },
  "language_info": {
   "codemirror_mode": {
    "name": "ipython",
    "version": 3
   },
   "file_extension": ".py",
   "mimetype": "text/x-python",
   "name": "python",
   "nbconvert_exporter": "python",
   "pygments_lexer": "ipython3",
   "version": "3.10.16"
  }
 },
 "nbformat": 4,
 "nbformat_minor": 5
}
