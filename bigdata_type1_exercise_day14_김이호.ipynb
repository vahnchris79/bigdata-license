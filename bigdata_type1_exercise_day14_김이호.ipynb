{
 "cells": [
  {
   "cell_type": "code",
   "execution_count": 31,
   "id": "5d882844",
   "metadata": {},
   "outputs": [],
   "source": [
    "import pandas as pd\n",
    "pd.set_option('display.width', 120)\n",
    "pd.set_option('display.max_rows', 5000)\n",
    "import warnings\n",
    "warnings.filterwarnings('ignore')\n",
    "\n",
    "path1 = \"https://raw.githubusercontent.com/Soyoung-Yoon/bigdata/main/\"\n",
    "path2 = \"https://raw.githubusercontent.com/Soyoung-Yoon/data_01/main/\""
   ]
  },
  {
   "cell_type": "markdown",
   "id": "4a607874",
   "metadata": {},
   "source": [
    "#### 6회-1번) 소방서별 출동 소요시간 분석\n",
    "\n",
    "소방서는 신고를 접수한 후 현장으로 출동한다, 이때 신고 후 출동까지 걸린 시간을 분석하고자 한다.\n",
    "\n",
    "다음 절차에 따라 문제를 해결하시오.\n",
    "\n",
    "* 1) 각 사건에 대한 '출동소요시간'을 구하여 컬럼을 추가하시오.\n",
    "\n",
    "     출동소요시간 = (출동시간 - 신고시간)\n",
    "\n",
    "* 2) 1)의 결과를 사용하여 소방서(소방서명)별 '출동소요시간'의 평균을 구하시오.\n",
    "* 3) 평균 출동소요시간 중 가장 큰 값을 구해, 반올림하여 분 단위로 변환하여 정수로 출력한다."
   ]
  },
  {
   "cell_type": "code",
   "execution_count": 13,
   "id": "f579a2e2",
   "metadata": {},
   "outputs": [
    {
     "name": "stdout",
     "output_type": "stream",
     "text": [
      "3\n"
     ]
    }
   ],
   "source": [
    "# 각 사건에 대한 '출동소요시간'을 구하여 컬럼을 추가하시오.\n",
    "# 출동소요시간 = (출동시간 - 신고시간)\n",
    "df = pd.read_csv(path1 + \"big_6_1_1.csv\")\n",
    "# print(df.head(), df.info(), sep=\"\\n\")\n",
    "\n",
    "df['신고시간'] = pd.to_datetime(df['신고시간'])\n",
    "df['출동시간'] = pd.to_datetime(df['출동시간'])\n",
    "df['출동소요시간'] = df['출동시간'] - df['신고시간']\n",
    "# print(df.head(), df.info(), sep=\"\\n\")\n",
    "\n",
    "# 1)의 결과를 사용하여 소방서(소방서명)별 '출동소요시간'의 평균을 구하시오.\n",
    "mean_df = df.groupby('소방서명')[['출동소요시간']].mean().reset_index()\n",
    "# print(mean_df.head())\n",
    "\n",
    "# 평균 출동소요시간 중 가장 큰 값을 구해, 반올림하여 분 단위로 변환하여 정수로 출력한다.\n",
    "result = round(mean_df['출동소요시간'].max().total_seconds() / 60)\n",
    "# print(result) # 3"
   ]
  },
  {
   "cell_type": "markdown",
   "id": "1980e14d",
   "metadata": {},
   "source": [
    "#### 6회-2번) 교사 1인당 학생 수\n",
    "\n",
    "초등학교에서는 학년별 학생 수와 교사 수를 관리하고 있다. 학교별로 교사 1명이 맡고 있는 평균 학생 수를 계산하여, 관리가 필요한 학교를 파악하고자 한다.\n",
    "\n",
    "다음 절차에 따라 문제를 해결하시오.\n",
    "\n",
    "* 1. 학교별 전체_학생수 및 전체_교사수를 구하시오.\n",
    "* 2. 교사 1인당 학생 수를 계산하시오.\n",
    "     \n",
    "- -  교사당_학생수 = 전체 학생수 / 전체 교사수\n",
    "\n",
    "* 3. 교사 1인당 학생 수가 가장 많은 학교를 찾고, 해당 학교의 전체 교사 수를 정수로 제출합니다."
   ]
  },
  {
   "cell_type": "code",
   "execution_count": 37,
   "id": "11c62902",
   "metadata": {},
   "outputs": [
    {
     "name": "stdout",
     "output_type": "stream",
     "text": [
      "6\n"
     ]
    }
   ],
   "source": [
    "df = pd.read_csv(path1 + \"big_6_1_2.csv\")\n",
    "# print(df.head(), df.info(), sep=\"\\n\")\n",
    "\n",
    "# 학교별 전체_학생수 및 전체_교사수를 구하시오.\n",
    "df2 = df.groupby('학교명')[['학생수', '교사수']].sum().reset_index()\n",
    "df2.columns = ['학교명', '전체 학생수', '전체 교사수']\n",
    "# print(df.head())\n",
    "\n",
    "# 교사 1인당 학생 수를 계산하시오.(교사당_학생수 = 전체 학생수 / 전체 교사수)\n",
    "df2['교사당_학생수'] = df2['전체 학생수'] / df2['전체 교사수']\n",
    "# print(df2.head())\n",
    "\n",
    "# 교사 1인당 학생 수가 가장 많은 학교를 찾고, 해당 학교의 전체 교사 수를 정수로 제출\n",
    "school_name = df2.loc[df2['교사당_학생수']==df2['교사당_학생수'].max(), '학교명'].values[0]\n",
    "result = int(df2.loc[df2['학교명'] == school_name, '전체 교사수'])\n",
    "# print(result) # 6 "
   ]
  },
  {
   "cell_type": "markdown",
   "id": "0a0f2e8d",
   "metadata": {},
   "source": [
    "#### 6회-3번) 연도별 총 범죄 건수의 월평균 비교\n",
    "\n",
    "범죄 데이터를 분석하여, 연도별로 범죄 발생량의 특징을 파악하고자 한다.\n",
    "\n",
    "다음 절차에 따라 문제를 해결하시오.\n",
    "\n",
    "\n",
    "* 1) 각 연도별로 범죄유형별 발생 건수를 모두 합산하여, 연도별 총 범죄 건수를 계산한다.\n",
    "* 2) 1)에서 구한 연도별 총 범죄 건수를 12(개월)로 나누어 월평균 범죄 건수를 구한다.\n",
    "* 3) 2)의 결과를 사용해 월평균 범죄 건수가 가장 큰 연도를 찾고, 해당 연도의 월평균 총 범죄 건수를 반올림하여 정수로 출력한다."
   ]
  },
  {
   "cell_type": "code",
   "execution_count": 54,
   "id": "0d1bf48e",
   "metadata": {},
   "outputs": [
    {
     "name": "stdout",
     "output_type": "stream",
     "text": [
      "4329\n"
     ]
    }
   ],
   "source": [
    "df = pd.read_csv(path1 + \"big_6_1_3.csv\")\n",
    "# print(df.head(), df.info(), sep=\"\\n\")\n",
    "\n",
    "# 1) 각 연도별로 범죄유형별 발생 건수를 모두 합산하여, 연도별 총 범죄 건수를 계산한다.\n",
    "cols = [col for col in df.columns if '범죄' in col]\n",
    "df2 = df.melt(id_vars=['월별'], value_vars=cols, var_name='범죄유형', value_name='발생건수')\n",
    "df2['연도'] = df2['월별'].str[:4]\n",
    "df3 = df2.groupby('연도')[['발생건수']].sum().reset_index()\n",
    "df3.rename(columns={'발생건수': '총범죄건수'}, inplace=True)\n",
    "# print(df3)\n",
    "\n",
    "# 2) 1)에서 구한 연도별 총 범죄 건수를 12(개월)로 나누어 월평균 범죄 건수를 구한다.\n",
    "df3['월평균범죄건수'] = df3['총범죄건수'] / 12\n",
    "# print(df3.head())\n",
    "\n",
    "# 3) 2)의 결과를 사용해 월평균 범죄 건수가 가장 큰 연도를 찾고,\n",
    "# 해당 연도의 월평균 총 범죄 건수를 반올림하여 정수로 출력한다.\n",
    "max_year = df3[df3['월평균범죄건수'] == df3['월평균범죄건수'].max()]['연도'].values[0]\n",
    "result = round(df3[df3['연도'] == max_year]['월평균범죄건수'].values[0])\n",
    "# print(result) # 4329\n"
   ]
  },
  {
   "cell_type": "markdown",
   "id": "93683309",
   "metadata": {},
   "source": [
    "#### 14-4) 시간대별 평균 출동 소요시간 비교\n",
    "\n",
    "소방서는 하루 동안 다양한 시간대에 신고를 접수하고 현장에 출동한다.시간대별로 평균 출동 소요시간을 분석하여, 대응 효율성을 진단하고자 한다.\n",
    "\n",
    "다음 절차에 따라 문제를 해결하시오.\n",
    "\n",
    "* 1) 출동 소요시간은 (출동시간 - 신고시간)으로 계산한다. \n",
    "\n",
    "* 2) 신고시간을 기준으로 다음과 같이 시간대를 분류한다:\n",
    "- -  새벽: 00:00 ~ 05:59\n",
    "- -  오전: 06:00 ~ 11:59\n",
    "- -  오후: 12:00 ~ 17:59\n",
    "- -    밤: 18:00 ~ 23:59\n",
    "* 3) 각 시간대별 출동 소요시간의 평균을 구한다.\n",
    "* 4) 이 중 출동 소요시간 평균이 가장 큰 시간대의 출동 소요시간 평균을 분 단위로 변환하여 반올림한 정수값을 제출하시오."
   ]
  },
  {
   "cell_type": "code",
   "execution_count": 72,
   "id": "d4476224",
   "metadata": {},
   "outputs": [
    {
     "name": "stdout",
     "output_type": "stream",
     "text": [
      "7\n"
     ]
    }
   ],
   "source": [
    "df = pd.read_csv(path2 + \"fire_station02.csv\")\n",
    "# print(df.head())\n",
    "df['신고시간'] = pd.to_datetime(df['신고시간'])\n",
    "df['출동시간'] = pd.to_datetime(df['출동시간'])\n",
    "\n",
    "# 1. 출동 소요시간은 (출동시간 - 신고시간)으로 계산한다.\n",
    "df['출동소요시간'] = df['출동시간'] - df['신고시간']\n",
    "# print(df.head())\n",
    "\n",
    "# 2. 신고시간을 기준으로 다음과 같이 시간대를 분류한다.\n",
    "\n",
    "df.loc[(df['신고시간'].dt.hour >= 0 ) & (df['신고시간'].dt.hour < 6), '시간대'] = '새벽'\n",
    "df.loc[(df['신고시간'].dt.hour >= 6 ) & (df['신고시간'].dt.hour < 12), '시간대'] = '오전'\n",
    "df.loc[(df['신고시간'].dt.hour >= 12 ) & (df['신고시간'].dt.hour < 18), '시간대'] = '오후'\n",
    "df.loc[(df['신고시간'].dt.hour >= 18 ) & (df['신고시간'].dt.hour < 24), '시간대'] = '밤'\n",
    "# print(df.head())\n",
    "# print(df.tail())\n",
    "\n",
    "# 3. 각 시간대별 출동 소요시간의 평균을 구한다.\n",
    "df2 = df.groupby('시간대')[['출동소요시간']].mean().reset_index()\n",
    "df2.columns = ['시간대', '출동소요시간 평균']\n",
    "# print(df2.head())\n",
    "\n",
    "# 4. 이 중 출동 소요시간 평균이 가장 큰 시간대의 출동 소요시간 평균을 분 단위로 변환하여 반올림한 정수값을 제출하시오.\n",
    "result = round(df2['출동소요시간 평균'].max().total_seconds() / 60)\n",
    "# print(result) #7\n"
   ]
  },
  {
   "cell_type": "markdown",
   "id": "e0e3363a",
   "metadata": {},
   "source": [
    "#### 14-5) 계절별 범죄 유형 평균 분석\n",
    "\n",
    "범죄 발생 패턴이 계절에 따라 달라질 수 있다는 점에 착안하여, 월별 범죄 데이터를 계절별로 재구성하고 평균을 분석하여, 계절 간 범죄 발생량 차이가 가장 큰 범죄 유형 및 차이값을 찾고자 한다.\n",
    "\n",
    "다음 절차에 따라 문제를 해결하시오.\n",
    "\n",
    "* 1. '월'값을 기반으로 '계절'을 구분한다.\n",
    "- -   봄 : 3, 4, 5월, 여름 : 6, 7, 8월\n",
    "- -   가을 : 9, 10, 11월, 겨울 : 12, 1, 2월\n",
    "\n",
    "* 2. 각 범죄 유형별로 계절별 평균을 계산하시오.\n",
    "* 3. 각 범죄 유형별로 4개 계절의 평균값 중 최대값과 최소값을 구하고, 그 차이(최대−최소)를 계산하시오.\n",
    "* 4. 위에서 구한 값들 중 가장 큰 값을 반올림하여 정수로 출력하시오."
   ]
  },
  {
   "cell_type": "code",
   "execution_count": 95,
   "id": "c6ffe842",
   "metadata": {},
   "outputs": [
    {
     "name": "stdout",
     "output_type": "stream",
     "text": [
      "1280\n"
     ]
    }
   ],
   "source": [
    "df = pd.read_csv(path1 + \"big_6_1_3.csv\")\n",
    "# print(df.head())\n",
    "\n",
    "# 1. '월'값을 기반으로 '계절'을 구분한다.\n",
    "#     봄 : 3, 4, 5월, 여름 : 6, 7, 8월\n",
    "#     가을 : 9, 10, 11월, 겨울 : 12, 1, 2월\n",
    "df.loc[(df['월별'].str[5:].astype(int) >= 3) & (df['월별'].str[5:].astype(int) <= 5), '계절'] = '봄'\n",
    "df.loc[(df['월별'].str[5:].astype(int) >= 6) & (df['월별'].str[5:].astype(int) <= 8), '계절'] = '여름'\n",
    "df.loc[(df['월별'].str[5:].astype(int) >= 9) & (df['월별'].str[5:].astype(int) <= 11), '계절'] = '가을'\n",
    "df.loc[(df['월별'].str[5:].astype(int) == 12) | (df['월별'].str[5:].astype(int) <= 2), '계절'] = '겨울'\n",
    "# print(df.head())\n",
    "\n",
    "# 2. 각 범죄 유형별로 계절별 평균을 계산하시오.\n",
    "cols = [col for col in df.columns if col[-2:] == '범죄']\n",
    "df2 = df.groupby('계절')[cols].mean().reset_index()\n",
    "# print(df2.head())\n",
    "\n",
    "# 4. 각 범죄 유형별로 4개 계절의 평균값 중 최대값과 최소값을 구하고, 그 차이(최대−최소)를 계산하시오.\n",
    "diff_lists = []\n",
    "for col in df.columns:\n",
    "    if col[-2:] == '범죄':\n",
    "        diff_lists.append(df[col].max() - df[col].min())\n",
    "# print(diff_lists)\n",
    "diff_df = pd.DataFrame({'차이': diff_lists})\n",
    "result = round(diff_df['차이'].max())\n",
    "print(result) # 1280\n"
   ]
  },
  {
   "cell_type": "code",
   "execution_count": null,
   "id": "6a0281fb",
   "metadata": {},
   "outputs": [],
   "source": []
  }
 ],
 "metadata": {
  "kernelspec": {
   "display_name": "study",
   "language": "python",
   "name": "python3"
  },
  "language_info": {
   "codemirror_mode": {
    "name": "ipython",
    "version": 3
   },
   "file_extension": ".py",
   "mimetype": "text/x-python",
   "name": "python",
   "nbconvert_exporter": "python",
   "pygments_lexer": "ipython3",
   "version": "3.10.16"
  }
 },
 "nbformat": 4,
 "nbformat_minor": 5
}
