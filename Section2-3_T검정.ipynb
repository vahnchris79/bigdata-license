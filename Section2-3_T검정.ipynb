{
 "cells": [
  {
   "cell_type": "code",
   "execution_count": 2,
   "id": "8eb9abc6",
   "metadata": {},
   "outputs": [
    {
     "name": "stdout",
     "output_type": "stream",
     "text": [
      "   stime20s  stime40s  ID\n",
      "0         4         5   1\n",
      "1         4         5   2\n",
      "2         5         6   3\n"
     ]
    }
   ],
   "source": [
    "# [1] 데이터 확인하기\n",
    "import pandas as pd\n",
    "import numpy as np\n",
    "\n",
    "url = \"https://raw.githubusercontent.com/Soyoung-Yoon/data_02/main/sleepage.csv\"\n",
    "df = pd.read_csv(url)\n",
    "print(df.head(3))"
   ]
  },
  {
   "cell_type": "code",
   "execution_count": 3,
   "id": "5a01924b",
   "metadata": {},
   "outputs": [
    {
     "name": "stdout",
     "output_type": "stream",
     "text": [
      "[4 4 5 5 6 6 7 3 8 7 8 8 7 7 7 6 8 5 6 6]\n",
      "[5 5 6 7 6 7 7 5 5 6 8 7 6 6 8 7 7 6 5 8]\n"
     ]
    }
   ],
   "source": [
    "# [2] 그룹을 나누어 ndarray로 변경해 저장하기\n",
    "# 20대와 40대 수면시간을 gA, gB로 저장\n",
    "gA = df['stime20s'].to_numpy()\n",
    "gB = df['stime40s'].to_numpy()\n",
    "\n",
    "print(gA)\n",
    "print(gB)"
   ]
  },
  {
   "cell_type": "markdown",
   "id": "63510dff",
   "metadata": {},
   "source": [
    "#### 정규성 검정 Shapiro Wilks Test"
   ]
  },
  {
   "cell_type": "code",
   "execution_count": 4,
   "id": "a0eb7389",
   "metadata": {},
   "outputs": [
    {
     "name": "stdout",
     "output_type": "stream",
     "text": [
      "A 검정통계량: 0.924, p-value: 0.118\n",
      "B 검정통계량: 0.881, p-value: 0.018\n",
      "채택\n",
      "기각\n"
     ]
    }
   ],
   "source": [
    "# [4] 정규성 검정 - 1 shapiro wilks test\n",
    "from scipy.stats import shapiro\n",
    "A_statistic, A_pvalue = shapiro(gA)\n",
    "B_statistic, B_pvalue = shapiro(gB)\n",
    "print(f\"A 검정통계량: {A_statistic:.3f}, p-value: {A_pvalue:.3f}\")\n",
    "print(f\"B 검정통계량: {B_statistic:.3f}, p-value: {B_pvalue:.3f}\")\n",
    "print(\"기각\" if A_pvalue <= 0.05 else \"채택\")\n",
    "print(\"기각\" if B_pvalue <= 0.05 else \"채택\")"
   ]
  },
  {
   "cell_type": "code",
   "execution_count": 5,
   "id": "3c4c8c06",
   "metadata": {},
   "outputs": [
    {
     "name": "stdout",
     "output_type": "stream",
     "text": [
      "A 검정통계량: 0.999, p-value: 0.000\n",
      "B 검정통계량: 1.000, p-value: 0.000\n",
      "기각\n",
      "기각\n",
      "기각\n"
     ]
    }
   ],
   "source": [
    "# [5] 정규성 검정 - 2 kstest(kolmogorov-smirnov test)\n",
    "from scipy.stats import kstest\n",
    "A_statistic, A_pvalue = kstest(gA, \"norm\")\n",
    "B_statistic, B_pvalue = kstest(gB, \"norm\")\n",
    "print(f\"A 검정통계량: {A_statistic:.3f}, p-value: {A_pvalue:.3f}\")\n",
    "print(f\"B 검정통계량: {B_statistic:.3f}, p-value: {B_pvalue:.3f}\")\n",
    "print(\"기각\" if A_pvalue <= 0.05 else \"채택\")\n",
    "print(\"기각\" if B_pvalue <= 0.05 else \"채택\")\n",
    "print(\"채택\" if A_pvalue > 0.05 else \"기각\")"
   ]
  },
  {
   "cell_type": "code",
   "execution_count": 6,
   "id": "e6e7a1c1",
   "metadata": {},
   "outputs": [
    {
     "name": "stdout",
     "output_type": "stream",
     "text": [
      "A 검정통계량: 1.173, p-value: 0.556\n",
      "B 검정통계량: 2.045, p-value: 0.360\n",
      "채택\n",
      "채택\n"
     ]
    }
   ],
   "source": [
    "# [6] 정규성 검정 - 3 normaltest: 8개 이상 데이터 필요\n",
    "from scipy.stats import normaltest\n",
    "A_statistic, A_pvalue = normaltest(gA)\n",
    "B_statistic, B_pvalue = normaltest(gB)\n",
    "print(f\"A 검정통계량: {A_statistic:.3f}, p-value: {A_pvalue:.3f}\")\n",
    "print(f\"B 검정통계량: {B_statistic:.3f}, p-value: {B_pvalue:.3f}\")\n",
    "print(\"기각\" if A_pvalue <= 0.05 else \"채택\")\n",
    "print(\"기각\" if B_pvalue <= 0.05 else \"채택\")"
   ]
  },
  {
   "cell_type": "code",
   "execution_count": 9,
   "id": "e4693e2f",
   "metadata": {},
   "outputs": [
    {
     "name": "stdout",
     "output_type": "stream",
     "text": [
      "A 검정통계량: 0.560, 임계값: [0.506 0.577 0.692 0.807 0.96 ], 유의수준: [15.  10.   5.   2.5  1. ]\n",
      "B 검정통계량: 0.892, 임계값: [0.506 0.577 0.692 0.807 0.96 ], 유의수준: [15.  10.   5.   2.5  1. ]\n"
     ]
    }
   ],
   "source": [
    "# 정규성 검정 - 4 anderson darling test\n",
    "from scipy.stats import anderson\n",
    "A_statistic, A_cv, A_sl = anderson(gA)\n",
    "B_statistic, B_cv, B_sl = anderson(gB)\n",
    "print(f\"A 검정통계량: {A_statistic:.3f}, 임계값: {A_cv}, 유의수준: {A_sl}\")\n",
    "print(f\"B 검정통계량: {B_statistic:.3f}, 임계값: {B_cv}, 유의수준: {B_sl}\")"
   ]
  },
  {
   "cell_type": "markdown",
   "id": "972f9783",
   "metadata": {},
   "source": [
    "#### 모수검정: T검정 - One sample t-test"
   ]
  },
  {
   "cell_type": "code",
   "execution_count": null,
   "id": "0bdde620",
   "metadata": {},
   "outputs": [],
   "source": []
  },
  {
   "cell_type": "code",
   "execution_count": 7,
   "id": "09908598",
   "metadata": {},
   "outputs": [
    {
     "ename": "TypeError",
     "evalue": "ttest_1samp() missing 2 required positional arguments: 'a' and 'popmean'",
     "output_type": "error",
     "traceback": [
      "\u001b[0;31m---------------------------------------------------------------------------\u001b[0m",
      "\u001b[0;31mKeyError\u001b[0m                                  Traceback (most recent call last)",
      "File \u001b[0;32m~/miniconda3/envs/study/lib/python3.10/site-packages/scipy/stats/_axis_nan_policy.py:509\u001b[0m, in \u001b[0;36m_axis_nan_policy_factory.<locals>.axis_nan_policy_decorator.<locals>.axis_nan_policy_wrapper\u001b[0;34m(_no_deco, *args, **kwds)\u001b[0m\n\u001b[1;32m    508\u001b[0m \u001b[38;5;28;01mtry\u001b[39;00m:  \u001b[38;5;66;03m# if something is missing\u001b[39;00m\n\u001b[0;32m--> 509\u001b[0m     samples \u001b[38;5;241m=\u001b[39m [np\u001b[38;5;241m.\u001b[39matleast_1d(kwds\u001b[38;5;241m.\u001b[39mpop(param))\n\u001b[1;32m    510\u001b[0m                \u001b[38;5;28;01mfor\u001b[39;00m param \u001b[38;5;129;01min\u001b[39;00m (params[:n_samp] \u001b[38;5;241m+\u001b[39m kwd_samp)]\n\u001b[1;32m    511\u001b[0m \u001b[38;5;28;01mexcept\u001b[39;00m \u001b[38;5;167;01mKeyError\u001b[39;00m:  \u001b[38;5;66;03m# let the function raise the right error\u001b[39;00m\n\u001b[1;32m    512\u001b[0m     \u001b[38;5;66;03m# might need to revisit this if required arg is not a \"sample\"\u001b[39;00m\n",
      "File \u001b[0;32m~/miniconda3/envs/study/lib/python3.10/site-packages/scipy/stats/_axis_nan_policy.py:509\u001b[0m, in \u001b[0;36m<listcomp>\u001b[0;34m(.0)\u001b[0m\n\u001b[1;32m    508\u001b[0m \u001b[38;5;28;01mtry\u001b[39;00m:  \u001b[38;5;66;03m# if something is missing\u001b[39;00m\n\u001b[0;32m--> 509\u001b[0m     samples \u001b[38;5;241m=\u001b[39m [np\u001b[38;5;241m.\u001b[39matleast_1d(\u001b[43mkwds\u001b[49m\u001b[38;5;241;43m.\u001b[39;49m\u001b[43mpop\u001b[49m\u001b[43m(\u001b[49m\u001b[43mparam\u001b[49m\u001b[43m)\u001b[49m)\n\u001b[1;32m    510\u001b[0m                \u001b[38;5;28;01mfor\u001b[39;00m param \u001b[38;5;129;01min\u001b[39;00m (params[:n_samp] \u001b[38;5;241m+\u001b[39m kwd_samp)]\n\u001b[1;32m    511\u001b[0m \u001b[38;5;28;01mexcept\u001b[39;00m \u001b[38;5;167;01mKeyError\u001b[39;00m:  \u001b[38;5;66;03m# let the function raise the right error\u001b[39;00m\n\u001b[1;32m    512\u001b[0m     \u001b[38;5;66;03m# might need to revisit this if required arg is not a \"sample\"\u001b[39;00m\n",
      "\u001b[0;31mKeyError\u001b[0m: 'a'",
      "\nDuring handling of the above exception, another exception occurred:\n",
      "\u001b[0;31mTypeError\u001b[0m                                 Traceback (most recent call last)",
      "Cell \u001b[0;32mIn[7], line 5\u001b[0m\n\u001b[1;32m      2\u001b[0m \u001b[38;5;28;01mfrom\u001b[39;00m \u001b[38;5;21;01mscipy\u001b[39;00m\u001b[38;5;21;01m.\u001b[39;00m\u001b[38;5;21;01mstats\u001b[39;00m \u001b[38;5;28;01mimport\u001b[39;00m ttest_1samp\n\u001b[1;32m      3\u001b[0m \u001b[38;5;66;03m# print(help(ttest_1samp))\u001b[39;00m\n\u001b[0;32m----> 5\u001b[0m \u001b[43mttest_1samp\u001b[49m\u001b[43m(\u001b[49m\u001b[43m)\u001b[49m\n",
      "File \u001b[0;32m~/miniconda3/envs/study/lib/python3.10/site-packages/scipy/stats/_axis_nan_policy.py:513\u001b[0m, in \u001b[0;36m_axis_nan_policy_factory.<locals>.axis_nan_policy_decorator.<locals>.axis_nan_policy_wrapper\u001b[0;34m(_no_deco, *args, **kwds)\u001b[0m\n\u001b[1;32m    509\u001b[0m     samples \u001b[38;5;241m=\u001b[39m [np\u001b[38;5;241m.\u001b[39matleast_1d(kwds\u001b[38;5;241m.\u001b[39mpop(param))\n\u001b[1;32m    510\u001b[0m                \u001b[38;5;28;01mfor\u001b[39;00m param \u001b[38;5;129;01min\u001b[39;00m (params[:n_samp] \u001b[38;5;241m+\u001b[39m kwd_samp)]\n\u001b[1;32m    511\u001b[0m \u001b[38;5;28;01mexcept\u001b[39;00m \u001b[38;5;167;01mKeyError\u001b[39;00m:  \u001b[38;5;66;03m# let the function raise the right error\u001b[39;00m\n\u001b[1;32m    512\u001b[0m     \u001b[38;5;66;03m# might need to revisit this if required arg is not a \"sample\"\u001b[39;00m\n\u001b[0;32m--> 513\u001b[0m     \u001b[43mhypotest_fun_in\u001b[49m\u001b[43m(\u001b[49m\u001b[38;5;241;43m*\u001b[39;49m\u001b[43margs\u001b[49m\u001b[43m,\u001b[49m\u001b[43m \u001b[49m\u001b[38;5;241;43m*\u001b[39;49m\u001b[38;5;241;43m*\u001b[39;49m\u001b[43mkwds\u001b[49m\u001b[43m)\u001b[49m\n\u001b[1;32m    514\u001b[0m vectorized \u001b[38;5;241m=\u001b[39m \u001b[38;5;28;01mTrue\u001b[39;00m \u001b[38;5;28;01mif\u001b[39;00m \u001b[38;5;124m'\u001b[39m\u001b[38;5;124maxis\u001b[39m\u001b[38;5;124m'\u001b[39m \u001b[38;5;129;01min\u001b[39;00m params \u001b[38;5;28;01melse\u001b[39;00m \u001b[38;5;28;01mFalse\u001b[39;00m\n\u001b[1;32m    515\u001b[0m vectorized \u001b[38;5;241m=\u001b[39m vectorized \u001b[38;5;129;01mand\u001b[39;00m \u001b[38;5;129;01mnot\u001b[39;00m override[\u001b[38;5;124m'\u001b[39m\u001b[38;5;124mvectorization\u001b[39m\u001b[38;5;124m'\u001b[39m]\n",
      "\u001b[0;31mTypeError\u001b[0m: ttest_1samp() missing 2 required positional arguments: 'a' and 'popmean'"
     ]
    }
   ],
   "source": [
    "# [4] One Sample t-test 수행\n",
    "from scipy.stats import ttest_1samp\n",
    "# print(help(ttest_1samp))\n",
    "\n",
    "ttest_1samp()"
   ]
  },
  {
   "cell_type": "markdown",
   "id": "aea27086",
   "metadata": {},
   "source": [
    "#### 모수검정: T검정 - Paired t-test"
   ]
  },
  {
   "cell_type": "code",
   "execution_count": 12,
   "id": "fe18ee9f",
   "metadata": {},
   "outputs": [
    {
     "name": "stdout",
     "output_type": "stream",
     "text": [
      "   extra  group  ID\n",
      "0    0.7      1   1\n",
      "1   -1.6      1   2\n",
      "2   -0.2      1   3\n"
     ]
    }
   ],
   "source": [
    "# [데이터 불러오기]\n",
    "import pandas as pd\n",
    "url = \"https://raw.githubusercontent.com/Soyoung-Yoon/data_02/main/sleep.csv\"\n",
    "df = pd.read_csv(url)\n",
    "print(df.head(3))"
   ]
  },
  {
   "cell_type": "code",
   "execution_count": 13,
   "id": "2cd10341",
   "metadata": {},
   "outputs": [
    {
     "name": "stdout",
     "output_type": "stream",
     "text": [
      "[1 2]\n",
      "[ 0.7 -1.6 -0.2 -1.2 -0.1  3.4  3.7  0.8  0.   2. ]\n",
      "[ 1.9  0.8  1.1  0.1 -0.1  4.4  5.5  1.6  4.6  3.4]\n"
     ]
    }
   ],
   "source": [
    "# [2] 그룹 나누기\n",
    "print(df['group'].unique())\n",
    "gA, gB = [s.to_numpy() for _, s in df.groupby('group')['extra']]\n",
    "print(gA, gB, sep=\"\\n\")"
   ]
  },
  {
   "cell_type": "code",
   "execution_count": 15,
   "id": "37e629a5",
   "metadata": {},
   "outputs": [
    {
     "name": "stdout",
     "output_type": "stream",
     "text": [
      "0.033\n",
      "채택\n"
     ]
    }
   ],
   "source": [
    "# [3] 정규성 검정\n",
    "from scipy.stats import shapiro\n",
    "_, pvalue = shapiro(gA-gB)\n",
    "print(round(pvalue, 3))\n",
    "print(\"채택\" if pvalue <= 0.05 else \"기각\")"
   ]
  },
  {
   "cell_type": "code",
   "execution_count": 16,
   "id": "30280cd7",
   "metadata": {},
   "outputs": [
    {
     "name": "stdout",
     "output_type": "stream",
     "text": [
      "0.75 2.33\n"
     ]
    }
   ],
   "source": [
    "# [4] gA와 gB의 평균 구하기\n",
    "print(gA.mean(), round(gB.mean(), 2))"
   ]
  },
  {
   "cell_type": "code",
   "execution_count": 18,
   "id": "f6f8fc2f",
   "metadata": {},
   "outputs": [
    {
     "name": "stdout",
     "output_type": "stream",
     "text": [
      "-4.062 0.003\n",
      "기각\n"
     ]
    }
   ],
   "source": [
    "# [5] Paired t-test\n",
    "from scipy.stats import ttest_rel\n",
    "statistic, pvalue = ttest_rel(gA, gB, alternative=\"two-sided\")\n",
    "print(round(statistic, 3), round(pvalue, 3))\n",
    "print(\"채택\" if pvalue > 0.05 else \"기각\")"
   ]
  },
  {
   "cell_type": "code",
   "execution_count": 19,
   "id": "cc2e09a7",
   "metadata": {},
   "outputs": [
    {
     "name": "stdout",
     "output_type": "stream",
     "text": [
      "-4.062 0.001\n",
      "기각\n"
     ]
    }
   ],
   "source": [
    "# [6] Paired t-test\n",
    "from scipy.stats import ttest_rel\n",
    "statistic, pvalue = ttest_rel(gA, gB, alternative=\"less\")\n",
    "print(round(statistic, 3), round(pvalue, 3))\n",
    "print(\"채택\" if pvalue > 0.05 else \"기각\")"
   ]
  },
  {
   "cell_type": "code",
   "execution_count": 20,
   "id": "0f94991e",
   "metadata": {},
   "outputs": [
    {
     "name": "stdout",
     "output_type": "stream",
     "text": [
      "-4.062 0.999\n",
      "채택\n"
     ]
    }
   ],
   "source": [
    "# [7] Paired t-test\n",
    "from scipy.stats import ttest_rel\n",
    "statistic, pvalue = ttest_rel(gA, gB, alternative=\"greater\")\n",
    "print(round(statistic, 3), round(pvalue, 3))\n",
    "print(\"채택\" if pvalue > 0.05 else \"기각\")"
   ]
  },
  {
   "cell_type": "markdown",
   "id": "2a746cfc",
   "metadata": {},
   "source": [
    "#### 모수검정: 모평균에 관한 t-test"
   ]
  },
  {
   "cell_type": "code",
   "execution_count": 24,
   "id": "5ad2388f",
   "metadata": {},
   "outputs": [
    {
     "name": "stdout",
     "output_type": "stream",
     "text": [
      "4.84\n",
      "-1.4446\n",
      "0.0807\n",
      "채택\n"
     ]
    }
   ],
   "source": [
    "# ~ 주장한다 -> 가설\n",
    "# 불량화소의 개수는 정규분포를 따른다 -> 정규성 검정 패스\n",
    "# 귀무가설: A회사에서 판매하는 모니터의 불량화소 평균이 5개 보다 크거나 같다.\n",
    "# 대립가설: B회사에서 판매하는 모니터의 불량화소 평균이 5개 보다 적다.\n",
    "\n",
    "import pandas as pd\n",
    "from scipy.stats import ttest_1samp\n",
    "\n",
    "url = \"https://raw.githubusercontent.com/Soyoung-Yoon/data_02/main/defective.csv\"\n",
    "data = pd.read_csv(url)\n",
    "# print(data.head(5))\n",
    "sample = data.defective_pixel\n",
    "\n",
    "# (a)\n",
    "print(round(sample.mean(), 2))\n",
    "\n",
    "# (b)\n",
    "statistic, pvalue = ttest_1samp(sample, 5, alternative='less')\n",
    "print(round(statistic, 4))\n",
    "print(round(pvalue, 4))\n",
    "print(\"채택\" if pvalue > 0.05 else \"기각\")"
   ]
  },
  {
   "cell_type": "markdown",
   "id": "4211dd95",
   "metadata": {},
   "source": [
    "##### 작업3유형 예시문제"
   ]
  },
  {
   "cell_type": "code",
   "execution_count": 29,
   "id": "185c3806",
   "metadata": {},
   "outputs": [
    {
     "name": "stdout",
     "output_type": "stream",
     "text": [
      "5.09\n",
      "3.3372\n",
      "0.9994\n",
      "채택\n"
     ]
    }
   ],
   "source": [
    "# 귀무가설: (치료 후 혈압 - 치료 전 혈압 차)의 평균이 0보다 크거나 같다.\n",
    "# 대립가설: (치료 후 혈압 - 치료 전 혈압 차)의 평균이 0보다 작다.\n",
    "\n",
    "import pandas as pd\n",
    "from scipy.stats import ttest_rel\n",
    "\n",
    "url = \"https://raw.githubusercontent.com/Soyoung-Yoon/data_02/main/blood_pressure.csv\"\n",
    "data = pd.read_csv(url)\n",
    "# print(data.shape)\n",
    "# print(data.head(3))\n",
    "gA = data.bp_before.to_numpy()\n",
    "gB = data.bp_after.to_numpy()\n",
    "print(round((gA - gB).mean(), 2)) # -5.09\n",
    "statistic, pvalue = ttest_rel(gA, gB, alternative='less')\n",
    "print(round(statistic, 4))\n",
    "print(round(pvalue, 4))\n",
    "print(\"채택\" if pvalue > 0.05 else \"기각\")"
   ]
  },
  {
   "cell_type": "code",
   "execution_count": null,
   "id": "3b39eb12",
   "metadata": {},
   "outputs": [],
   "source": []
  }
 ],
 "metadata": {
  "kernelspec": {
   "display_name": "study",
   "language": "python",
   "name": "python3"
  },
  "language_info": {
   "codemirror_mode": {
    "name": "ipython",
    "version": 3
   },
   "file_extension": ".py",
   "mimetype": "text/x-python",
   "name": "python",
   "nbconvert_exporter": "python",
   "pygments_lexer": "ipython3",
   "version": "3.10.16"
  }
 },
 "nbformat": 4,
 "nbformat_minor": 5
}
