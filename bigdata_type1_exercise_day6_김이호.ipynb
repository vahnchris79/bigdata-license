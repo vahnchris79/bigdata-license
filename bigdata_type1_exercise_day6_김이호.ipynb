{
 "cells": [
  {
   "cell_type": "code",
   "execution_count": 1,
   "id": "7c486237",
   "metadata": {},
   "outputs": [],
   "source": [
    "import pandas as pd\n",
    "path = \"https://raw.githubusercontent.com/Soyoung-Yoon/data_01/main/\"\n",
    "pd.set_option(\"display.width\", 120)\n",
    "import warnings\n",
    "warnings.filterwarnings('ignore')"
   ]
  },
  {
   "cell_type": "markdown",
   "id": "4ff484a0",
   "metadata": {},
   "source": [
    "#### 6-1) event_log_with_time.csv 데이터를 사용한다.\n",
    "\n",
    "* 지속시간(duration)을 구하고, 지속시간 중 가장 큰 5개 의 평균을 구한다.\n",
    "- - duration = end_datetime - start_datetime\n",
    "* 해당 평균을 구하여, 반올림하여 초 단위 정수로 출력한다."
   ]
  },
  {
   "cell_type": "code",
   "execution_count": null,
   "id": "187dccfa",
   "metadata": {},
   "outputs": [
    {
     "name": "stdout",
     "output_type": "stream",
     "text": [
      "594\n"
     ]
    }
   ],
   "source": [
    "df = pd.read_csv(path + \"event_log_with_time.csv\")\n",
    "# print(df.head(), df.info(), sep=\"\\n\")\n",
    "\n",
    "# 지속시간(duration)을 구하고, 지속시간 중 가장 큰 5개 의 평균을 구한다.\n",
    "# duration = end_datetime - start_datetime\n",
    "df['start_datetime'] = pd.to_datetime(df['start_datetime'])\n",
    "df['end_datetime'] = pd.to_datetime(df['end_datetime'])\n",
    "df['duration'] = df['end_datetime'] - df['start_datetime']\n",
    "# print(df.head(3))\n",
    "mean_datetime = df['duration'].sort_values(ascending=False).head(5).mean()\n",
    "# print(mean_datetime) # 0 days 00:09:53.600000\n",
    "\n",
    "# 해당 평균을 구하여, 반올림하여 초 단위 정수로 출력한다.\n",
    "result = round(mean_datetime.total_seconds())\n",
    "print(result) # 593 -> 594\n"
   ]
  },
  {
   "cell_type": "markdown",
   "id": "382eedcf",
   "metadata": {},
   "source": [
    "#### 6-2) event_log_with_time.csv 데이터를 사용한다.\n",
    "\n",
    "* 'Run' 이벤트 중 가장 오래 지속된 이벤트의 시간을 반올림하여 분 단위 정수로 구하시오.\n",
    "* 지속시간(duration) = end_datetime - start_datetime"
   ]
  },
  {
   "cell_type": "code",
   "execution_count": null,
   "id": "2d0c6ecc",
   "metadata": {},
   "outputs": [
    {
     "name": "stdout",
     "output_type": "stream",
     "text": [
      "10\n"
     ]
    }
   ],
   "source": [
    "df = pd.read_csv(path + \"event_log_with_time.csv\")\n",
    "# print(df.head(), df.info(), sep=\"\\n\")\n",
    "\n",
    "# 'Run' 이벤트 중 가장 오래 지속된 이벤트의 시간을 반올림하여 분 단위 정수로 구하시오.\n",
    "# 지속시간(duration) = end_datetime - start_datetime\n",
    "df['start_datetime'] = pd.to_datetime(df['start_datetime'])\n",
    "df['end_datetime'] = pd.to_datetime(df['end_datetime'])\n",
    "df['duration'] = df['end_datetime'] - df['start_datetime']\n",
    "\n",
    "result = round(df[df['event'] == 'Run']['duration'].max().total_seconds() / 60)\n",
    "print(result) # 9 -> 10"
   ]
  },
  {
   "cell_type": "markdown",
   "id": "d41583e9",
   "metadata": {},
   "source": [
    "#### 6-3) event_log_with_time.csv 데이터를 사용한다.\n",
    "\n",
    "* start_datetime이 2024년 4월 1일부터 5일까지의 데이터를 대상으로, 발생 빈도가 가장 높은 event를 찾고, \n",
    "해당 event에 대한 value 평균을 구하시오.\n",
    "* 결과는 반올림하여 정수로 출력한다."
   ]
  },
  {
   "cell_type": "code",
   "execution_count": null,
   "id": "bf71b0fe",
   "metadata": {},
   "outputs": [
    {
     "name": "stdout",
     "output_type": "stream",
     "text": [
      "54\n"
     ]
    }
   ],
   "source": [
    "df = pd.read_csv(path + \"event_log_with_time.csv\")\n",
    "# print(df.head(), df.info(), sep=\"\\n\")\n",
    "\n",
    "# start_datetime이 2024년 4월 1일부터 5일까지의 데이터 추출\n",
    "df2 = df.loc[df['start_datetime'].str.contains('2024-04-01|2024-04-02|2024-04-03|2024-04-04|2024-04-05')].copy()\n",
    "\n",
    "# 발생 빈도가 가장 높은 event를 찾고, 해당 event에 대한 value 평균을 구하시오.\n",
    "# result = int(df2[df2['event']==df2['event'].mode()]['value'].mean())\n",
    "result = int(df2[df2['event'] == df2['event'].mode().values[0]]['value'].mean())\n",
    "print(result) # 54\n"
   ]
  },
  {
   "cell_type": "markdown",
   "id": "8c18bfee",
   "metadata": {},
   "source": [
    "#### 6-4) event_log_02.csv 파일을 사용하여 다음을 구하시오.\n",
    "\n",
    "* start_datetime 기준 2020년 1월에 발생한 이벤트(event) 중 가장 많이 발생한 이벤트 종류를 A, 가장 적게 발생한 이벤트 종류를 B라고 한다.\n",
    "* 2020년 1월 발생한 A이벤트의 end_datetime 기준 가장 나중에 발생한 이벤트의 일(day)을 Aday, B이벤트의 end_datetime 기준 가장 먼저 발생한 이벤트의 일(day)을 Bday라고 할 때 두 수의 합을 정수로 출력하라.\n",
    "* 2020-01-25 의 경우 일(day)은 25이다."
   ]
  },
  {
   "cell_type": "code",
   "execution_count": null,
   "id": "f9a9c8c8",
   "metadata": {},
   "outputs": [
    {
     "name": "stdout",
     "output_type": "stream",
     "text": [
      "38\n"
     ]
    }
   ],
   "source": [
    "df = pd.read_csv(path + \"event_log_02.csv\")\n",
    "# print(df.head(), df.info(), sep=\"\\n\")\n",
    "\n",
    "# start_datetime 기준 2020년 1월에 발생한 이벤트(event) 중 \n",
    "# 가장 많이 발생한 이벤트 종류를 A, 가장 적게 발생한 이벤트 종류를 B라고 한다.\n",
    "df2 = df[df['start_datetime'].str.contains('2020-01')]\n",
    "A = df2['event'].value_counts().idxmax()\n",
    "B = df2['event'].value_counts().idxmin()\n",
    "# print(A, B) # Run Start\n",
    "\n",
    "# 2020년 1월 발생한 A이벤트의 end_datetime 기준 가장 나중에 발생한 이벤트의 일(day)을 Aday, \n",
    "# B이벤트의 end_datetime 기준 가장 먼저 발생한 이벤트의 일(day)을 Bday라고 할 때 두 수의 합을 정수로 출력하라.\n",
    "# 2020-01-25 의 경우 일(day)은 25이다.\n",
    "df2['end_datetime'] = pd.to_datetime(df2['end_datetime'])\n",
    "Aday = df2[df2['event'] == A]['end_datetime'].dt.day.max()\n",
    "Bday = df2[df2['event'] == B]['end_datetime'].dt.day.min()\n",
    "result = int(Aday + Bday)\n",
    "print(result) # 38\n"
   ]
  },
  {
   "cell_type": "markdown",
   "id": "1edac042",
   "metadata": {},
   "source": [
    "#### 6-5) event_log_02.csv 파일을 사용하여 다음을 구하시오.\n",
    "\n",
    "* 월별 지속시간(duration)의 합계 중에서 가장 큰 값에서 가장 작은 값을 뺀 값을 구하고, 그 값의 시간, 분, 초를 모두 더한 값을 정수로 출력하시오.\n",
    "* 지속시간(duration) = end_datetime - start_datetime\n",
    "* 월(month) : start_datetime의 월 정보 사용"
   ]
  },
  {
   "cell_type": "code",
   "execution_count": null,
   "id": "44795182",
   "metadata": {},
   "outputs": [
    {
     "name": "stdout",
     "output_type": "stream",
     "text": [
      "62\n"
     ]
    }
   ],
   "source": [
    "df = pd.read_csv(path + \"event_log_02.csv\")\n",
    "# print(df.head(), df.info(), sep=\"\\n\")\n",
    "\n",
    "# 월별 지속시간(duration)의 합계 중에서 가장 큰 값에서 가장 작은 값을 뺀 값을 구하고, \n",
    "# 그 값의 시간, 분, 초를 모두 더한 값을 정수로 출력하시오.\n",
    "# 월(month) : start_datetime의 월 정보 사용\n",
    "df['start_datetime'] = pd.to_datetime(df['start_datetime'])\n",
    "df['end_datetime'] = pd.to_datetime(df['end_datetime'])\n",
    "df['duration'] = df['end_datetime'] - df['start_datetime']\n",
    "# print(df.head(3))\n",
    "df['month'] = df['start_datetime'].dt.month\n",
    "max_value = df.groupby('month')['duration'].sum().max()\n",
    "min_value = df.groupby('month')['duration'].sum().min()\n",
    "difference = max_value - min_value\n",
    "components = difference.components\n",
    "result = int(components.hours + components.minutes + components.seconds)\n",
    "print(result) # 62"
   ]
  },
  {
   "cell_type": "code",
   "execution_count": null,
   "id": "a31aa467",
   "metadata": {},
   "outputs": [],
   "source": []
  }
 ],
 "metadata": {
  "kernelspec": {
   "display_name": "study",
   "language": "python",
   "name": "python3"
  },
  "language_info": {
   "codemirror_mode": {
    "name": "ipython",
    "version": 3
   },
   "file_extension": ".py",
   "mimetype": "text/x-python",
   "name": "python",
   "nbconvert_exporter": "python",
   "pygments_lexer": "ipython3",
   "version": "3.10.16"
  }
 },
 "nbformat": 4,
 "nbformat_minor": 5
}
