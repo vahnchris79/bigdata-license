{
 "cells": [
  {
   "cell_type": "code",
   "execution_count": 1,
   "id": "3ea896f3",
   "metadata": {},
   "outputs": [],
   "source": [
    "import pandas as pd\n",
    "pd.set_option('display.width', 120)\n",
    "pd.set_option('display.max_rows', 5000)\n",
    "import warnings\n",
    "warnings.filterwarnings('ignore')\n",
    "\n",
    "path1 = \"https://raw.githubusercontent.com/Soyoung-Yoon/bigdata/main/\"\n",
    "path2 = \"https://raw.githubusercontent.com/Soyoung-Yoon/data_01/main/\""
   ]
  },
  {
   "cell_type": "markdown",
   "id": "c53968bf",
   "metadata": {},
   "source": [
    "#### 7-1) 지역별 공간점수\n",
    "\n",
    "다음 절차에 따라 문제를 해결하시오.\n",
    "\n",
    "* bed와 bath의 값이 모두 0이 아닌 행만 선택한다.\n",
    "* 각 행(row)별로 bed * 1.5 + bath * 2 의 값을 '공간점수'라고 정의한다.\n",
    "* 지역(zip_code)별로 공간점수의 평균을 계산한 후, 지역별 평균 공간점수가 가장 높은 7개 지역의 가격(price) 평균을 반올림하여 정수로 구하라."
   ]
  },
  {
   "cell_type": "code",
   "execution_count": null,
   "id": "f579e62c",
   "metadata": {},
   "outputs": [
    {
     "name": "stdout",
     "output_type": "stream",
     "text": [
      "6434486\n"
     ]
    }
   ],
   "source": [
    "df = pd.read_csv(path1 + \"housing01.csv\")\n",
    "# print(df.head(), df.shape, sep=\"\\n\") # (104667, 12)\n",
    "# print(df.info())\n",
    "\n",
    "# bed와 bath의 값이 모두 0이 아닌 행만 선택한다.\n",
    "df = df.loc[(df['bed'] > 0) & (df['bath'] > 0)].copy()\n",
    "# print(df.shape) # 0은 없음\n",
    "\n",
    "# 각 행(row)별로 bed * 1.5 + bath * 2 의 값을 '공간점수'라고 정의한다.\n",
    "df['공간점수'] = (df['bed'] * 1.5) + (df['bed'] * 2)\n",
    "# print(df.head())\n",
    "\n",
    "# 지역(zip_code)별로 공간점수의 평균을 계산한 후, 지역별 평균 공간점수가 가장 높은 7개 지역의 가격(price) 평균을 반올림하여 정수로 구하라.\n",
    "df2 = df.groupby('zip_code')[['공간점수']].mean().reset_index().sort_values('공간점수', ascending=False)[:7]\n",
    "result = round(df2.merge(df[['zip_code', 'price']], how=\"left\", on='zip_code')['price'].mean())\n",
    "# print(result) # 6434486"
   ]
  },
  {
   "cell_type": "markdown",
   "id": "8a19d112",
   "metadata": {},
   "source": [
    "#### 7-2) 이벤트 발생 빈도\n",
    "\n",
    "다음 절차에 따라 문제를 해결하시오.\n",
    "\n",
    "* (년, 월)별로 발생한 이벤트의 개수를 확인하여, 이벤트 발생 개수 TOP3의 이벤트 수 합을 구하여 정수로 출력하시오.\n",
    "* TOP3는 가장 큰 값 3개를 의미한다.\n",
    "* start_datetime : 발생 날짜/시간\n",
    "* end_datetime : 종료 날짜/시간"
   ]
  },
  {
   "cell_type": "code",
   "execution_count": null,
   "id": "5c23503f",
   "metadata": {},
   "outputs": [
    {
     "name": "stdout",
     "output_type": "stream",
     "text": [
      "32\n"
     ]
    }
   ],
   "source": [
    "df = pd.read_csv(path2 + \"event_log_03.csv\")\n",
    "# print(df.head(), df.shape, sep=\"\\n\") # (1000, 4)\n",
    "# print(df.isna().sum().to_frame().T) # 결측치 없음\n",
    "\n",
    "# (년, 월)별로 발생한 이벤트의 개수를 확인하여, 이벤트 발생 개수 TOP3의 이벤트 수 합을 구하여 정수로 출력하시오.\n",
    "df['start_datetime'] = pd.to_datetime(df['start_datetime'])\n",
    "df['end_datetime'] = pd.to_datetime(df['end_datetime'])\n",
    "df['year'] = df['start_datetime'].dt.year\n",
    "df['month'] = df['start_datetime'].dt.month\n",
    "# print(df.head())\n",
    "df['counts'] = df['event']\n",
    "df2 = df.groupby(['year','month','event'])[['counts']].count().reset_index().sort_values('counts', ascending=False).head(3)\n",
    "result = int(df2['counts'].sum())\n",
    "# print(result) # 32\n"
   ]
  },
  {
   "cell_type": "markdown",
   "id": "cb4efb73",
   "metadata": {},
   "source": [
    "#### 7-3) 이벤트 발생 시간분석\n",
    "\n",
    "다음 절차에 따라 문제를 해결하시오.\n",
    "\n",
    "* 이벤트가 시작된 시각(start_datetime)을 기준으로 이벤트가 가장 많이 발생한 시(hour)를 구하시오.\n",
    "* 해당 시각에 발생한 모든 이벤트의 value 값을 합산하고, 그 합계를 반올림하여 정수로 출력하시오."
   ]
  },
  {
   "cell_type": "code",
   "execution_count": null,
   "id": "22936d02",
   "metadata": {},
   "outputs": [
    {
     "name": "stdout",
     "output_type": "stream",
     "text": [
      "2\n"
     ]
    }
   ],
   "source": [
    "df = pd.read_csv(path2 + \"event_log_03.csv\")\n",
    "# print(df.head(), df.info(), sep=\"\\n\")\n",
    "# print(df.isna().sum().to_frame().T) # 결측치 없음\n",
    "\n",
    "# 이벤트가 시작된 시각(start_datetime)을 기준으로 이벤트가 가장 많이 발생한 시(hour)를 구하시오.\n",
    "df['start_datetime'] = pd.to_datetime(df['start_datetime'])\n",
    "df['hour'] = df['start_datetime'].dt.hour\n",
    "# print(df.head())\n",
    "result = df.groupby('hour')['event'].count().reset_index().sort_values('event', ascending=False)['hour'].values[0]\n",
    "# print(result) # 2"
   ]
  },
  {
   "cell_type": "markdown",
   "id": "4f5fd814",
   "metadata": {},
   "source": [
    "#### 7-4) 월별 이벤트 발생 빈도\n",
    "\n",
    "다음 절차에 따라 문제를 해결하시오.\n",
    "\n",
    "* (년, 월)별로 발생한 이벤트의 개수를 확인하여, 년별로 가장 많은 이벤트가 발생한 월에 해당하는 데이터 개수의 합을 구하여 정수로 출력하시오."
   ]
  },
  {
   "cell_type": "code",
   "execution_count": null,
   "id": "cbedad8b",
   "metadata": {},
   "outputs": [
    {
     "name": "stdout",
     "output_type": "stream",
     "text": [
      "378\n"
     ]
    }
   ],
   "source": [
    "df = pd.read_csv(path2 + \"event_log_03.csv\")\n",
    "# print(df.head(), df.info(), sep=\"\\n\")\n",
    "# print(df.isna().sum().to_frame().T) # 결측치 없음\n",
    "\n",
    "#  (년, 월)별로 발생한 이벤트의 개수를 확인하여\n",
    "df['start_datetime'] = pd.to_datetime(df['start_datetime'])\n",
    "df['year'] = df['start_datetime'].dt.year\n",
    "df['month'] = df['start_datetime'].dt.month\n",
    "\n",
    "# 년별로 가장 많은 이벤트가 발생한 월에 해당하는 데이터 개수의 합을 구하여 정수로 출력\n",
    "df['counts'] = df['event']\n",
    "result = int(df.pivot_table(index='year', columns='month',  values='counts', aggfunc=\"count\").max().sum())\n",
    "# print(result) # 378\n"
   ]
  },
  {
   "cell_type": "markdown",
   "id": "97f58e37",
   "metadata": {},
   "source": [
    "#### 7-5a) 지속시간의 분위수 분석 다음 절차에 따라 문제를 해결하시오.\n",
    "\n",
    "* 지속시간 기준 75분위수(=제3사분위수) 이상에 해당하는 데이터의 지속시간(duration) 합계를 초단위 정수로 출력한다.\n",
    "* 지속시간(duration) = end_datetime - start_datetime"
   ]
  },
  {
   "cell_type": "code",
   "execution_count": null,
   "id": "71a0e4ce",
   "metadata": {},
   "outputs": [
    {
     "name": "stdout",
     "output_type": "stream",
     "text": [
      "133254\n"
     ]
    }
   ],
   "source": [
    "df = pd.read_csv(path2 + \"event_log_03.csv\")\n",
    "# print(df.head(), df.info(), sep=\"\\n\")\n",
    "\n",
    "# 지속시간 기준 75분위수(=제3사분위수) 이상에 해당하는 데이터의 지속시간(duration) 합계를 \n",
    "# 초단위 정수로 출력한다.\n",
    "df['start_datetime'] = pd.to_datetime(df['start_datetime'])\n",
    "df['end_datetime'] = pd.to_datetime(df['end_datetime'])\n",
    "df['duration'] = df['end_datetime'] - df['start_datetime']\n",
    "\n",
    "result = int(df[df['duration'] >= df['duration'].quantile(0.75)]['duration'].sum().total_seconds())\n",
    "print(result) # 133254"
   ]
  },
  {
   "cell_type": "markdown",
   "id": "a09e7cfe",
   "metadata": {},
   "source": [
    "#### 7-5b) 지속시간의 정확한 개수 사용\n",
    "\n",
    "다음 절차에 따라 문제를 해결하시오.\n",
    "\n",
    "* 지속시간 기준 정확히 상위 25%에 해당하는 데이터 개수만 뽑아 지속시간(duration) 합계를 초단위 정수로 출력한다.\n",
    "* 지속시간(duration) = end_datetime - start_datetime"
   ]
  },
  {
   "cell_type": "code",
   "execution_count": null,
   "id": "cb4ec576",
   "metadata": {},
   "outputs": [
    {
     "name": "stdout",
     "output_type": "stream",
     "text": [
      "133254\n"
     ]
    }
   ],
   "source": [
    "df = pd.read_csv(path2 + \"event_log_03.csv\")\n",
    "# print(df.head(), df.info(), sep=\"\\n\")\n",
    "\n",
    "# 지속시간 기준 정확히 상위 25%에 해당하는 데이터 개수만 뽑아 지속시간(duration) 합계를 초단위 정수로 출력한다.\n",
    "df['start_datetime'] = pd.to_datetime(df['start_datetime'])\n",
    "df['end_datetime'] = pd.to_datetime(df['end_datetime'])\n",
    "df['duration'] = df['end_datetime'] - df['start_datetime']\n",
    "\n",
    "dur25 = len(df[df['duration']>=df['duration'].quantile(0.75)])\n",
    "result = int(df['duration'].nlargest(dur25, keep='first').sum().total_seconds())\n",
    "# print(result) # 133254"
   ]
  },
  {
   "cell_type": "code",
   "execution_count": null,
   "id": "878a7ed1",
   "metadata": {},
   "outputs": [],
   "source": []
  }
 ],
 "metadata": {
  "kernelspec": {
   "display_name": "study",
   "language": "python",
   "name": "python3"
  },
  "language_info": {
   "codemirror_mode": {
    "name": "ipython",
    "version": 3
   },
   "file_extension": ".py",
   "mimetype": "text/x-python",
   "name": "python",
   "nbconvert_exporter": "python",
   "pygments_lexer": "ipython3",
   "version": "3.10.16"
  }
 },
 "nbformat": 4,
 "nbformat_minor": 5
}
