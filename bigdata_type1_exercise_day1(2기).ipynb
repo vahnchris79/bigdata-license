{
 "cells": [
  {
   "cell_type": "code",
   "execution_count": 1,
   "id": "c3e04046",
   "metadata": {},
   "outputs": [],
   "source": [
    "import pandas as pd\n",
    "pd.set_option(\"display.max_row\", 1000)\n",
    "pd.set_option(\"display.max_column\", 100)\n",
    "import warnings\n",
    "warnings.filterwarnings(\"ignore\")\n",
    "\n",
    "path1 = \"https://raw.githubusercontent.com/Soyoung-Yoon/bigdata/main/\"\n",
    "path2 = \"https://raw.githubusercontent.com/Soyoung-Yoon/data_01/main/\""
   ]
  },
  {
   "cell_type": "markdown",
   "id": "de5094b0",
   "metadata": {},
   "source": [
    "**1-1a) 펭귄 종에 따른 특성 비교 분석**\n",
    "\n",
    "species가 'Gentoo'인 데이터 중 flipper_length_mm이 상위 20% 이상인 개체들의 body_mass_g 평균값은?\n",
    "- flipper_length_mm 및 body_mass_g의 결측치는 species가 'Gentoo'인 표본의 평균값으로 채우기 하도록 합니다.\n",
    "- 결과는 반올림하여 소수점 아래 3자리까지 출력한다."
   ]
  },
  {
   "cell_type": "code",
   "execution_count": null,
   "id": "95f9ef20",
   "metadata": {},
   "outputs": [
    {
     "name": "stdout",
     "output_type": "stream",
     "text": [
      "5543.75\n"
     ]
    }
   ],
   "source": [
    "df = pd.read_csv(path2 + \"penguins04.csv\")\n",
    "# print(df.shape) # (335, 7)\n",
    "# print(df.isna().sum().to_frame().T)\n",
    "\n",
    "# species가 'Gentoo'인 데이터 중 flipper_length_mm이 상위 20% 이상인 개체들의 body_mass_g 평균값은?\n",
    "# flipper_length_mm 및 body_mass_g의 결측치는 species가 'Gentoo'인 표본의 평균값으로 채우기\n",
    "# 결과는 반올림하여 소수점 아래 3자리까지 출력\n",
    "\n",
    "# species가 'Gentoo'인 데이터 추출\n",
    "df = df[df['species'] == 'Gentoo'].copy()\n",
    "# print(df.shape) # (120, 7)\n",
    "\n",
    "# flipper_length_mm 및 body_mass_g의 결측치 채우기\n",
    "s1 = df.groupby('species')['flipper_length_mm'].transform('mean')\n",
    "s2 = df.groupby('species')['body_mass_g'].transform('mean')\n",
    "df['flipper_length_mm'] = df['flipper_length_mm'].fillna(s1)\n",
    "df['body_mass_g'] = df['body_mass_g'].fillna(s2)\n",
    "# print(df.isna().sum().to_frame().T)\n",
    "\n",
    "# flipper_length_mm이 상위 20% 이상인 개체들의 body_mass_g 평균값\n",
    "result = round(df[df['flipper_length_mm'] >= df['flipper_length_mm'].quantile(0.8)]['body_mass_g'].mean(), 3)\n",
    "# print(result) # 5543.75\n"
   ]
  },
  {
   "cell_type": "markdown",
   "id": "d0a65563",
   "metadata": {},
   "source": [
    "**1-2a) 펭귄의 성별 및 신체 특성 분석**\n",
    "\n",
    "body_mass_g 변수에서 이상치를 제거한 후(평균 ± 1.5*표준편차 기준), 남은 데이터 중 sex가 'Female'인 펭귄들의 bill_length_mm 평균값은?\n",
    "- 결측치를 포함한 모든 행을 제거하고 사용합니다.\n",
    "- 결과는 반올림하여 소수점 아래 3자리까지 출력한다."
   ]
  },
  {
   "cell_type": "code",
   "execution_count": 51,
   "id": "4c6dd73d",
   "metadata": {},
   "outputs": [
    {
     "name": "stdout",
     "output_type": "stream",
     "text": [
      "42.286\n"
     ]
    }
   ],
   "source": [
    "df = pd.read_csv(path1 + \"penguins01.csv\")\n",
    "# print(df.head(3))\n",
    "# print(df.shape) # (344, 7)\n",
    "# print(df.isna().sum().to_frame().T)\n",
    "\n",
    "# body_mass_g 변수에서 이상치를 제거한 후(평균 ± 1.5*표준편차 기준), 남은 데이터 중 sex가 \n",
    "# 'Female'인 펭귄들의 bill_length_mm 평균값은?\n",
    "# 결측치를 포함한 모든 행을 제거하고 사용, 결과는 반올림하여 소수점 아래 3자리까지 출력\n",
    "\n",
    "# 결측치 제거\n",
    "df = df.dropna()\n",
    "# print(df.isna().sum().to_frame().T)\n",
    "\n",
    "# body_mass_g 변수에서 이상치(평균 ± 1.5*표준편차 기준)를 제거\n",
    "mean = df['body_mass_g'].mean()\n",
    "std = df['body_mass_g'].std(ddof=1)\n",
    "low = mean - (1.5 * std)\n",
    "high = mean + (1.5 * std)\n",
    "df = df[(df['body_mass_g'] >= low) & (df['body_mass_g'] <= high)].copy()\n",
    "\n",
    "# 남은 데이터 중 sex가 'Female'인 펭귄들의 bill_length_mm 평균값\n",
    "result = round(df[df['sex']=='Female']['bill_length_mm'].mean(), 3)\n",
    "print(result) # 42"
   ]
  },
  {
   "cell_type": "markdown",
   "id": "4fdc70ed",
   "metadata": {},
   "source": [
    "**1-3a) 결측치 처리에 따른 데이터 특성 변화 분석**\n",
    "\n",
    "flipper_length_mm의 결측치를 해당 컬럼의 중앙값으로 대체한 후, '대체 전의 표준편차' - '대체 후의 표준편차' 값을 구하면?\n",
    "- 결과는 반올림하여 소수점 아래 3자리까지 출력한다."
   ]
  },
  {
   "cell_type": "code",
   "execution_count": null,
   "id": "a47d164f",
   "metadata": {},
   "outputs": [
    {
     "name": "stdout",
     "output_type": "stream",
     "text": [
      "0.038\n"
     ]
    }
   ],
   "source": [
    "df = pd.read_csv(path1 + \"penguins01.csv\")\n",
    "# print(df.head(3))\n",
    "# print(df.isna().sum().to_frame().T)\n",
    "\n",
    "# flipper_length_mm의 결측치를 해당 컬럼의 중앙값으로 대체\n",
    "df2 = df.copy()\n",
    "df2['flipper_length_mm'] = df2['flipper_length_mm'].fillna(df2['flipper_length_mm'].median())\n",
    "\n",
    "# '대체 전의 표준편차' - '대체 후의 표준편차' 값을 구하기\n",
    "before_std = df['flipper_length_mm'].std(ddof=1)\n",
    "after_std = df2['flipper_length_mm'].std(ddof=1)\n",
    "result = round(before_std - after_std, 3)\n",
    "# print(result) # 0.038"
   ]
  },
  {
   "cell_type": "markdown",
   "id": "f6349067",
   "metadata": {},
   "source": [
    "**1-4a) 펭귄 종 간의 체중 차이에 따른 성별 분포 분석**\n",
    "\n",
    "species의 body_mass_g의 평균의 차이가 가장 큰 두 가지 품종의 sex이 Female의 표본 개수는?\n",
    "- 모든 결측치를 제거한 뒤 작업하도록 한다."
   ]
  },
  {
   "cell_type": "code",
   "execution_count": null,
   "id": "935daf69",
   "metadata": {},
   "outputs": [
    {
     "name": "stdout",
     "output_type": "stream",
     "text": [
      "131\n"
     ]
    }
   ],
   "source": [
    "df = pd.read_csv(path1 + \"penguins01.csv\")\n",
    "# print(df.head(3))\n",
    "\n",
    "# 모든 결측치를 제거\n",
    "df = df.dropna()\n",
    "\n",
    "# species의 body_mass_g의 평균의 차이\n",
    "s = df.groupby('species')['body_mass_g'].mean()\n",
    "# print(s)\n",
    "diff1 = s.values[2] - s.values[0]\n",
    "diff2 = s.values[2] - s.values[1]\n",
    "# print(diff1, diff2) # 1386.2725912282726 1359.3487394957988\n",
    "\n",
    "# 가장 큰 두 가지 품종의 sex이 Female의 표본 개수\n",
    "result = (df.loc[df['species'].isin([s.index[0],s.index[2]]), 'sex'] == 'Female').sum()\n",
    "print(result) # 131\n"
   ]
  },
  {
   "cell_type": "markdown",
   "id": "7706eb51",
   "metadata": {},
   "source": [
    "**1-5a) 부리 길이 극단 그룹의 체중 비교 분석**\n",
    "\n",
    "bill_length_mm 기준으로 상위 20%와 하위 10%에 해당하는 개체들의 body_mass_g의 평균값을 각각 구한 뒤, 이 두 평균값의 차이(상위 20% 평균 - 하위 10% 평균)을 구하면?\n",
    "- 단, 모든 결측치를 제거한 후 작업한다.\n",
    "- 결과는 반올림하여 소수점 아래 3자리까지 출력한다."
   ]
  },
  {
   "cell_type": "code",
   "execution_count": null,
   "id": "3b521a76",
   "metadata": {},
   "outputs": [
    {
     "name": "stdout",
     "output_type": "stream",
     "text": [
      "1262.879\n"
     ]
    }
   ],
   "source": [
    "df = pd.read_csv(path2 + \"penguins05.csv\")\n",
    "# print(df.head(3))\n",
    "# print(df.isna().sum().to_frame()) # 결측치 없음\n",
    "# print(df.shape) # (330, 7)\n",
    "\n",
    "# bill_length_mm 기준으로 상위 20%와 하위 10%에 해당하는 개체들 추출\n",
    "high = df['bill_length_mm'].quantile(0.8)\n",
    "low = df['bill_length_mm'].quantile(0.1)\n",
    "s1 = df[df['bill_length_mm'] >= high].copy()\n",
    "s2 = df[df['bill_length_mm'] <= low].copy()\n",
    "# print(s1.shape, s2.shape) # (66, 7) (33, 7)\n",
    "\n",
    "# body_mass_g의 평균값을 각각 구한 뒤, 이 두 평균값의 차이(상위 20% 평균 - 하위 10% 평균)을 구하기\n",
    "high_mean = s1['body_mass_g'].mean()\n",
    "low_mean = s2['body_mass_g'].mean()\n",
    "result = round(high_mean - low_mean, 3)\n",
    "print(result) # 1262.879"
   ]
  },
  {
   "cell_type": "code",
   "execution_count": null,
   "id": "6ec6d656",
   "metadata": {},
   "outputs": [],
   "source": []
  }
 ],
 "metadata": {
  "kernelspec": {
   "display_name": "study",
   "language": "python",
   "name": "python3"
  },
  "language_info": {
   "codemirror_mode": {
    "name": "ipython",
    "version": 3
   },
   "file_extension": ".py",
   "mimetype": "text/x-python",
   "name": "python",
   "nbconvert_exporter": "python",
   "pygments_lexer": "ipython3",
   "version": "3.10.16"
  }
 },
 "nbformat": 4,
 "nbformat_minor": 5
}
