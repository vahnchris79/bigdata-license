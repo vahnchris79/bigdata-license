{
 "cells": [
  {
   "cell_type": "code",
   "execution_count": 2,
   "id": "b07970f6",
   "metadata": {},
   "outputs": [],
   "source": [
    "import pandas as pd\n",
    "pd.set_option('display.max_columns', 100)\n",
    "pd.set_option('display.max_rows', 100)\n",
    "import warnings\n",
    "warnings.filterwarnings('ignore')\n",
    "\n",
    "path1 = \"https://raw.githubusercontent.com/Soyoung-Yoon/bigdata/main/\"\n",
    "path2 = \"https://raw.githubusercontent.com/Soyoung-Yoon/data_01/main/\""
   ]
  },
  {
   "cell_type": "markdown",
   "id": "f11ac6c9",
   "metadata": {},
   "source": [
    "5-1) tips 데이터셋을 이용한다.\n",
    "- tip / total_bill 비율이 0.15를 초과하고, size가 3 이상인 경우만 필터링한다.\n",
    "- 이 조건을 만족하는 손님의 총 인원 수(size의 합)를 구하시오."
   ]
  },
  {
   "cell_type": "code",
   "execution_count": null,
   "id": "4a54a356",
   "metadata": {},
   "outputs": [
    {
     "name": "stdout",
     "output_type": "stream",
     "text": [
      "143\n"
     ]
    }
   ],
   "source": [
    "df = pd.read_csv(path1 + \"tips.csv\")\n",
    "# print(df.head(3))\n",
    "\n",
    "# tip / total_bill 비율이 0.15를 초과하고, size가 3 이상인 경우만 필터링\n",
    "cond = ((df['tip'] / df['total_bill']) > 0.15) & (df['size'] >= 3)\n",
    "s = df[cond]\n",
    "\n",
    "# 이 조건을 만족하는 손님의 총 인원 수(size의 합)를 구하시오\n",
    "result = s['size'].sum()\n",
    "print(result) # 143"
   ]
  },
  {
   "cell_type": "markdown",
   "id": "15c211d4",
   "metadata": {},
   "source": [
    "5-2) 데이터에서 month가 'Jan'부터 'Jun'까지인 경우를 상반기,\n",
    "'Jul'부터 'Dec'까지인 경우를 하반기로 나누어 분석한다.\n",
    "- 상반기와 하반기 각각에 대해, 연도(year)별 총 승객 수(passengers)를 계산한다.\n",
    "- 각 데이터에서, 연도별 승객 수 증가량을 계산하라.\n",
    "단, 첫 번째 연도는 증가량을 0으로 둔다.\n",
    "- 상반기와 하반기 각각의 증가량 중, 가장 많이 증가한 연도를 구한다.\n",
    "- flights 전체 데이터에서, 최대 승객 수를 구한다.\n",
    "- (상반기 최대 증가 연도) + (하반기 최대 증가 연도) + (최대 승객 수)의 결과를 정수로 출력하시오."
   ]
  },
  {
   "cell_type": "code",
   "execution_count": null,
   "id": "887f5b27",
   "metadata": {},
   "outputs": [
    {
     "name": "stdout",
     "output_type": "stream",
     "text": [
      "4541\n"
     ]
    }
   ],
   "source": [
    "df = pd.read_csv(path1 + \"flights.csv\")\n",
    "# print(df.head(3))\n",
    "\n",
    "# month가 'Jan'부터 'Jun'까지인 경우를 상반기, 'Jul'부터 'Dec'까지인 경우를 하반기\n",
    "# print(df['month'].unique())\n",
    "front_df = df.loc[df['month'].str.contains('Jan|Feb|Mar|Apr|May|June')].copy()\n",
    "back_df = df.loc[df['month'].str.contains('Jul|Aug|Sep|Oct|Nov|Dec')].copy()\n",
    "\n",
    "# 상반기와 하반기 각각에 대해, 연도(year)별 총 승객 수(passengers)를 계산\n",
    "sang = front_df.groupby('year', as_index=False)['passengers'].sum()\n",
    "ha = back_df.groupby('year', as_index=False)['passengers'].sum()\n",
    "\n",
    "# 각 데이터에서, 연도별 승객 수 증가량을 계산하라. 단, 첫 번째 연도는 증가량을 0으로 둔다.\n",
    "sang['change'] = sang['passengers'].diff().fillna(0)\n",
    "ha['change'] = ha['passengers'].diff().fillna(0)\n",
    "\n",
    "# 상반기와 하반기 각각의 증가량 중, 가장 많이 증가한 연도를 구한다.\n",
    "sang_year = sang[sang.index==sang['change'].idxmax()]['year'].values[0]\n",
    "ha_year = ha[ha.index==ha['change'].idxmax()]['year'].values[0]\n",
    "# print(sang_year, ha_year)\n",
    "\n",
    "# flights 전체 데이터에서, 최대 승객 수\n",
    "max_value = df['passengers'].max()\n",
    "# print(max_value)\n",
    "\n",
    "# (상반기 최대 증가 연도) + (하반기 최대 증가 연도) + (최대 승객 수)의 결과를 정수로 출력\n",
    "result = int(sang_year + ha_year + max_value)\n",
    "print(result) # 4541\n"
   ]
  },
  {
   "cell_type": "markdown",
   "id": "dffe9ede",
   "metadata": {},
   "source": [
    "5-3) tips 데이터셋에서 다음 조건을 만족하는 손님의 total_bill 평균을 반올림하여 소수점 아래 3자리까지 구하시오.\n",
    "- total_bill이 자신이 속한 요일(day)의 평균 이상인 손님만 선택한다.\n",
    "- 위 조건을 만족하는 손님 중 sex가 Female이고, tip이 중앙값 이상인 데이터만 선택한다."
   ]
  },
  {
   "cell_type": "code",
   "execution_count": null,
   "id": "d7a18af0",
   "metadata": {},
   "outputs": [
    {
     "name": "stdout",
     "output_type": "stream",
     "text": [
      "29.335\n"
     ]
    }
   ],
   "source": [
    "df = pd.read_csv(path1 + \"tips.csv\")\n",
    "# print(df.head(3), df.shape) # (244, 7)\n",
    "\n",
    "# total_bill이 자신이 속한 요일(day)의 평균 이상인 손님만 선택\n",
    "s = df.groupby('day')['total_bill'].transform('mean')\n",
    "df = df[df['total_bill'] >= s].copy()\n",
    "# print(df.shape) # (97, 7)\n",
    "\n",
    "# 위 조건을 만족하는 손님 중 sex가 Female이고, tip이 중앙값 이상인 데이터만 선택\n",
    "df = df[(df['sex'] == 'Female') & (df['tip'] >= df['tip'].median())].copy()\n",
    "\n",
    "# total_bill 평균을 반올림하여 소수점 아래 3자리까지 구하시오.\n",
    "result = round(df['total_bill'].mean(), 3)\n",
    "# print(result) # 29.335\n"
   ]
  },
  {
   "cell_type": "markdown",
   "id": "94193f9b",
   "metadata": {},
   "source": [
    "5-4) titanic_dataq.csv를 사용하여 다음 조건을 만족하는 승객 수를 정수로 구하시오.\n",
    "- Cabin 컬럼의 결측치를 Cabin 컬럼의 첫 글자 중 최빈값으로 채우기 한 뒤, Cabin 컬럼의 값을 첫 글자로 변경한다. (예) C12 => C\n",
    "- Cabin 컬럼의 최빈값에 해당하는 데이터만 추출하여, 나이(Age) 컬럼의 결측치를 Embarked와 Pclass 조합별 평균 나이로 채운다.\n",
    "- Age 컬럼의 결측치를 채운 후, Age가 Embarked와 Pclass 조합별 중앙값 이상이고, Fare가 중앙값보다 높은 승객만 남긴다."
   ]
  },
  {
   "cell_type": "code",
   "execution_count": null,
   "id": "03349774",
   "metadata": {},
   "outputs": [
    {
     "name": "stdout",
     "output_type": "stream",
     "text": [
      "243\n"
     ]
    }
   ],
   "source": [
    "df = pd.read_csv(path1 + \"titanic_dataq.csv\")\n",
    "# print(df.head(3), df.shape) # (891, 12)\n",
    "\n",
    "# Cabin 컬럼의 결측치를 Cabin 컬럼의 첫 글자 중 최빈값으로 채우기\n",
    "df['Cabin'] = df['Cabin'].fillna(df['Cabin'].mode()[1][0])\n",
    "df['Cabin'] = df['Cabin'][0]\n",
    "\n",
    "# Cabin 컬럼의 최빈값에 해당하는 데이터만 추출하여, 나이(Age) 컬럼의 결측치를 \n",
    "# Embarked와 Pclass 조합별 평균 나이로 채운다.\n",
    "df = df[df['Cabin'] == df['Cabin'].mode().values[0]]\n",
    "age_mean = df.groupby(['Embarked', 'Pclass'])['Age'].transform('mean')\n",
    "df['Age'] = df['Age'].fillna(age_mean)\n",
    "\n",
    "# Age가 Embarked와 Pclass 조합별 중앙값 이상이고, Fare가 중앙값보다 높은 승객만 남긴다.\n",
    "age_median = df.groupby(['Embarked', 'Pclass'])['Age'].transform('median')\n",
    "filter = df[(df['Age'] >= age_median) & (df['Fare'] >= df['Fare'].median())]\n",
    "\n",
    "# 승객 수를 정수로 구하시오.\n",
    "result = len(filter)\n",
    "print(result) # 243"
   ]
  },
  {
   "cell_type": "markdown",
   "id": "afc7a66a",
   "metadata": {},
   "source": [
    "5-5) California housing 데이터셋을 활용하여 다음 조건을 모두 만족하는 계산을 수행하시오.\n",
    "- Latitude 값을 기준으로 데이터를 5개 구간으로 분위수 분할하여 ocean_proximity 컬럼을 생성한다. (pd.qcut(..., q=5, labels=False)를 사용할 것)\n",
    "- 다음의 필터링을 수행하기 전, 후의 데이터에 대해 ocean_proximity별 HouseAge의 중앙값(median)을 계산한다.\n",
    "- 필터링 전 데이터에 대한 계산 결과를 S1, 필터링 후 데이터에 대한 계산 결과를 S2로 저장한다.\n",
    "- HouseAge가 자신이 속한 ocean_proximity 그룹의 중앙값보다 큰 경우만 필터링한다.\n",
    "- 최종적으로 S2에서 S1의 값을 뺀(S2 - S1) 값 중 최소값을 정수로 구하시오."
   ]
  },
  {
   "cell_type": "code",
   "execution_count": null,
   "id": "7b7324ae",
   "metadata": {},
   "outputs": [
    {
     "name": "stdout",
     "output_type": "stream",
     "text": [
      "8\n"
     ]
    }
   ],
   "source": [
    "df = pd.read_csv(path1 + \"california.csv\")\n",
    "# print(df.head(3), df.shape) # (20640, 9)\n",
    "\n",
    "# Latitude 값을 기준으로 데이터를 5개 구간으로 분위수 분할하여 ocean_proximity 컬럼을 생성한다. \n",
    "# (pd.qcut(..., q=5, labels=False)를 사용할 것)\n",
    "df['ocean_proximity'] = pd.qcut(df['Latitude'], q=5, labels=False)\n",
    "\n",
    "# 필터링을 수행하기 전, 후의 데이터에 대해 ocean_proximity별 HouseAge의 중앙값(median)을 계산한다.\n",
    "median = df.groupby('ocean_proximity')['HouseAge'].transform('median')\n",
    "\n",
    "# 필터링 전 데이터에 대한 계산 결과를 S1, 필터링 후 데이터에 대한 계산 결과를 S2로 저장한다.\n",
    "# HouseAge가 자신이 속한 ocean_proximity 그룹의 중앙값보다 큰 경우만 필터링한다.\n",
    "S1 = df['HouseAge'].median()\n",
    "S2 = df[df['HouseAge'] > median]['HouseAge'].median()\n",
    "\n",
    "# S2에서 S1의 값을 뺀(S2 - S1) 값 중 최소값을 정수로 구하시오.\n",
    "result = int(S2 - S1)\n",
    "print(result) # 8\n"
   ]
  }
 ],
 "metadata": {
  "kernelspec": {
   "display_name": "study",
   "language": "python",
   "name": "python3"
  },
  "language_info": {
   "codemirror_mode": {
    "name": "ipython",
    "version": 3
   },
   "file_extension": ".py",
   "mimetype": "text/x-python",
   "name": "python",
   "nbconvert_exporter": "python",
   "pygments_lexer": "ipython3",
   "version": "3.10.16"
  }
 },
 "nbformat": 4,
 "nbformat_minor": 5
}
