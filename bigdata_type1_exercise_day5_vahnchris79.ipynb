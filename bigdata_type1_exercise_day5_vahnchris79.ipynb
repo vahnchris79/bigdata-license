{
 "cells": [
  {
   "cell_type": "code",
   "execution_count": 2,
   "id": "154d96d3",
   "metadata": {},
   "outputs": [],
   "source": [
    "import pandas as pd\n",
    "pd.set_option('display.width', 120)"
   ]
  },
  {
   "cell_type": "markdown",
   "id": "d6b87d2c",
   "metadata": {},
   "source": [
    "#### 5-1) tips 데이터셋을 이용한다.\n",
    "* tip/total_bill 비율이 0.15를 초과하고, size가 3이상인 경우만 필터링한다.\n",
    "* 이 조건을 만족하는 손님의 총 인원 수(size의 합)을 구하시오."
   ]
  },
  {
   "cell_type": "code",
   "execution_count": 7,
   "id": "29137904",
   "metadata": {},
   "outputs": [],
   "source": [
    "filename=\"https://raw.githubusercontent.com/Soyoung-Yoon/bigdata/main/tips.csv\"\n",
    "df = pd.read_csv(filename)\n",
    "# print(df.head())\n",
    "\n",
    "# tip / total_bill 비율이 0.15를 초과하고, size가 3 이상인 경우만 필터링한다.\n",
    "df['ratio'] = df['tip'] / df['total_bill']\n",
    "cond = (df['ratio'] > 0.15) & (df['size'] >= 3)\n",
    "\n",
    "# 이 조건을 만족하는 손님의 총 인원 수(size의 합)를 구하시오.\n",
    "result = df[cond]['size'].sum()\n",
    "# print(result) # 143"
   ]
  },
  {
   "cell_type": "markdown",
   "id": "9cbaa1ef",
   "metadata": {},
   "source": [
    "#### 5-2) 데이터에서 month가 'Jan'부터 'Jun'까지인 경우를 상반기, 'Jul'부터 'Dec'까지인 경우를 하반기로 나누어 분석한다.\n",
    "* 상반기와 하반기 각각에 대해 연도별 총 승객 수(passengers)를 계산한다.\n",
    "* 각 데이터에서, 연도별 승객 수 증가량을 계산하라. 단, 첫 번째 연도는 증가량을 0으로 둔다.\n",
    "* 상반기와 하반기 각각의 증가량 중, 가장 많이 증가한 연도를 구한다.\n",
    "* flights 전체 데이터에서, 최대 승객 수를 구한다.\n",
    "* (상반기 최대 증가 연도) + (하반기 최대 증가 연도) + (최대 승객 수)의 결과를 정수로 출력하시오."
   ]
  },
  {
   "cell_type": "code",
   "execution_count": 31,
   "id": "8cfec498",
   "metadata": {},
   "outputs": [],
   "source": [
    "filename = \"https://raw.githubusercontent.com/Soyoung-Yoon/bigdata/main/flights.csv\"\n",
    "df = pd.read_csv(filename)\n",
    "# print(df.head())\n",
    "\n",
    "# 상반기(df1), 하반기(df2) 데이터 분류\n",
    "# print(df['month'].unique())\n",
    "df1 = df[df['month'].str.contains('Jan|Feb|Mar|Apr|May|Jun')].copy() \n",
    "df2 = df[df['month'].str.contains('Jul|Aug|Sep|Oct|Nov|Dec')].copy()\n",
    "\n",
    "# 각 데이터에서 연도별 승객 수 증가량을 계산하라. 단, 첫 번째 연도는 증가량을 0으로 둔다.\n",
    "df1_diff = df1.groupby('year')['passengers'].sum().reset_index()\n",
    "df1_diff['diff'] = df1_diff['passengers'].diff().fillna(0)\n",
    "# print(df1_diff.head())\n",
    "df2_diff = df2.groupby('year')['passengers'].sum().reset_index()\n",
    "df2_diff['diff'] = df2_diff['passengers'].diff().fillna(0)\n",
    "# print(df2_diff.head())\n",
    "\n",
    "# 상반기와 하반기 각각의 증가량 중, 가장 많이 증가한 연도를 구한다.\n",
    "df1_max_year = int(df1_diff.iloc[df1_diff['diff'].idxmax()]['year'])\n",
    "df2_max_year = int(df2_diff.iloc[df2_diff['diff'].idxmax()]['year'])\n",
    "# print(df1_max_year, df2_max_year) # 1960 1959\n",
    "\n",
    "# flights 전체 데이터에서, 최대 승객 수\n",
    "max_passengers = df['passengers'].max()\n",
    "# print(max_passengers) # 622\n",
    "\n",
    "# (상반기 최대 증가 연도) + (하반기 최대 증가 연도) + (최대 승객 수)의 결과를 정수로 출력\n",
    "result = df1_max_year + df2_max_year + max_passengers\n",
    "# print(int(result)) # 4541\n"
   ]
  },
  {
   "cell_type": "markdown",
   "id": "5dcbd40b",
   "metadata": {},
   "source": [
    "#### 5-3) tips 데이터셋에서 다음 조건을 만족하는 손님의 total_bill 평균을 반올림하여 소수점 아래 3자리까지 구하시오.\n",
    "* total_bill이 자신이 속한 요일(day)의 평균 이상인 손님만 선택한다.\n",
    "* 위 조건을 만족하는 손님 중 sex가 Female이고, tip이 중앙값 이상인 데이터만 선택한다."
   ]
  },
  {
   "cell_type": "code",
   "execution_count": null,
   "id": "b028bb8e",
   "metadata": {},
   "outputs": [
    {
     "name": "stdout",
     "output_type": "stream",
     "text": [
      "29.335\n"
     ]
    }
   ],
   "source": [
    "filename = \"https://raw.githubusercontent.com/Soyoung-Yoon/bigdata/main/tips.csv\"\n",
    "df = pd.read_csv(filename)\n",
    "# print(df.head())\n",
    "\n",
    "# total_bill이 자신이 속한 요일(day)의 평균 이상인 손님만 선택\n",
    "day_mean = df.groupby('day')['total_bill'].transform('mean')\n",
    "df2 = df[df['total_bill'] >= day_mean]\n",
    "\n",
    "# 위 조건을 만족하는 손님 중 sex가 Female이고, tip이 중앙값 이상인 데이터만 선택\n",
    "df3 = df2[(df2['sex'] == 'Female') & (df2['tip'] >= df2['tip'].median())]\n",
    "\n",
    "# 다음 조건을 만족하는 손님의 total_bill 평균을 반올림하여 소수점 아래 3자리까지 구하시오\n",
    "result = df3['total_bill'].mean()\n",
    "# print(round(result, 3)) # 29.335"
   ]
  },
  {
   "cell_type": "markdown",
   "id": "18bdd5ab",
   "metadata": {},
   "source": [
    "#### 5-4) titanic_dataq.csv를 사용하여 다음 조건을 만족하는 승객 수를 정수로 구하시오.\n",
    "* Cabin컬럼의 결측치를 Cabin 컬럼의 첫글자 중 최빈값으로 채우기 한 뒤, Cabin컬럼의 값을 첫글자로 변경한다.\n",
    "* Cabin컬럼의 최빈값에 해당하는 데이터만 추출하여, 나이(Age) 컬럼의 결측치를 Embarked와 Pclass 조합별 평균나이로 채운다.\n",
    "* Age 컬럼의 결측치로 채운 후, Age가 Embarked와 Pclass 조합별 중앙값 이상이고, Fare가 중앙값보다 높은 승객만 남긴다."
   ]
  },
  {
   "cell_type": "code",
   "execution_count": null,
   "id": "cd61301c",
   "metadata": {},
   "outputs": [],
   "source": [
    "filename = \"https://raw.githubusercontent.com/Soyoung-Yoon/bigdata/main/titanic_dataq.csv\"\n",
    "df = pd.read_csv(filename)\n",
    "# print(df.head())\n",
    "\n",
    "# Cabin 컬럼의 결측치를 Cabin 컬럼의 첫 글자 중 최빈값으로 채우기 한 뒤, Cabin 컬럼의 값을 첫 글자로 변경한다.\n",
    "# (예) C12 => C\n",
    "df['first_words'] = df['Cabin'].astype(str).str[0]\n",
    "mode_first = df.loc[df['Cabin'].notnull(), 'first_words'].mode()[0]\n",
    "df['Cabin'] = df['Cabin'].fillna(mode_first)\n",
    "df['Cabin'] = df['Cabin'].str[0]\n",
    "# print(df.head())\n",
    "\n",
    "# Cabin 컬럼의 최빈값에 해당하는 데이터만 추출하여, 나이(Age) 컬럼의 결측치를 Embarked와 Pclass 조합별 평균 나이로 채운다.\n",
    "df2 = df[df['Cabin'] == mode_first].copy()\n",
    "df2['Age'] = df2['Age'].fillna(df2.groupby(['Embarked','Pclass'])['Age'].transform('mean'))\n",
    "# print(df2.isna().sum().to_frame().T)\n",
    "\n",
    "# Age 컬럼의 결측치를 채운 후, Age가 Embarked와 Pclass 조합별 중앙값 이상이고, Fare가 중앙값보다 높은 승객만 남긴다.\n",
    "cond1 = df2.groupby(['Embarked', 'Pclass'])['Age'].transform('median')\n",
    "cond2 = df2.groupby(['Embarked', 'Pclass'])['Fare'].transform('median')\n",
    "result = len(df2[(df2['Age'] >= cond1) & (df2['Fare'] > cond2)])\n",
    "# print(int(result)) # 181"
   ]
  },
  {
   "cell_type": "markdown",
   "id": "c05a7590",
   "metadata": {},
   "source": [
    "#### 5-5) California housing 데이터셋을 활용하여 다음 조건을 모두 만족하는 계산을 수행하시오.\n",
    "\n",
    "* Latitude 값을 기준으로 데이터를 5개 구간으로 분위수로 분할하여 ocean_proximity 컬럼을 생성한다.\n",
    "(pd.qcut(..., q=5, labels=False)를 사용할 것)\n",
    "* 다음의 필터링을 수행하기 전, 후의 데이터에 대해 ocean_proximity별 HouseAge의 중앙값(median)을 계산한다.\n",
    "* 필터링 전 데이터에 대한 계산 결과를 S1, 필터링 후 데이터에 대한 계산결과를 S2로 저장한다.\n",
    "* HouseAge가 자신이 속한 ocena_proximity 그룹의 중앙값보다 큰 경우만 필터링한다.\n",
    "* 최종적으로 S2에서 S1의 값을 뺀(S2 - S1) 값 중 최소값을 정수로 구하시오."
   ]
  },
  {
   "cell_type": "code",
   "execution_count": null,
   "id": "9cf4a5d7",
   "metadata": {},
   "outputs": [
    {
     "name": "stdout",
     "output_type": "stream",
     "text": [
      "7\n"
     ]
    }
   ],
   "source": [
    "filename = \"https://raw.githubusercontent.com/Soyoung-Yoon/bigdata/main/california.csv\"\n",
    "df = pd.read_csv(filename)\n",
    "# print(df.head())\n",
    "\n",
    "# Latitude 값을 기준으로 데이터를 5개 구간으로 분위수 분할하여 ocean_proximity 컬럼을 생성한다.\n",
    "# (pd.qcut(..., q=5, labels=False)를 사용할 것)\n",
    "df['ocean_proximity'] = pd.qcut(df['Latitude'], q=5, labels=False)\n",
    "# print(df.head())\n",
    "\n",
    "# 다음의 필터링을 수행하기 전, 후의 데이터에 대해 ocean_proximity별 HouseAge의 중앙값(median)을 계산한다.\n",
    "# 필터링 전 데이터에 대한 계산 결과를 S1, 필터링 후 데이터에 대한 계산 결과를 S2로 저장한다.\n",
    "# 필터링 전\n",
    "S1 = df.groupby('ocean_proximity')['HouseAge'].transform('median')\n",
    "\n",
    "# 필터링 후\n",
    "df2 = df[df['HouseAge'] > S1]\n",
    "S2 = df2.groupby('ocean_proximity')['HouseAge'].transform('median')\n",
    "\n",
    "# S2에서 S1을 뺀 값 중 최소값을 정수로 구하시오.\n",
    "result = int((S2 - S1).min())\n",
    "print(result) # 7"
   ]
  },
  {
   "cell_type": "code",
   "execution_count": null,
   "id": "ca03f63b",
   "metadata": {},
   "outputs": [],
   "source": []
  }
 ],
 "metadata": {
  "kernelspec": {
   "display_name": "study",
   "language": "python",
   "name": "python3"
  },
  "language_info": {
   "codemirror_mode": {
    "name": "ipython",
    "version": 3
   },
   "file_extension": ".py",
   "mimetype": "text/x-python",
   "name": "python",
   "nbconvert_exporter": "python",
   "pygments_lexer": "ipython3",
   "version": "3.10.16"
  }
 },
 "nbformat": 4,
 "nbformat_minor": 5
}
