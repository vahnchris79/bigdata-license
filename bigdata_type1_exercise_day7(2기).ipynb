{
 "cells": [
  {
   "cell_type": "code",
   "execution_count": 1,
   "id": "c7a26ef9",
   "metadata": {},
   "outputs": [],
   "source": [
    "import pandas as pd\n",
    "pd.set_option(\"display.max_columns\", 100)\n",
    "import warnings\n",
    "warnings.filterwarnings('ignore')\n",
    "\n",
    "path1 = \"https://raw.githubusercontent.com/Soyoung-Yoon/bigdata/main/\"\n",
    "path2 = \"https://raw.githubusercontent.com/Soyoung-Yoon/data_01/main/\"\n"
   ]
  },
  {
   "cell_type": "markdown",
   "id": "733e29dc",
   "metadata": {},
   "source": [
    "**7-1) 지역별 공간점수**\n",
    "\n",
    "다음 절차에 따라 문제를 해결하시오.\n",
    "- bed와 bath의 값이 모두 0이 아닌 행만 선택한다.\n",
    "- 각 행(row)별로 ```bed * 1.5 + bath * 2``` 의 값을 '공간점수'라고 정의한다.\n",
    "- 지역(zip_code)별로 공간점수의 평균을 계산한 후, 지역별 평균 공간점수가 가장 높은 7개 지역의 가격(price) 평균을 반올림하여 정수로 구하라."
   ]
  },
  {
   "cell_type": "code",
   "execution_count": null,
   "id": "3513125e",
   "metadata": {},
   "outputs": [
    {
     "name": "stdout",
     "output_type": "stream",
     "text": [
      "11146024\n"
     ]
    }
   ],
   "source": [
    "df = pd.read_csv(path1 + \"housing01.csv\")\n",
    "# print(df.head(3), df.shape) # (104667, 12)\n",
    "# print(df.isna().sum().to_frame().T)\n",
    "\n",
    "# bed와 bath의 값이 모두 0이 아닌 행만 선택\n",
    "df = df[(df['bed'] != 0) & (df['bath'] != 0)]\n",
    "# print(df.shape)\n",
    "\n",
    "# 각 행(row)별로 bed * 1.5 + bath * 2 의 값을 '공간점수'라고 정의\n",
    "df['공간점수'] = (df['bed'] * 1.5) + (df['bath'] * 2)\n",
    "# print(df.head(3))\n",
    "\n",
    "# 지역(zip_code)별로 공간점수의 평균을 계산\n",
    "mean = df.groupby('zip_code', as_index=False)['공간점수'].mean()\n",
    "# print(mean)\n",
    "\n",
    "# 지역별 평균 공간점수가 가장 높은 7개 지역의 가격(price) 평균을 반올림하여 정수로 구하라.\n",
    "high_code = list(mean.sort_values(by='공간점수', ascending=False)[:7]['zip_code'].values)\n",
    "result = round(df[df['zip_code'].isin(high_code)]['price'].mean())\n",
    "# result = round(df[df['공간점수'] == mean['공간점수'].sort_values(ascending=False)[:7]]['price'].mean())\n",
    "# print(result) # 1017128\n",
    "print(result) # 111146024\n"
   ]
  },
  {
   "cell_type": "markdown",
   "id": "548e504a",
   "metadata": {},
   "source": [
    "**7-2) 이벤트 발생 빈도**\n",
    "\n",
    "다음 절차에 따라 문제를 해결하시오.\n",
    "- (년, 월)별로 발생한 이벤트의 개수를 확인하여, 이벤트 발생 개수 TOP3의 이벤트 수 합을 구하여 정수로 출력하시오.\n",
    "- TOP3는 가장 큰 값 3개를 의미한다.\n",
    "- start_datetime : 발생 날짜/시간\n",
    "- end_datetime : 종료 날짜/시간"
   ]
  },
  {
   "cell_type": "code",
   "execution_count": null,
   "id": "f34a7682",
   "metadata": {},
   "outputs": [
    {
     "name": "stdout",
     "output_type": "stream",
     "text": [
      "111\n"
     ]
    }
   ],
   "source": [
    "df = pd.read_csv(path2 + \"event_log_03.csv\")\n",
    "# print(df.head(3))\n",
    "# print(df.isna().sum().to_frame().T)\n",
    "\n",
    "# (년, 월)별로 발생한 이벤트의 개수를 확인\n",
    "df['start_datetime'] = df['start_datetime'].astype('datetime64[ns]')\n",
    "df['year'] = df['start_datetime'].dt.year\n",
    "df['month'] = df['start_datetime'].dt.month\n",
    "cnt = df.groupby(['year','month'])['event'].count().reset_index(name='cnt')\n",
    "\n",
    "# 이벤트 발생 개수 TOP3의 이벤트 수 합을 구하여 정수로 출력\n",
    "# result = int(cnt['cnt'].head(3).sum())\n",
    "result = int(cnt['cnt'].sort_values(ascending=False)[:3].sum())\n",
    "# print(result) # 106\n",
    "print(result) # 111"
   ]
  },
  {
   "cell_type": "markdown",
   "id": "d12c9db6",
   "metadata": {},
   "source": [
    "**7-3) 이벤트 발생 시간분석**\n",
    "\n",
    "다음 절차에 따라 문제를 해결하시오.\n",
    "- 이벤트가 시작된 시각(start_datetime)을 기준으로 이벤트가 가장 많이 발생한 시(hour)를 구하시오.\n",
    "- 해당 시각에 발생한 모든 이벤트의 value 값을 합산하고, 그 합계를 반올림하여 정수로 출력하시오."
   ]
  },
  {
   "cell_type": "code",
   "execution_count": null,
   "id": "4d77d801",
   "metadata": {},
   "outputs": [
    {
     "name": "stdout",
     "output_type": "stream",
     "text": [
      "2714\n"
     ]
    }
   ],
   "source": [
    "df = pd.read_csv(path2 + \"event_log_03.csv\")\n",
    "# print(df.head(3))\n",
    "\n",
    "# 이벤트가 시작된 시각(start_datetime)을 기준으로 이벤트가 가장 많이 발생한 시(hour)\n",
    "df['start_datetime'] = df['start_datetime'].astype('datetime64[ns]')\n",
    "df['hour'] = df['start_datetime'].dt.hour\n",
    "# print(df.head(3))\n",
    "# hour = df.groupby('hour')['event'].count().reset_index(name='cnt').sort_values('cnt', ascending=False).max()['hour']\n",
    "hour = df.groupby('hour')['event'].count().reset_index(name='cnt').sort_values('cnt', ascending=False)['hour'][2]\n",
    "# 해당 시각에 발생한 모든 이벤트의 value 값을 합산하고, 그 합계를 반올림하여 정수로 출력하시오\n",
    "# result = round(df[df['hour'] == hour]['value'].sum())\n",
    "result = round(df[df['hour'] == hour]['value'].sum())\n",
    "print(result) # 1654 -> 2714"
   ]
  },
  {
   "cell_type": "markdown",
   "id": "80ec1b01",
   "metadata": {},
   "source": [
    "**7-4) 월별 이벤트 발생 빈도**\n",
    "\n",
    "다음 절차에 따라 문제를 해결하시오.\n",
    "- (년, 월)별로 발생한 이벤트의 개수를 확인하여, 년별로 가장 많은 이벤트가 발생한 월에 해당하는 데이터 개수의 합을 구하여 정수로 출력하시오."
   ]
  },
  {
   "cell_type": "code",
   "execution_count": 85,
   "id": "26a69f3b",
   "metadata": {},
   "outputs": [
    {
     "name": "stdout",
     "output_type": "stream",
     "text": [
      "108\n"
     ]
    }
   ],
   "source": [
    "df = pd.read_csv(path2 + \"event_log_03.csv\")\n",
    "# print(df.head(3))\n",
    "\n",
    "# (년, 월)별로 발생한 이벤트의 개수를 확인\n",
    "df['start_datetime'] = df['start_datetime'].astype('datetime64[ns]')\n",
    "df['year'] = df['start_datetime'].dt.year\n",
    "df['month'] = df['start_datetime'].dt.month\n",
    "df2 = df.groupby(['year','month'])['event'].count().reset_index(name='cnt')\n",
    "\n",
    "# 년별로 가장 많은 이벤트가 발생한 월에 해당하는 데이터 개수의 합을 구하여 정수로 출력\n",
    "max_months = df2.loc[df2.groupby('year')['cnt'].idxmax()]\n",
    "# print(max_months)\n",
    "result = int(max_months['cnt'].sum())\n",
    "print(result) # 108\n",
    "\n",
    "# df2.groupby(['year','month'])['cnt'].sum().unstack().reset_index()\n",
    "# cnt2 = df2.groupby(['year','month'])['cnt'].sum().unstack().reset_index()\n",
    "# result = int(cnt2.iloc[: , 1:13].sum(axis=0)[12])\n",
    "# print(result) # 101"
   ]
  },
  {
   "cell_type": "markdown",
   "id": "55b15d37",
   "metadata": {},
   "source": [
    "**7-5a) 지속시간의 분위수 분석**\n",
    "다음 절차에 따라 문제를 해결하시오.\n",
    "- 지속시간 기준 75분위수(=제3사분위수) 이상에 해당하는 데이터의 지속시간(duration) 합계를 초단위 정수로 출력한다.\n",
    "- 지속시간(duration) = end_datetime - start_datetime"
   ]
  },
  {
   "cell_type": "code",
   "execution_count": null,
   "id": "0c18ef71",
   "metadata": {},
   "outputs": [
    {
     "name": "stdout",
     "output_type": "stream",
     "text": [
      "133254\n"
     ]
    }
   ],
   "source": [
    "df = pd.read_csv(path2 + \"event_log_03.csv\")\n",
    "# print(df.head(3), df.shape) # (1000, 4)\n",
    "\n",
    "# 지속시간 기준 75분위수(=제3사분위수) 이상에 해당하는 데이터의 지속시간(duration) 합계를 초단위 정수로 출력\n",
    "df['start_datetime'] = df['start_datetime'].astype('datetime64[ns]')\n",
    "df['end_datetime'] = df['end_datetime'].astype('datetime64[ns]')\n",
    "df['duration'] = df['end_datetime'] - df['start_datetime']\n",
    "eta = pd.Series(df[df['duration'] >= df['duration'].quantile(0.75)]['duration'])\n",
    "result = int(sum((eta.dt.components.minutes * 60) + eta.dt.components.seconds))\n",
    "print(result) # 133254"
   ]
  },
  {
   "cell_type": "markdown",
   "id": "da51f803",
   "metadata": {},
   "source": [
    "**7-5b) 지속시간의 정확한 개수 사용**\n",
    "\n",
    "다음 절차에 따라 문제를 해결하시오.\n",
    "- 지속시간 기준 정확히 상위 25%에 해당하는 데이터 개수만 뽑아 지속시간(duration) 합계를 초단위 정수로 출력한다.\n",
    "- 지속시간(duration) = end_datetime - start_datetime"
   ]
  },
  {
   "cell_type": "code",
   "execution_count": null,
   "id": "2f4a09eb",
   "metadata": {},
   "outputs": [
    {
     "name": "stdout",
     "output_type": "stream",
     "text": [
      "131434\n"
     ]
    }
   ],
   "source": [
    "df = pd.read_csv(path2 + \"event_log_03.csv\")\n",
    "# print(df.head(3), df.shape) # (1000, 4)\n",
    "\n",
    "# 지속시간 기준 정확히 상위 25%에 해당하는 데이터 개수만 뽑아\n",
    "df['start_datetime'] = df['start_datetime'].astype('datetime64[ns]')\n",
    "df['end_datetime'] = df['end_datetime'].astype('datetime64[ns]')\n",
    "df['duration'] = df['end_datetime'] - df['start_datetime']\n",
    "\n",
    "# 지속시간 합계를 초단위 정수로 출력\n",
    "# components = pd.Series(df['duration'].nlargest(25)).dt.components\n",
    "components = pd.Series(df['duration'].nlargest(int(len(df) * 0.25))).dt.components\n",
    "result = int(sum(((components.minutes * 60) + components.seconds)))\n",
    "print(result) # 14815 -> 131434"
   ]
  }
 ],
 "metadata": {
  "kernelspec": {
   "display_name": "study",
   "language": "python",
   "name": "python3"
  },
  "language_info": {
   "codemirror_mode": {
    "name": "ipython",
    "version": 3
   },
   "file_extension": ".py",
   "mimetype": "text/x-python",
   "name": "python",
   "nbconvert_exporter": "python",
   "pygments_lexer": "ipython3",
   "version": "3.10.16"
  }
 },
 "nbformat": 4,
 "nbformat_minor": 5
}
