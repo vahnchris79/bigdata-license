{
 "cells": [
  {
   "cell_type": "code",
   "execution_count": 1,
   "id": "d5775543",
   "metadata": {},
   "outputs": [],
   "source": [
    "import pandas as pd\n",
    "pd.set_option(\"display.max_columns\", 50)\n",
    "import warnings\n",
    "warnings.filterwarnings('ignore')\n",
    "\n",
    "path1 = \"https://raw.githubusercontent.com/Soyoung-Yoon/bigdata/main/\"\n",
    "path2 = \"https://raw.githubusercontent.com/Soyoung-Yoon/data_01/main/\"\n"
   ]
  },
  {
   "cell_type": "markdown",
   "id": "154fae83",
   "metadata": {},
   "source": [
    "**8-1) 레스토랑의 팁(tip)분석**\n",
    "\n",
    "다음 조건을 만족하는 분석을 수행하시오.\n",
    "- 요일(day)별 total_bill의 평균이 전체 total_bill 평균보다 높은 요일의 데이터를 추출하시오.\n",
    "- 위에서 추출된 데이터를 사용하여, day와 smoker로 그룹화하여 tip의 평균을 구하고, 가장 평균 tip이 높은 (day, smoker) 조합을 찾으시오.\n",
    "- 위의 가장 평균 tip이 높은 조합의 데이터에 대해, total_bill의 표준편차를 구하시오.\n",
    "- 표준편차 값을 반올림하여 소수점 아래 3 자리까지 출력하시오."
   ]
  },
  {
   "cell_type": "code",
   "execution_count": null,
   "id": "a9ca4465",
   "metadata": {},
   "outputs": [
    {
     "name": "stdout",
     "output_type": "stream",
     "text": [
      "10.443\n"
     ]
    }
   ],
   "source": [
    "df = pd.read_csv(path1 + \"tips.csv\")\n",
    "# print(df.head(3), df.shape) # (244, 7)\n",
    "\n",
    "# 요일(day)별 total_bill의 평균이 전체 total_bill 평균보다 높은 요일의 데이터를 추출하시오.\n",
    "s = df.groupby('day')['total_bill'].transform('mean')\n",
    "df = df[df['total_bill'].mean() < s]\n",
    "\n",
    "# 추출된 데이터를 사용하여, day와 smoker로 그룹화하여 tip의 평균을 구하고,\n",
    "# 가장 평균 tip이 높은 (day, smoker) 조합을 찾으시오.\n",
    "mean_tip = df.groupby(['day','smoker'],as_index=False)['tip'].mean().sort_values('tip', ascending=False).max()\n",
    "# print(f\"day: {mean_tip['day']}, smoker: {mean_tip['smoker']}\") # mean_tip['smoker']\n",
    "\n",
    "# 위의 가장 평균 tip이 높은 조합의 데이터에 대해, total_bill의 표준편차를 구하시오.\n",
    "result = round(df[(df['day'] == mean_tip['day']) & (df['smoker'] == mean_tip['smoker'])]['total_bill'].std(ddof=1), 3)\n",
    "print(result) # 10.443\n"
   ]
  },
  {
   "cell_type": "markdown",
   "id": "d815588c",
   "metadata": {},
   "source": [
    "**8-2a) 프로모션 기획**\n",
    "\n",
    "온라인 플랫폼에서는 특정 요일에 이벤트의 발생 빈도를 활용한 프로모션을 기획하려 한다.\n",
    "\n",
    "다음 절차에 따라 문제를 해결하시오.\n",
    "- 시계열 데이터를 이용해 각 이벤트가 발생한 '요일'을 파생 변수로 추가한 뒤, 요일별 value 총합을 구하시오.\n",
    "- 위의 데이터를 사용하여, 가장 큰 3개 값의 평균을 구해 반올림하여 정수로 출력하시오."
   ]
  },
  {
   "cell_type": "code",
   "execution_count": null,
   "id": "4c614a2e",
   "metadata": {},
   "outputs": [
    {
     "name": "stdout",
     "output_type": "stream",
     "text": [
      "8342\n"
     ]
    }
   ],
   "source": [
    "df = pd.read_csv(path2 + \"event_log_04.csv\")\n",
    "# print(df.head(3))\n",
    "\n",
    "# 시계열 데이터를 이용해 각 이벤트가 발생한 '요일'을 파생 변수로 추가한 뒤, 요일별 value 총합을 구하시오.\n",
    "df['date'] = df['date'].astype('datetime64[ns]')\n",
    "df['요일'] = df['date'].dt.day_name('ko_KR')\n",
    "daysum = df.groupby('요일', as_index=False)['value'].sum()\n",
    "\n",
    "# 위의 데이터를 사용하여, 가장 큰 3개 값의 평균을 구해 반올림하여 정수로 출력\n",
    "result = round(daysum.sort_values('value', ascending=False).head(3)['value'].mean())\n",
    "print(result) # 8342"
   ]
  },
  {
   "cell_type": "markdown",
   "id": "6e76a385",
   "metadata": {},
   "source": [
    "**8-2b) 프로모션 기획**\n",
    "\n",
    "온라인 플랫폼에서는 특정 요일에 이벤트의 발생 빈도를 활용한 프로모션을 기획하려 한다.\n",
    "\n",
    "다음 절차에 따라 문제를 해결하시오.\n",
    "- 각 이벤트가 발생한 날짜에서 '요일' 정보를 추출한다.\n",
    "- 요일별로 value의 총합을 구하여, 가장 높은 합계를 가진 요일 3개를 식별한다.\n",
    "- 이 3개 요일에 해당하는 모든 이벤트의 value 평균을 계산하고, 그 값을 반올림하여 정수로 출력하시오.\n"
   ]
  },
  {
   "cell_type": "code",
   "execution_count": 42,
   "id": "ae245f8c",
   "metadata": {},
   "outputs": [
    {
     "name": "stdout",
     "output_type": "stream",
     "text": [
      "57\n"
     ]
    }
   ],
   "source": [
    "df = pd.read_csv(path2 + \"event_log_04.csv\")\n",
    "# print(df.head(3))\n",
    "\n",
    "# 각 이벤트가 발생한 날짜에서 '요일' 정보를 추출\n",
    "df['요일'] = df['date'].astype('datetime64[ns]').dt.day_name('ko_KR')\n",
    "# print(df.head(3))\n",
    "\n",
    "# 요일별로 value의 총합을 구하여, 가장 높은 합계를 가진 요일 3개를 식별\n",
    "daysum = df.groupby('요일')['value'].sum().reset_index()\n",
    "s = daysum.sort_values('value', ascending=False).head(3)['요일']\n",
    "\n",
    "# 이 3개 요일에 해당하는 모든 이벤트의 value 평균을 계산하고, 그 값을 반올림하여 정수로 출력\n",
    "result = round(df[df['요일'].isin(s)]['value'].mean())\n",
    "print(result) # 57"
   ]
  },
  {
   "cell_type": "markdown",
   "id": "df9b9ece",
   "metadata": {},
   "source": [
    "**8-3) 이벤트별 월간 성과**\n",
    "\n",
    "다양한 이벤트 카테고리별 월간 성과 분석을 위한 과제이다.\n",
    "\n",
    "다음 절차에 따라 문제를 해결하시오.\n",
    "- **주어진 데이터**에 대해 카테고리(category2), 연도(year), 월(month) 단위로 value의 총합을 집계하시오.\n",
    "- 이후, (category2, year)별로 집계된 값 중 가장 value 합계가 높은 월을 선택하시오.\n",
    "- 이렇게 선택된 월별 최댓값들을 모두 더한 뒤, 그 합계를 반올림하여 정수로 출력하시오."
   ]
  },
  {
   "cell_type": "code",
   "execution_count": null,
   "id": "44d6d299",
   "metadata": {},
   "outputs": [
    {
     "name": "stdout",
     "output_type": "stream",
     "text": [
      "7605\n"
     ]
    }
   ],
   "source": [
    "df = pd.read_csv(path2 + \"event_log_05.csv\")\n",
    "# print(df.head(3))\n",
    "\n",
    "# 주어진 데이터에 대해 카테고리(category2), 연도(year), 월(month) 단위로 value의 총합을 집계\n",
    "df['date'] = df['date'].astype('datetime64[ns]')\n",
    "df['year'] = df['date'].dt.year\n",
    "df['month'] = df['date'].dt.month\n",
    "df2 = df.groupby(['category2','year','month'])['value'].sum().reset_index()\n",
    "# print(df2.head(3))\n",
    "\n",
    "#  (category2, year)별로 집계된 값 중 가장 value 합계가 높은 월을 선택\n",
    "df3 = df2.loc[df2.groupby(['category2','year'])['value'].idxmax()].reset_index(drop=True)\n",
    "# print(df3.head(3))\n",
    "\n",
    "# 이렇게 선택된 월별 최댓값들을 모두 더한 뒤, 그 합계를 반올림하여 정수로 출력\n",
    "result = round(df3['value'].sum())\n",
    "print(result) # 7605"
   ]
  },
  {
   "cell_type": "markdown",
   "id": "ae93a5a9",
   "metadata": {},
   "source": [
    "**8-4) 이상 감지 및 성능 분석**\n",
    "\n",
    "시스템 비활성 이벤트의 이상 감지 및 성능 분석을 위한 과제이다.\n",
    "\n",
    "다음 절차에 따라 문제를 해결하시오.\n",
    "- 2020년 1월부터 6월까지의 데이터 중 event가 'Idle'인 이벤트만 필터링하시오.\n",
    "- 월(month)별로 해당 이벤트들의 value 중앙값을 구하시오.\n",
    "- 해당 월의 value 중앙값을 기준으로 그 달에 발생한 이벤트 중 value가 중앙값 이하인 이벤트만 선택하시오.\n",
    "- 이렇게 선택된 이벤트들의 총 개수를 정수로 출력하시오."
   ]
  },
  {
   "cell_type": "code",
   "execution_count": null,
   "id": "6a4186c0",
   "metadata": {},
   "outputs": [
    {
     "name": "stdout",
     "output_type": "stream",
     "text": [
      "16\n"
     ]
    }
   ],
   "source": [
    "df = pd.read_csv(path2 + \"event_log_04.csv\")\n",
    "# print(df.head(3), df.shape) # (1000, 4)\n",
    "\n",
    "# 2020년 1월부터 6월까지의 데이터 중 event가 'Idle'인 이벤트만 필터링\n",
    "df['date'] = df['date'].astype('datetime64[ns]')\n",
    "cond1 = (df['date'].dt.year==2020) & (df['date'].dt.month >= 1) & (df['date'].dt.month <= 6)\n",
    "df = df[cond1]\n",
    "df = df[df['event'] == 'Idle']\n",
    "# print(df.shape) # (30, 4)\n",
    "\n",
    "# 월(month)별로 해당 이벤트들의 value 중앙값을 구하시오.\n",
    "df['month'] = df['date'].dt.month\n",
    "median = df.groupby('month')['value'].transform('median')\n",
    "# print(median)\n",
    "\n",
    "# 해당 월의 value 중앙값을 기준으로 그 달에 발생한 이벤트 중 value가 중앙값 이하인 이벤트만 선택하시오.\n",
    "# 이렇게 선택된 이벤트들의 총 개수를 정수로 출력하시오.\n",
    "result = df[df['value'] <= median]['event'].count()\n",
    "print(int(result)) # 16"
   ]
  },
  {
   "cell_type": "markdown",
   "id": "6c2aee2c",
   "metadata": {},
   "source": [
    "**8-5) 야간 시간대 이벤트**\n",
    "\n",
    "다음은 야간 시간대에 발생한 이벤트 유형 분석을 통해 사용자 활동 패턴을 파악하고자 하는 과제이다.\n",
    "\n",
    "다음 절차에 따라 문제를 해결하시오.\n",
    "- 먼저, 시간(hour) 정보가 22시부터 02시까지(22:00:00 ~ 02:59:59)인 데이터를 야간 이벤트로 간주한다.\n",
    "- 이 야간 이벤트를 기준으로, (month, event)별 value 평균값을 구하시오.\n",
    "- 각 월(month)에서 value 평균이 가장 높은 이벤트 유형을 하나씩 선택하고, 그 중 'Start'와 'Stop'이벤트의 빈도 수 합을 정수로 출력하시오.\n"
   ]
  },
  {
   "cell_type": "code",
   "execution_count": null,
   "id": "102745fd",
   "metadata": {},
   "outputs": [
    {
     "name": "stdout",
     "output_type": "stream",
     "text": [
      "7\n"
     ]
    }
   ],
   "source": [
    "df = pd.read_csv(path2 + \"event_log_04.csv\")\n",
    "# print(df.head(3))\n",
    "\n",
    "# 시간(hour) 정보가 22시부터 02시까지(22:00:00 ~ 02:59:59)인 데이터를 야간 이벤트로 간주\n",
    "from datetime import time\n",
    "df['time'] = pd.to_datetime(df['time']).dt.time\n",
    "df = df[(df['time'] >= time(22, 0, 0)) | (df['time'] <= time(2, 59, 59))]\n",
    "# print(df)\n",
    "\n",
    "# 이 야간 이벤트를 기준으로, (month, event)별 value 평균값을 구하시오.\n",
    "df['date'] = df['date'].astype('datetime64[ns]')\n",
    "df['month'] = df['date'].dt.month\n",
    "df2 = df.groupby(['month','event'])['value'].mean().reset_index()\n",
    "\n",
    "# 각 월(month)에서 value 평균이 가장 높은 이벤트 유형을 하나씩 선택하고, \n",
    "# 그 중 'Start'와 'Stop'이벤트의 빈도 수 합을 정수로 출력\n",
    "df3 = df2.loc[df2.groupby('month')['value'].idxmax()].reset_index(drop=True)\n",
    "result = int(df3['event'].str.contains('Start|Stop').sum())\n",
    "print(result) # 7"
   ]
  },
  {
   "cell_type": "code",
   "execution_count": null,
   "id": "9b244e3e",
   "metadata": {},
   "outputs": [],
   "source": []
  }
 ],
 "metadata": {
  "kernelspec": {
   "display_name": "study",
   "language": "python",
   "name": "python3"
  },
  "language_info": {
   "codemirror_mode": {
    "name": "ipython",
    "version": 3
   },
   "file_extension": ".py",
   "mimetype": "text/x-python",
   "name": "python",
   "nbconvert_exporter": "python",
   "pygments_lexer": "ipython3",
   "version": "3.10.16"
  }
 },
 "nbformat": 4,
 "nbformat_minor": 5
}
