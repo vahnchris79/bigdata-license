{
 "cells": [
  {
   "cell_type": "code",
   "execution_count": 40,
   "id": "f4ae178a",
   "metadata": {},
   "outputs": [],
   "source": [
    "import pandas as pd\n",
    "pd.set_option(\"display.max_rows\", 50)\n",
    "pd.set_option(\"display.max_columns\", 50)\n",
    "import warnings\n",
    "warnings.filterwarnings('ignore')\n",
    "\n",
    "path1 = \"https://raw.githubusercontent.com/Soyoung-Yoon/bigdata/main/\"\n",
    "path2 = \"https://raw.githubusercontent.com/Soyoung-Yoon/data_01/main/\"\n"
   ]
  },
  {
   "cell_type": "markdown",
   "id": "e9e6d988",
   "metadata": {},
   "source": [
    "**9-1) 유병률 증가**\n",
    "\n",
    "worlddata.csv 파일을 사용하여 다음의 사항을 처리합니다.\n",
    "- 1999년과 2000년 간 유병률이 5배 이상 증가한 국가를 모두 선택합니다.\n",
    "- 이 중 유병률 증가 비율이 가장 작은 하위 4개 국가의 유병률 증가 비율의 평균을 구해, 반올림하여 소수점 아래 세자리까지 출력합니다.\n",
    "- 유병률 증가 비율 = 2000년_유병률 / 1999년_유병률\n",
    "- 단, 1999년의 유병률이 0인 국가는 제외합니다."
   ]
  },
  {
   "cell_type": "code",
   "execution_count": null,
   "id": "f1bf78bb",
   "metadata": {},
   "outputs": [
    {
     "data": {
      "text/plain": [
       "Series([], Name: index, dtype: float64)"
      ]
     },
     "execution_count": 62,
     "metadata": {},
     "output_type": "execute_result"
    }
   ],
   "source": [
    "df = pd.read_csv(path1 + \"worlddata.csv\")\n",
    "# print(df.head(3))\n",
    "# print(df.info())\n",
    "\n",
    "# 1999년과 2000년 간 유병률이 5배 이상 증가한 국가를 모두 선택\n",
    "# 유병률 증가 비율 = 2000년_유병률 / 1999년_유병률\n"
   ]
  },
  {
   "cell_type": "markdown",
   "id": "7aa8691c",
   "metadata": {},
   "source": [
    "**9-2) 시급과 기본급**\n",
    "\n",
    "salary01.csv를 사용하여 시급이 가장 높은 사람의 기본급을 정수로 구합니다.\n",
    "- 단, 다음 컬럼들의 '-' 값을 0으로 변경하여 사용합니다.\n",
    "  - totalSalary, specialSalary, numberOfWorker : 정수\n",
    "  - workTime : 실수\n",
    "- totalSalary 또는 workTime이 0인 데이터는 제외하고 기본급과 시급을 구합니다.\n",
    "- 기본급 = totalSalary - specialSalary\n",
    "- 시급 = 기본급 / workTime"
   ]
  },
  {
   "cell_type": "code",
   "execution_count": null,
   "id": "85a589a6",
   "metadata": {},
   "outputs": [
    {
     "name": "stdout",
     "output_type": "stream",
     "text": [
      "4064286\n"
     ]
    }
   ],
   "source": [
    "df = pd.read_csv(path2 + \"salary01.csv\")\n",
    "# print(df.head(3), df.info(), sep=\"\\n\")\n",
    "\n",
    "# 다음 컬럼들의 '-' 값을 0으로 변경하여 사용합니다.\n",
    "# totalSalary, specialSalary, numberOfWorker : 정수\n",
    "# workTime : 실수\n",
    "df['totalSalary'] = df['totalSalary'].replace('-', 0).astype(int)\n",
    "df['specialSalary'] = df['specialSalary'].replace('-', 0).astype(int)\n",
    "df['numberOfWorker'] = df['numberOfWorker'].replace('-', 0).astype(int)\n",
    "df['workTime'] = df['workTime'].replace('-', 0).astype(float)\n",
    "# print(df.info())\n",
    "\n",
    "# totalSalary 또는 workTime이 0인 데이터는 제외하고 기본급과 시급을 구합니다.\n",
    "# 기본급 = totalSalary - specialSalary\n",
    "# 시급 = 기본급 / workTime\n",
    "df = df[(df['totalSalary'] != 0) & (df['workTime'] != 0)]\n",
    "df['baseSalary'] = df['totalSalary'] - df['specialSalary']\n",
    "df['timeSalary'] = df['baseSalary'] / df['workTime']\n",
    "# print(df.head(3))\n",
    "\n",
    "# 시급이 가장 높은 사람의 기본급을 정수로 구함.\n",
    "result = int(df.iloc[df['timeSalary'].idxmax()]['baseSalary'])\n",
    "print(result) # 4064286\n"
   ]
  }
 ],
 "metadata": {
  "kernelspec": {
   "display_name": "study",
   "language": "python",
   "name": "python3"
  },
  "language_info": {
   "codemirror_mode": {
    "name": "ipython",
    "version": 3
   },
   "file_extension": ".py",
   "mimetype": "text/x-python",
   "name": "python",
   "nbconvert_exporter": "python",
   "pygments_lexer": "ipython3",
   "version": "3.10.16"
  }
 },
 "nbformat": 4,
 "nbformat_minor": 5
}
