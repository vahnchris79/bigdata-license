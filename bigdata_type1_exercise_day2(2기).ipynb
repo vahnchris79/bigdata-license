{
 "cells": [
  {
   "cell_type": "code",
   "execution_count": 20,
   "id": "c0ac625b",
   "metadata": {},
   "outputs": [],
   "source": [
    "import pandas as pd\n",
    "pd.set_option('display.max_rows', 1000)\n",
    "pd.set_option('display.max_columns', 100)\n",
    "import warnings\n",
    "warnings.filterwarnings('ignore')\n",
    "\n",
    "path1 = \"https://raw.githubusercontent.com/Soyoung-Yoon/bigdata/main/\"\n",
    "path2 = \"https://raw.githubusercontent.com/Soyoung-Yoon/data_01/main/\""
   ]
  },
  {
   "cell_type": "markdown",
   "id": "3289947a",
   "metadata": {},
   "source": [
    "**2-1) 상위 지출 고객의 팁 분석**\n",
    "\n",
    "식사 지출이 높은 고객일수록 팁을 더 많이 주는지 알아보기 위해, 총 지출(total_bill)이 높은 고객들의 팁(tip)을 분석하고자 합니다.\n",
    "\n",
    "다음 작업을 수행하세요.\n",
    "- 'total_bill' 컬럼에서 결측치를 제거한 뒤, 'total_bill' 기준 상위 20%에 해당하는 데이터를 추출합니다.\n",
    "- 위에서 추출된 데이터에 대해 'tip' 평균을 계산하여 결과로 제출합니다.\n",
    "- 결과는 반올림하여 소수점 아래 3자리까지 출력합니다."
   ]
  },
  {
   "cell_type": "code",
   "execution_count": 24,
   "id": "31c3a5ed",
   "metadata": {},
   "outputs": [
    {
     "name": "stdout",
     "output_type": "stream",
     "text": [
      "4.214\n"
     ]
    }
   ],
   "source": [
    "df = pd.read_csv(path2 + \"tips02.csv\")\n",
    "# print(df.head(3))\n",
    "# print(df.isna().sum().to_frame().T)\n",
    "\n",
    "# 'total_bill' 컬럼에서 결측치를 제거한 뒤, 'total_bill' 기준 상위 20%에 해당하는 데이터를 추출\n",
    "df = df[df['total_bill'].notnull()].copy()\n",
    "# print(df.isna().sum().to_frame().T)\n",
    "df2 = df[df['total_bill'] >= df['total_bill'].quantile(0.8)]\n",
    "\n",
    "# 위에서 추출된 데이터에 대해 'tip' 평균을 계산하여 결과로 제출\n",
    "result = round(df2['tip'].mean(), 3)\n",
    "print(result) # 4.214"
   ]
  },
  {
   "cell_type": "markdown",
   "id": "d4afc867",
   "metadata": {},
   "source": [
    "**2-2) 고알코올 와인의 산도 특성 분석**\n",
    "\n",
    "알코올 도수가 높은 와인은 특정 종류(wine_variety)에 따라 화학적 특성이 다를 수 있습니다. 이 문제에서는 고알코올 와인의 산도(malic_acid) 특성을 분석하고자 합니다.\n",
    "\n",
    "다음 작업을 수행하세요.\n",
    "- wine.csv를 사용합니다.\n",
    "- alcohol 컬럼의 값이 중앙값보다 큰 데이터 중, wine_variety가 1인 데이터의 malic_acid 평균을 계산하여 결과로 제출합니다.\n",
    "- 결과는 반올림하여 소수점 아래 3자리까지 출력합니다."
   ]
  },
  {
   "cell_type": "code",
   "execution_count": 27,
   "id": "3ba95e76",
   "metadata": {},
   "outputs": [
    {
     "name": "stdout",
     "output_type": "stream",
     "text": [
      "1.274\n"
     ]
    }
   ],
   "source": [
    "df = pd.read_csv(path1 + \"wine.csv\")\n",
    "# print(df.head(3))\n",
    "# print(df.isna().sum().to_frame().T)\n",
    "\n",
    "# alcohol 컬럼의 값이 중앙값보다 큰 데이터 추출\n",
    "median_alcohol = df['alcohol'].median()\n",
    "df2 = df[df['alcohol'] > median_alcohol].copy()\n",
    "\n",
    "# wine_variety가 1인 데이터의 malic_acid 평균을 계산하여 결과로 제출\n",
    "result = df2[df2['wine_variety']==1]['malic_acid'].mean()\n",
    "\n",
    "# 결과는 반올림하여 소수점 아래 3자리까지 출력\n",
    "print(round(result, 3)) # 1.274"
   ]
  },
  {
   "cell_type": "markdown",
   "id": "af8488b0",
   "metadata": {},
   "source": [
    "**2-3) 펭귄 부리 깊이 특성 분석**\n",
    "\n",
    "펭귄의 날개 길이와 부리 깊이는 종(species)에 따라 다르게 분포한다. 이 문제에서는 특정 조건을 만족하는 펭귄들의 부리 깊이 특성을 분석하고자 한다.\n",
    "\n",
    "다음 작업을 수행하세요.\n",
    "- penguins01.csv 파일을 사용하도록 합니다.\n",
    "- 모든 결측치를 제거합니다. (결측치가 1개라도 포함된 행 제거를 합니다.)\n",
    "- species가 'Chinstrap'이면서 flipper_length_mm이 40% 분위수 이상인 펭권들만 필터링하여 사용합니다.\n",
    "- 위에서 필터링된 데이터에서 bill_depth_mm이 해당 그룹의 중앙값보다 큰 개체의 수를 출력합니다.\n",
    "\n",
    "[참조] 해당 그룹이란 \"species가 'Chinstrap'이면서 flipper_length_mm이 40% 분위수 이상인 펭권\"을 의미합니다."
   ]
  },
  {
   "cell_type": "code",
   "execution_count": null,
   "id": "ca57457a",
   "metadata": {},
   "outputs": [
    {
     "name": "stdout",
     "output_type": "stream",
     "text": [
      "18\n"
     ]
    }
   ],
   "source": [
    "df = pd.read_csv(path1 + \"penguins01.csv\")\n",
    "# print(df.isna().sum().to_frame().T)\n",
    "\n",
    "# 모든 결측치를 제거합니다. (결측치가 1개라도 포함된 행 제거)\n",
    "df = df.dropna()\n",
    "# print(df.isna().sum().to_frame().T)\n",
    "\n",
    "# species가 'Chinstrap'이면서 flipper_length_mm이 40% 분위수 이상인 펭권들만 필터링\n",
    "cond = (df['species'] == 'Chinstrap') & (df['flipper_length_mm'] >= df['flipper_length_mm'].quantile(0.4))\n",
    "df2 = df[cond].copy()\n",
    "\n",
    "# 위에서 필터링된 데이터에서 bill_depth_mm이 해당 그룹의 중앙값보다 큰 개체의 수를 출력합니다.\n",
    "result = len(df2[df2['bill_depth_mm'] > df2['bill_depth_mm'].median()])\n",
    "print(result) # 18"
   ]
  },
  {
   "cell_type": "markdown",
   "id": "3754ddc8",
   "metadata": {},
   "source": [
    "**2-4) 다이아몬드 컷 등급별 특성 비교**\n",
    "\n",
    "다이아몬드의 cut 등급에 따라 가격과 깊이(depth) 특성이 달라집니다. 이 문제에서는 가장 저렴한 cut과 가장 비싼 cut의 내부 특성을 비교 분석합니다.\n",
    "\n",
    "다음 작업을 수행하세요.\n",
    "- diamonds.csv 파일을 사용하도록 합니다.\n",
    "- 다음의 두 값(A, B)을 구하고, 이 두 값을 더한 결과를 정수로 출력합니다.\n",
    "- A : 평균 가격(price)이 가장 낮은 cut의 데이터 중,\n",
    "depth가 해당 cut의 데이터에서 중앙값 이상인 데이터의 개수\n",
    "- B : 평균 가격(price)이 가장 높은 cut의 데이터 중,\n",
    "depth가 해당 cut의 데이터 평균 depth보다 작은 데이터의 개수"
   ]
  },
  {
   "cell_type": "code",
   "execution_count": 42,
   "id": "de405a1b",
   "metadata": {},
   "outputs": [
    {
     "name": "stdout",
     "output_type": "stream",
     "text": [
      "53940\n"
     ]
    }
   ],
   "source": [
    "df = pd.read_csv(path1 + \"diamonds.csv\")\n",
    "# print(df.head())\n",
    "\n",
    "# A : 평균 가격(price)이 가장 낮은 cut의 데이터 중, depth가 해당 cut의 데이터에서 중앙값 이상인 데이터의 개수\n",
    "s1 = df.loc[df['price'] < df['price'].mean(), ]['cut']\n",
    "df1 = df[df['cut'].isin(s1)].copy()\n",
    "A = len(df1[df1['depth'] >= df1['depth'].median()])\n",
    "# print(A)\n",
    "\n",
    "# B : 평균 가격(price)이 가장 높은 cut의 데이터 중, depth가 해당 cut의 데이터 평균 depth보다 작은 데이터의 개수\n",
    "s2 = df[df['price'] > df['price'].mean()]['cut']\n",
    "df2 = df[df['cut'].isin(s2)].copy()\n",
    "B = len(df2[df2['depth'] < df2['depth'].mean()])\n",
    "# print(B)\n",
    "\n",
    "# # 두 값을 더한 결과를 정수로 출력\n",
    "result = int(A + B)\n",
    "print(result) # 53940"
   ]
  },
  {
   "cell_type": "markdown",
   "id": "73371278",
   "metadata": {},
   "source": [
    "**2-5) 연도별 승객 증가와 최고 월 분석**\n",
    "\n",
    "승객 수는 연도와 월에 따라 다르게 변동하며, 특정 연도에 큰 성장이 일어날 수 있습니다. 이 문제에서는 연도별 증가량과 해당 연도의 최고 월 승객 수를 분석합니다.\n",
    "\n",
    "다음 작업을 수행하세요.\n",
    "- passengers.csv를 사용하세요.\n",
    "- 연도(year)별 총 승객 수(passengers)를 계산한 후, 연도 중 가장 승객 수가 많이 증가한 연도(year)를 구합니다.\n",
    "- 이때, 첫 번째 년도는 증가치를 0으로 사용합니다.\n",
    "- 위의 결과로 구한 연도(year)에서 가장 승객이 많았던 달(month)의 승객수를 정수로 출력합니다."
   ]
  },
  {
   "cell_type": "code",
   "execution_count": null,
   "id": "d5952cb6",
   "metadata": {},
   "outputs": [
    {
     "name": "stdout",
     "output_type": "stream",
     "text": [
      "622\n"
     ]
    }
   ],
   "source": [
    "df = pd.read_csv(path1 + \"flights.csv\")\n",
    "# print(df.head(3))\n",
    "\n",
    "# 연도(year)별 총 승객 수(passengers)를 계산\n",
    "s = df.groupby('year', as_index=False)['passengers'].sum()\n",
    "# print(s)\n",
    "\n",
    "#  연도 중 가장 승객 수가 많이 증가한 연도(year)를 구합니다.\n",
    "# 이때, 첫 번째 년도는 증가치를 0으로 사용\n",
    "s['diff'] = s['passengers'].diff().fillna(0)\n",
    "year = int(s.sort_values('diff', ascending=False).values[0][0])\n",
    "\n",
    "# 위의 결과로 구한 연도(year)에서 가장 승객이 많았던 달(month)의 승객수를 정수로 출력.\n",
    "result = int(df[df['year'] == year]['passengers'].max())\n",
    "print(result) # 622"
   ]
  },
  {
   "cell_type": "code",
   "execution_count": null,
   "id": "708aafe7",
   "metadata": {},
   "outputs": [],
   "source": []
  }
 ],
 "metadata": {
  "kernelspec": {
   "display_name": "study",
   "language": "python",
   "name": "python3"
  },
  "language_info": {
   "codemirror_mode": {
    "name": "ipython",
    "version": 3
   },
   "file_extension": ".py",
   "mimetype": "text/x-python",
   "name": "python",
   "nbconvert_exporter": "python",
   "pygments_lexer": "ipython3",
   "version": "3.10.16"
  }
 },
 "nbformat": 4,
 "nbformat_minor": 5
}
