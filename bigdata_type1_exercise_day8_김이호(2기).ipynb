{
 "cells": [
  {
   "cell_type": "code",
   "execution_count": 2,
   "id": "8f49a782",
   "metadata": {},
   "outputs": [],
   "source": [
    "import pandas as pd\n",
    "pd.set_option(\"display.max_row\", 1000)\n",
    "pd.set_option(\"display.max_column\", 100)\n",
    "import warnings\n",
    "warnings.filterwarnings('ignore')\n",
    "\n",
    "path1 = \"https://raw.githubusercontent.com/Soyoung-Yoon/bigdata/main/\"\n",
    "path2 = \"https://raw.githubusercontent.com/Soyoung-Yoon/data_01/main/\""
   ]
  },
  {
   "cell_type": "markdown",
   "id": "123bc7d0",
   "metadata": {},
   "source": [
    "8-1) 레스토랑의 팁(tip)분석\n",
    "\n",
    "다음 조건을 만족하는 분석을 수행하시오.\n",
    "\n",
    "- 요일(day)별 total_bill의 평균이 전체 total_bill 평균보다 높은 요일의 데이터를 추출하시오.\n",
    "- 위에서 추출된 데이터를 사용하여, day와 smoker로 그룹화하여 tip의 평균을 구하고, 가장 평균 tip이 높은 (day, smoker) 조합을 찾으시오.\n",
    "- 위의 가장 평균 tip이 높은 조합의 데이터에 대해, total_bill의 표준편차를 구하시오.\n",
    "- 표준편차 값을 반올림하여 소수점 아래 3 자리까지 출력하시오."
   ]
  },
  {
   "cell_type": "code",
   "execution_count": null,
   "id": "6e210ba5",
   "metadata": {},
   "outputs": [
    {
     "name": "stdout",
     "output_type": "stream",
     "text": [
      "Sun\n",
      "10.443\n"
     ]
    }
   ],
   "source": [
    "df = pd.read_csv(path1 + \"tips.csv\")\n",
    "# print(df.head(3))\n",
    "\n",
    "# 요일(day)별 total_bill의 평균이 전체 total_bill 평균보다 높은 요일의 데이터를 추출\n",
    "df2 = df.groupby('day')['total_bill'].mean().reset_index()\n",
    "# print(df2)\n",
    "days = list(df2[df2['total_bill'] > df['total_bill'].mean()]['day'])\n",
    "# print(days) # Sat, Sun\n",
    "# df3 = df.loc[df['day'].str.contains('Sat|Sun')].copy()\n",
    "df3 = df[df['day'].isin(days)]\n",
    "# print(df3.head())\n",
    "\n",
    "# 위에서 추출된 데이터를 사용하여, day와 smoker로 그룹화하여 tip의 평균을 구하고, \n",
    "# 가장 평균 tip이 높은 (day, smoker) 조합을 찾으시오.\n",
    "# df4 = df3.groupby(['day','smoker'])[['tip']].mean().reset_index().sort_values(by='tip', ascending=False).values[3]\n",
    "df4 = df3.groupby(['day','smoker'], as_index=True)['tip'].mean().sort_values(ascending=False)\n",
    "\n",
    "# 위의 가장 평균 tip이 높은 조합의 데이터 출력\n",
    "max_tip = df4.idxmax() # ('Sun', 'Yes')\n",
    "max_value = df4.loc[max_tip]\n",
    "# print(max_value) # 3.5168421052631573\n",
    "\n",
    "# 가장 평균 tip이 높은 조합의 데이터에 대해, total_bill의 표준편차를 구하시오.\n",
    "# 표준편차 값을 반올림하여 소수점 아래 3 자리까지 출력\n",
    "cond = (df3['day'] == max_tip[0]) & (df3['smoker'] == max_tip[1])\n",
    "result = round(df3.loc[cond, 'total_bill'].std(), 3)\n",
    "# print(result) # 10.443\n"
   ]
  },
  {
   "cell_type": "markdown",
   "id": "1479298f",
   "metadata": {},
   "source": [
    "**8-2a) 프로모션 기획**\n",
    "\n",
    "온라인 플랫폼에서는 특정 요일에 이벤트의 발생 빈도를 활용한 프로모션을 기획하려 한다.\n",
    "\n",
    "다음 절차에 따라 문제를 해결하시오.\n",
    "- 시계열 데이터를 이용해 각 이벤트가 발생한 '요일'을 파생 변수로 추가한 뒤, 요일별 value 총합을 구하시오.\n",
    "- 위의 데이터를 사용하여, 가장 큰 3개 값의 평균을 구해 반올림하여 정수로 출력하시오."
   ]
  },
  {
   "cell_type": "code",
   "execution_count": null,
   "id": "9472885b",
   "metadata": {},
   "outputs": [
    {
     "name": "stdout",
     "output_type": "stream",
     "text": [
      "8342\n"
     ]
    }
   ],
   "source": [
    "df = pd.read_csv(path2 + \"event_log_04.csv\")\n",
    "# print(df.head())\n",
    "\n",
    "# 시계열 데이터를 이용해 각 이벤트가 발생한 '요일'을 파생 변수로 추가한 뒤, 요일별 value 총합을 구하시오.\n",
    "df['date'] = pd.to_datetime(df['date'])\n",
    "df['요일'] = df['date'].dt.day_name('ko_KR')\n",
    "# print(df.head(3))\n",
    "df2 = df.groupby('요일')['value'].sum().reset_index(name='총합').sort_values(by='총합', ascending=False)\n",
    "# print(df2)\n",
    "\n",
    "# 위의 데이터를 사용하여, 가장 큰 3개 값의 평균을 구해 반올림하여 정수로 출력하시오.\n",
    "result = round(df2['총합'][:3].mean())\n",
    "# print(result) # 8342\n"
   ]
  },
  {
   "cell_type": "markdown",
   "id": "bd7094b4",
   "metadata": {},
   "source": [
    "**8-2b) 프로모션 기획**\n",
    "\n",
    "온라인 플랫폼에서는 특정 요일에 이벤트의 발생 빈도를 활용한 프로모션을 기획하려 한다.\n",
    "\n",
    "다음 절차에 따라 문제를 해결하시오.\n",
    "- 각 이벤트가 발생한 날짜에서 '요일' 정보를 추출한다.\n",
    "- 요일별로 value의 총합을 구하여, 가장 높은 합계를 가진 요일 3개를 식별한다.\n",
    "- 이 3개 요일에 해당하는 모든 이벤트의 value 평균을 계산하고, 그 값을 반올림하여 정수로 출력하시오."
   ]
  },
  {
   "cell_type": "code",
   "execution_count": null,
   "id": "dcadeb19",
   "metadata": {},
   "outputs": [
    {
     "name": "stdout",
     "output_type": "stream",
     "text": [
      "57\n"
     ]
    }
   ],
   "source": [
    "df = pd.read_csv(path2 + \"event_log_04.csv\")\n",
    "# print(df.head(3))\n",
    "\n",
    "# 각 이벤트가 발생한 날짜에서 '요일' 정보를 추출한다.\n",
    "df['date'] = pd.to_datetime(df['date'])\n",
    "df['요일'] = df['date'].dt.day_name('ko_KR')\n",
    "# print(df.head(3))\n",
    "\n",
    "# 요일별로 value의 총합을 구하여, 가장 높은 합계를 가진 요일 3개를 식별한다.\n",
    "df2 = df.groupby('요일')['value'].sum().reset_index(name='총합').sort_values(by='총합', ascending=False).head(3)\n",
    "days = list(df2['요일'])\n",
    "# print(days) # ['토요일', '일요일', '수요일']\n",
    "\n",
    "# 이 3개 요일에 해당하는 모든 이벤트의 value 평균을 계산하고, 그 값을 반올림하여 정수로 출력하시오.\n",
    "result = round(df.loc[df['요일'].isin(days), 'value'].mean())\n",
    "# print(result) # 57"
   ]
  },
  {
   "cell_type": "markdown",
   "id": "991735cd",
   "metadata": {},
   "source": [
    "**8-3) 이벤트별 월간 성과**\n",
    "\n",
    "다양한 이벤트 카테고리별 월간 성과 분석을 위한 과제이다.\n",
    "\n",
    "다음 절차에 따라 문제를 해결하시오.\n",
    "- **주어진 데이터**에 대해 카테고리(category2), 연도(year), 월(month) 단위로 value의 총합을 집계하시오.\n",
    "- 이후, (category2, year)별로 집계된 값 중 가장 value 합계가 높은 월을 선택하시오.\n",
    "- 이렇게 선택된 월별 최댓값들을 모두 더한 뒤, 그 합계를 반올림하여 정수로 출력하시오."
   ]
  },
  {
   "cell_type": "code",
   "execution_count": null,
   "id": "edac9a26",
   "metadata": {},
   "outputs": [
    {
     "name": "stdout",
     "output_type": "stream",
     "text": [
      "7605\n"
     ]
    }
   ],
   "source": [
    "df = pd.read_csv(path2 + \"event_log_05.csv\")\n",
    "df.to_csv(\"event_log_05.csv\")\n",
    "# print(df.head(3))\n",
    "\n",
    "# 주어진 데이터에 대해 카테고리(category2), 연도(year), 월(month) 단위로 value의 총합을 집계하시오.\n",
    "df['date'] = pd.to_datetime(df['date'])\n",
    "df['year'] = df['date'].dt.year\n",
    "df['month'] = df['date'].dt.month\n",
    "# df2 = df.groupby(['category2','month'])['value'].sum().reset_index(name='총합').sort_values(by='총합', ascending=False)\n",
    "# df3 = df.groupby(['year','month'])['value'].sum().reset_index(name='총합').sort_values(by='총합', ascending=False)\n",
    "df2 = df.groupby(['category2','year','month'], as_index=False)['value'].sum()\n",
    "\n",
    "# 이후, (category2, year)별로 집계된 값 중 가장 value 합계가 높은 월을 선택하시오.\n",
    "# cat_month = df2[df2['총합'] == df2['총합'].max()]['month'].values[0]\n",
    "# yr_month = df3[df3['총합'] == df3['총합'].max()]['month'].values[0]\n",
    "idx = df2.groupby(['category2','year'])['value'].idxmax()\n",
    "top = df2.loc[idx].reset_index(drop=True)\n",
    "# print(idx, top)\n",
    "\n",
    "# 이렇게 선택된 월별 최댓값들을 모두 더한 뒤, 그 합계를 반올림하여 정수로 출력하시오.\n",
    "# value1 = df2[df2['month'] == cat_month]['총합'].values[0]\n",
    "# value2 = df3[df3['month'] == yr_month]['총합'].values[0]\n",
    "result = round(top['value'].sum())\n",
    "# print(result) # 3269 -> 7605\n"
   ]
  },
  {
   "cell_type": "markdown",
   "id": "76b839d8",
   "metadata": {},
   "source": [
    "**8-4) 이상 감지 및 성능 분석**\n",
    "\n",
    "시스템 비활성 이벤트의 이상 감지 및 성능 분석을 위한 과제이다.\n",
    "\n",
    "다음 절차에 따라 문제를 해결하시오.\n",
    "- 2020년 1월부터 6월까지의 데이터 중 event가 'Idle'인 이벤트만 필터링하시오.\n",
    "- 월(month)별로 해당 이벤트들의 value 중앙값을 구하시오.\n",
    "- 해당 월의 value 중앙값을 기준으로 그 달에 발생한 이벤트 중 value가 중앙값 이하인 이벤트만 선택하시오.\n",
    "- 이렇게 선택된 이벤트들의 총 개수를 정수로 출력하시오."
   ]
  },
  {
   "cell_type": "code",
   "execution_count": null,
   "id": "0c0dc560",
   "metadata": {},
   "outputs": [
    {
     "name": "stdout",
     "output_type": "stream",
     "text": [
      "16\n"
     ]
    }
   ],
   "source": [
    "df = pd.read_csv(path2 + \"event_log_04.csv\")\n",
    "df.to_csv(\"event_log_04.csv\")\n",
    "# print(df.head(3))\n",
    "\n",
    "# 2020년 1월부터 6월까지의 데이터 중 event가 'Idle'인 이벤트만 필터링하시오.\n",
    "df['date'] = pd.to_datetime(df['date'])\n",
    "# df2 = df.loc[(df['date'].dt.month >= 1) & (df['date'].dt.month <= 6)]\n",
    "# df3 = df2[df2['event'] == 'Idle']\n",
    "cond = (df['date'].dt.year == 2020) & (df['date'].dt.month.between(1, 6)) & (df['event']=='Idle')\n",
    "df2 = df.loc[cond].copy()\n",
    "# print(df2)\n",
    "\n",
    "# 월(month)별로 해당 이벤트들의 value 중앙값을 구하시오.\n",
    "df2['month'] = df2['date'].dt.month\n",
    "month_median = df2.groupby('month')['value'].median().reset_index(name='median')\n",
    "# print(month_median)\n",
    "\n",
    "# 해당 월의 value 중앙값을 기준으로 그 달에 발생한 이벤트 중 value가 중앙값 이하인 이벤트만 선택하시오.\n",
    "df['month'] = df['date'].dt.month\n",
    "merged = df2.merge(month_median, \"left\", \"month\").dropna()\n",
    "event = merged[merged['value'] <= merged['median']].copy()\n",
    "# print(event)\n",
    "\n",
    "# 이렇게 선택된 이벤트들의 총 개수를 정수로 출력하시오.\n",
    "result = len(event)\n",
    "print(result) # 237 -> 16"
   ]
  },
  {
   "cell_type": "markdown",
   "id": "e0765ba7",
   "metadata": {},
   "source": [
    "**8-5) 야간 시간대 이벤트**\n",
    "\n",
    "다음은 야간 시간대에 발생한 이벤트 유형 분석을 통해 사용자 활동 패턴을 파악하고자 하는 과제이다.\n",
    "\n",
    "다음 절차에 따라 문제를 해결하시오.\n",
    "- 먼저, 시간(hour) 정보가 22시부터 02시까지(22:00:00 ~ 02:59:59)인 데이터를 야간 이벤트로 간주한다.\n",
    "- 이 야간 이벤트를 기준으로, (month, event)별 value 평균값을 구하시오.\n",
    "- 각 월(month)에서 value 평균이 가장 높은 이벤트 유형을 하나씩 선택하고, 그 중 'Start'와 'Stop'이벤트의 빈도 수 합을 정수로 출력하시오."
   ]
  },
  {
   "cell_type": "code",
   "execution_count": null,
   "id": "6168ca14",
   "metadata": {},
   "outputs": [
    {
     "name": "stdout",
     "output_type": "stream",
     "text": [
      "7\n"
     ]
    }
   ],
   "source": [
    "df = pd.read_csv(path2 + \"event_log_04.csv\")\n",
    "# print(df.head())\n",
    "\n",
    "# 먼저, 시간(hour) 정보가 22시부터 02시까지(22:00:00 ~ 02:59:59)인 데이터를 야간 이벤트로 간주한다.\n",
    "df['date_time'] = df['date'] + ' ' + df['time']\n",
    "df['date_time'] = pd.to_datetime(df['date_time'])\n",
    "df['hour'] = df['date_time'].dt.hour\n",
    "# print(df.head(3))\n",
    "# df2 = df.loc[(df['date_time'].dt.hour >= 22) | (df['date_time'].dt.hour >= 0) & (df['date_time'].dt.hour <= 2)]\n",
    "df2 = df[df['hour'].isin([22, 23, 0, 1, 2])]\n",
    "\n",
    "# 이 야간 이벤트를 기준으로, (month, event)별 value 평균값을 구하시오.\n",
    "df2['month'] = df2['date_time'].dt.month\n",
    "df3 = df2.groupby(['month','event'], as_index=False)['value'].mean()\n",
    "# print(df3)\n",
    "\n",
    "# 각 월(month)에서 value 평균이 가장 높은 이벤트 유형을 하나씩 선택하고, 그 중 'Start'와 'Stop'이벤트의 빈도 수 합을 정수로 출력하시오.\n",
    "max_event = df3.groupby(\"month\")['value'].idxmax()\n",
    "# print(max_event)\n",
    "top_event = df3.loc[max_event].reset_index(drop=True)\n",
    "result = int(top_event['event'].isin(['Start', 'Stop']).sum())\n",
    "print(result) # 7"
   ]
  },
  {
   "cell_type": "code",
   "execution_count": null,
   "id": "11996aca",
   "metadata": {},
   "outputs": [],
   "source": []
  }
 ],
 "metadata": {
  "kernelspec": {
   "display_name": "study",
   "language": "python",
   "name": "python3"
  },
  "language_info": {
   "codemirror_mode": {
    "name": "ipython",
    "version": 3
   },
   "file_extension": ".py",
   "mimetype": "text/x-python",
   "name": "python",
   "nbconvert_exporter": "python",
   "pygments_lexer": "ipython3",
   "version": "3.10.16"
  }
 },
 "nbformat": 4,
 "nbformat_minor": 5
}
