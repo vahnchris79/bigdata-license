{
 "cells": [
  {
   "cell_type": "code",
   "execution_count": 138,
   "id": "8f49a782",
   "metadata": {},
   "outputs": [],
   "source": [
    "import pandas as pd\n",
    "pd.set_option(\"display.max_row\", 1000)\n",
    "pd.set_option(\"display.max_column\", 100)\n",
    "import warnings\n",
    "warnings.filterwarnings('ignore')\n",
    "\n",
    "path1 = \"https://raw.githubusercontent.com/Soyoung-Yoon/bigdata/main/\"\n",
    "path2 = \"https://raw.githubusercontent.com/Soyoung-Yoon/data_01/main/\""
   ]
  },
  {
   "cell_type": "markdown",
   "id": "123bc7d0",
   "metadata": {},
   "source": [
    "8-1) 레스토랑의 팁(tip)분석\n",
    "\n",
    "다음 조건을 만족하는 분석을 수행하시오.\n",
    "\n",
    "- 요일(day)별 total_bill의 평균이 전체 total_bill 평균보다 높은 요일의 데이터를 추출하시오.\n",
    "- 위에서 추출된 데이터를 사용하여, day와 smoker로 그룹화하여 tip의 평균을 구하고, 가장 평균 tip이 높은 (day, smoker) 조합을 찾으시오.\n",
    "- 위의 가장 평균 tip이 높은 조합의 데이터에 대해, total_bill의 표준편차를 구하시오.\n",
    "- 표준편차 값을 반올림하여 소수점 아래 3 자리까지 출력하시오."
   ]
  },
  {
   "cell_type": "code",
   "execution_count": null,
   "id": "6e210ba5",
   "metadata": {},
   "outputs": [
    {
     "name": "stdout",
     "output_type": "stream",
     "text": [
      "10.069\n"
     ]
    }
   ],
   "source": [
    "df = pd.read_csv(path1 + \"tips.csv\")\n",
    "# print(df.head(3))\n",
    "\n",
    "# 요일(day)별 total_bill의 평균이 전체 total_bill 평균보다 높은 요일의 데이터를 추출\n",
    "df2 = df.groupby('day')['total_bill'].mean().reset_index()\n",
    "# print(df2)\n",
    "days = df2[df2['total_bill'] > df['total_bill'].mean()]['day']\n",
    "# print(days) # Sat, Sun\n",
    "df3 = df.loc[df['day'].str.contains('Sat|Sun')].copy()\n",
    "# print(df3.head())\n",
    "\n",
    "# 위에서 추출된 데이터를 사용하여, day와 smoker로 그룹화하여 tip의 평균을 구하고, \n",
    "# 가장 평균 tip이 높은 (day, smoker) 조합을 찾으시오.\n",
    "df4 = df3.groupby(['day','smoker'])[['tip']].mean().reset_index().sort_values(by='tip', ascending=False).values[3]\n",
    "# print(df4[0], df4[1]) # Sat, Yes\n",
    "\n",
    "# 위의 가장 평균 tip이 높은 조합의 데이터에 대해, total_bill의 표준편차를 구하시오.\n",
    "# 표준편차 값을 반올림하여 소수점 아래 3 자리까지 출력\n",
    "cond = (df['day'] == 'Sat') & (df['smoker'] == 'Yes')\n",
    "result = round(df[cond]['total_bill'].std(), 3)\n",
    "# print(result) # 10.069\n"
   ]
  },
  {
   "cell_type": "markdown",
   "id": "1479298f",
   "metadata": {},
   "source": [
    "**8-2a) 프로모션 기획**\n",
    "\n",
    "온라인 플랫폼에서는 특정 요일에 이벤트의 발생 빈도를 활용한 프로모션을 기획하려 한다.\n",
    "\n",
    "다음 절차에 따라 문제를 해결하시오.\n",
    "- 시계열 데이터를 이용해 각 이벤트가 발생한 '요일'을 파생 변수로 추가한 뒤, 요일별 value 총합을 구하시오.\n",
    "- 위의 데이터를 사용하여, 가장 큰 3개 값의 평균을 구해 반올림하여 정수로 출력하시오."
   ]
  },
  {
   "cell_type": "code",
   "execution_count": null,
   "id": "9472885b",
   "metadata": {},
   "outputs": [
    {
     "name": "stdout",
     "output_type": "stream",
     "text": [
      "8342\n"
     ]
    }
   ],
   "source": [
    "df = pd.read_csv(path2 + \"event_log_04.csv\")\n",
    "# print(df.head())\n",
    "\n",
    "# 시계열 데이터를 이용해 각 이벤트가 발생한 '요일'을 파생 변수로 추가한 뒤, 요일별 value 총합을 구하시오.\n",
    "df['date'] = pd.to_datetime(df['date'])\n",
    "df['요일'] = df['date'].dt.day_name('ko_KR')\n",
    "# print(df.head(3))\n",
    "df2 = df.groupby('요일')['value'].sum().reset_index(name='총합').sort_values(by='총합', ascending=False)\n",
    "# print(df2)\n",
    "\n",
    "# 위의 데이터를 사용하여, 가장 큰 3개 값의 평균을 구해 반올림하여 정수로 출력하시오.\n",
    "result = round(df2['총합'][:3].mean())\n",
    "# print(result) # 8342\n"
   ]
  },
  {
   "cell_type": "markdown",
   "id": "bd7094b4",
   "metadata": {},
   "source": [
    "**8-2b) 프로모션 기획**\n",
    "\n",
    "온라인 플랫폼에서는 특정 요일에 이벤트의 발생 빈도를 활용한 프로모션을 기획하려 한다.\n",
    "\n",
    "다음 절차에 따라 문제를 해결하시오.\n",
    "- 각 이벤트가 발생한 날짜에서 '요일' 정보를 추출한다.\n",
    "- 요일별로 value의 총합을 구하여, 가장 높은 합계를 가진 요일 3개를 식별한다.\n",
    "- 이 3개 요일에 해당하는 모든 이벤트의 value 평균을 계산하고, 그 값을 반올림하여 정수로 출력하시오."
   ]
  },
  {
   "cell_type": "code",
   "execution_count": null,
   "id": "dcadeb19",
   "metadata": {},
   "outputs": [
    {
     "name": "stdout",
     "output_type": "stream",
     "text": [
      "57\n"
     ]
    }
   ],
   "source": [
    "df = pd.read_csv(path2 + \"event_log_04.csv\")\n",
    "# print(df.head(3))\n",
    "\n",
    "# 각 이벤트가 발생한 날짜에서 '요일' 정보를 추출한다.\n",
    "df['date'] = pd.to_datetime(df['date'])\n",
    "df['요일'] = df['date'].dt.day_name('ko_KR')\n",
    "# print(df.head(3))\n",
    "\n",
    "# 요일별로 value의 총합을 구하여, 가장 높은 합계를 가진 요일 3개를 식별한다.\n",
    "df2 = df.groupby('요일')['value'].sum().reset_index(name='총합').sort_values(by='총합', ascending=False).head(3)\n",
    "days = list(df2['요일'])\n",
    "# print(days) # ['토요일', '일요일', '수요일']\n",
    "\n",
    "# 이 3개 요일에 해당하는 모든 이벤트의 value 평균을 계산하고, 그 값을 반올림하여 정수로 출력하시오.\n",
    "result = round(df.loc[df['요일'].isin(days), 'value'].mean())\n",
    "# print(result) # 57"
   ]
  },
  {
   "cell_type": "markdown",
   "id": "991735cd",
   "metadata": {},
   "source": [
    "**8-3) 이벤트별 월간 성과**\n",
    "\n",
    "다양한 이벤트 카테고리별 월간 성과 분석을 위한 과제이다.\n",
    "\n",
    "다음 절차에 따라 문제를 해결하시오.\n",
    "- **주어진 데이터**에 대해 카테고리(category2), 연도(year), 월(month) 단위로 value의 총합을 집계하시오.\n",
    "- 이후, (category2, year)별로 집계된 값 중 가장 value 합계가 높은 월을 선택하시오.\n",
    "- 이렇게 선택된 월별 최댓값들을 모두 더한 뒤, 그 합계를 반올림하여 정수로 출력하시오."
   ]
  },
  {
   "cell_type": "code",
   "execution_count": null,
   "id": "edac9a26",
   "metadata": {},
   "outputs": [
    {
     "name": "stdout",
     "output_type": "stream",
     "text": [
      "3269\n"
     ]
    }
   ],
   "source": [
    "df = pd.read_csv(path2 + \"event_log_05.csv\")\n",
    "# print(df.head(3))\n",
    "\n",
    "# 주어진 데이터에 대해 카테고리(category2), 연도(year), 월(month) 단위로 value의 총합을 집계하시오.\n",
    "df['date'] = pd.to_datetime(df['date'])\n",
    "df['year'] = df['date'].dt.year\n",
    "df['month'] = df['date'].dt.month\n",
    "df2 = df.groupby(['category2','month'])['value'].sum().reset_index(name='총합').sort_values(by='총합', ascending=False)\n",
    "df3 = df.groupby(['year','month'])['value'].sum().reset_index(name='총합').sort_values(by='총합', ascending=False)\n",
    "\n",
    "# 이후, (category2, year)별로 집계된 값 중 가장 value 합계가 높은 월을 선택하시오.\n",
    "cat_month = df2[df2['총합'] == df2['총합'].max()]['month'].values[0]\n",
    "yr_month = df3[df3['총합'] == df3['총합'].max()]['month'].values[0]\n",
    "# print(cat_month, yr_month)\n",
    "\n",
    "# 이렇게 선택된 월별 최댓값들을 모두 더한 뒤, 그 합계를 반올림하여 정수로 출력하시오.\n",
    "value1 = df2[df2['month'] == cat_month]['총합'].values[0]\n",
    "value2 = df3[df3['month'] == yr_month]['총합'].values[0]\n",
    "result = round(value1 + value2)\n",
    "# print(result) # 3269"
   ]
  },
  {
   "cell_type": "markdown",
   "id": "76b839d8",
   "metadata": {},
   "source": [
    "**8-4) 이상 감지 및 성능 분석**\n",
    "\n",
    "시스템 비활성 이벤트의 이상 감지 및 성능 분석을 위한 과제이다.\n",
    "\n",
    "다음 절차에 따라 문제를 해결하시오.\n",
    "- 2020년 1월부터 6월까지의 데이터 중 event가 'Idle'인 이벤트만 필터링하시오.\n",
    "- 월(month)별로 해당 이벤트들의 value 중앙값을 구하시오.\n",
    "- 해당 월의 value 중앙값을 기준으로 그 달에 발생한 이벤트 중 value가 중앙값 이하인 이벤트만 선택하시오.\n",
    "- 이렇게 선택된 이벤트들의 총 개수를 정수로 출력하시오."
   ]
  },
  {
   "cell_type": "code",
   "execution_count": null,
   "id": "0c0dc560",
   "metadata": {},
   "outputs": [
    {
     "name": "stdout",
     "output_type": "stream",
     "text": [
      "237\n"
     ]
    }
   ],
   "source": [
    "df = pd.read_csv(path2 + \"event_log_04.csv\")\n",
    "# print(df.head(3))\n",
    "\n",
    "# 2020년 1월부터 6월까지의 데이터 중 event가 'Idle'인 이벤트만 필터링하시오.\n",
    "df['date'] = pd.to_datetime(df['date'])\n",
    "df2 = df.loc[(df['date'].dt.month >= 1) & (df['date'].dt.month <= 6)]\n",
    "df3 = df2[df2['event'] == 'Idle']\n",
    "\n",
    "# 월(month)별로 해당 이벤트들의 value 중앙값을 구하시오.\n",
    "df3['month'] = df3['date'].dt.month\n",
    "month_median = df3.groupby('month')['value'].median().reset_index(name='median')\n",
    "# print(month_median)\n",
    "\n",
    "# 해당 월의 value 중앙값을 기준으로 그 달에 발생한 이벤트 중 value가 중앙값 이하인 이벤트만 선택하시오.\n",
    "df['month'] = df['date'].dt.month\n",
    "df = pd.merge(df, month_median, \"left\", \"month\").dropna()\n",
    "event_list = list(df[df['value'] <= df['median']]['event'])\n",
    "# print(event_list)\n",
    "\n",
    "# 이렇게 선택된 이벤트들의 총 개수를 정수로 출력하시오.\n",
    "result = len(event_list)\n",
    "# print(result) # 237"
   ]
  },
  {
   "cell_type": "markdown",
   "id": "e0765ba7",
   "metadata": {},
   "source": [
    "**8-5) 야간 시간대 이벤트**\n",
    "\n",
    "다음은 야간 시간대에 발생한 이벤트 유형 분석을 통해 사용자 활동 패턴을 파악하고자 하는 과제이다.\n",
    "\n",
    "다음 절차에 따라 문제를 해결하시오.\n",
    "- 먼저, 시간(hour) 정보가 22시부터 02시까지(22:00:00 ~ 02:59:59)인 데이터를 야간 이벤트로 간주한다.\n",
    "- 이 야간 이벤트를 기준으로, (month, event)별 value 평균값을 구하시오.\n",
    "- 각 월(month)에서 value 평균이 가장 높은 이벤트 유형을 하나씩 선택하고, 그 중 'Start'와 'Stop'이벤트의 빈도 수 합을 정수로 출력하시오."
   ]
  },
  {
   "cell_type": "code",
   "execution_count": null,
   "id": "6168ca14",
   "metadata": {},
   "outputs": [
    {
     "name": "stdout",
     "output_type": "stream",
     "text": [
      "    month    event      value\n",
      "0       1    Alert  47.531429\n",
      "1       1     Idle  62.050000\n",
      "2       1  Measure  85.070000\n",
      "3       1      Run  53.680000\n",
      "4       1    Start  17.820000\n",
      "5       1     Stop  55.224000\n",
      "6       2    Alert  54.345000\n",
      "7       2  Measure  32.280000\n",
      "8       2      Run  45.423333\n",
      "9       2    Start  64.120000\n",
      "10      2     Stop  43.770000\n",
      "11      3    Alert  39.890000\n",
      "12      3     Idle  50.933333\n",
      "13      3  Measure  44.430000\n",
      "14      3      Run  72.098333\n",
      "15      3    Start  81.150000\n",
      "16      4    Alert  38.082500\n",
      "17      4     Idle  49.180000\n",
      "18      4  Measure  51.423333\n",
      "19      4      Run  62.550000\n",
      "20      4    Start  53.303333\n",
      "21      4     Stop  71.150000\n",
      "22      5    Alert  32.540000\n",
      "23      5     Idle  23.970000\n",
      "24      5  Measure  53.508000\n",
      "25      5      Run  57.635000\n",
      "26      5    Start  46.790000\n",
      "27      5     Stop  82.380000\n",
      "28      6    Alert  47.802000\n",
      "29      6     Idle  57.780000\n",
      "30      6  Measure  54.756667\n",
      "31      6      Run  55.580000\n",
      "32      6    Start  33.550000\n",
      "33      6     Stop  60.232500\n",
      "34      7    Alert  49.706000\n",
      "35      7     Idle  51.415000\n",
      "36      7  Measure  65.150000\n",
      "37      7      Run  62.050000\n",
      "38      7    Start  56.595000\n",
      "39      7     Stop  21.680000\n",
      "40      8    Alert  85.330000\n",
      "41      8     Idle  47.971000\n",
      "42      8  Measure  50.406667\n",
      "43      8      Run  21.425000\n",
      "44      8     Stop  67.083333\n",
      "45      9    Alert  68.240000\n",
      "46      9  Measure  19.040000\n",
      "47      9      Run  97.990000\n",
      "48      9    Start  70.000000\n",
      "49      9     Stop  63.452500\n",
      "50     10    Alert  68.726667\n",
      "51     10     Idle  35.280000\n",
      "52     10  Measure  34.040000\n",
      "53     10      Run  60.790000\n",
      "54     10    Start  45.550000\n",
      "55     10     Stop  49.090000\n",
      "56     11    Alert  51.837143\n",
      "57     11     Idle  64.370000\n",
      "58     11      Run  41.096667\n",
      "59     11    Start  54.990000\n",
      "60     11     Stop  67.050000\n",
      "61     12    Alert  60.627500\n",
      "62     12     Idle  48.958000\n",
      "63     12  Measure  53.315000\n",
      "64     12      Run  61.882000\n",
      "65     12     Stop  75.374000\n"
     ]
    },
    {
     "ename": "KeyError",
     "evalue": "'mean'",
     "output_type": "error",
     "traceback": [
      "\u001b[0;31m---------------------------------------------------------------------------\u001b[0m",
      "\u001b[0;31mKeyError\u001b[0m                                  Traceback (most recent call last)",
      "File \u001b[0;32m~/miniconda3/envs/study/lib/python3.10/site-packages/pandas/core/indexes/base.py:3805\u001b[0m, in \u001b[0;36mIndex.get_loc\u001b[0;34m(self, key)\u001b[0m\n\u001b[1;32m   3804\u001b[0m \u001b[38;5;28;01mtry\u001b[39;00m:\n\u001b[0;32m-> 3805\u001b[0m     \u001b[38;5;28;01mreturn\u001b[39;00m \u001b[38;5;28;43mself\u001b[39;49m\u001b[38;5;241;43m.\u001b[39;49m\u001b[43m_engine\u001b[49m\u001b[38;5;241;43m.\u001b[39;49m\u001b[43mget_loc\u001b[49m\u001b[43m(\u001b[49m\u001b[43mcasted_key\u001b[49m\u001b[43m)\u001b[49m\n\u001b[1;32m   3806\u001b[0m \u001b[38;5;28;01mexcept\u001b[39;00m \u001b[38;5;167;01mKeyError\u001b[39;00m \u001b[38;5;28;01mas\u001b[39;00m err:\n",
      "File \u001b[0;32mindex.pyx:167\u001b[0m, in \u001b[0;36mpandas._libs.index.IndexEngine.get_loc\u001b[0;34m()\u001b[0m\n",
      "File \u001b[0;32mindex.pyx:196\u001b[0m, in \u001b[0;36mpandas._libs.index.IndexEngine.get_loc\u001b[0;34m()\u001b[0m\n",
      "File \u001b[0;32mpandas/_libs/hashtable_class_helper.pxi:7081\u001b[0m, in \u001b[0;36mpandas._libs.hashtable.PyObjectHashTable.get_item\u001b[0;34m()\u001b[0m\n",
      "File \u001b[0;32mpandas/_libs/hashtable_class_helper.pxi:7089\u001b[0m, in \u001b[0;36mpandas._libs.hashtable.PyObjectHashTable.get_item\u001b[0;34m()\u001b[0m\n",
      "\u001b[0;31mKeyError\u001b[0m: 'mean'",
      "\nThe above exception was the direct cause of the following exception:\n",
      "\u001b[0;31mKeyError\u001b[0m                                  Traceback (most recent call last)",
      "Cell \u001b[0;32mIn[160], line 16\u001b[0m\n\u001b[1;32m     13\u001b[0m \u001b[38;5;28mprint\u001b[39m(df3)\n\u001b[1;32m     15\u001b[0m \u001b[38;5;66;03m# 각 월(month)에서 value 평균이 가장 높은 이벤트 유형을 하나씩 선택하고, 그 중 'Start'와 'Stop'이벤트의 빈도 수 합을 정수로 출력하시오.\u001b[39;00m\n\u001b[0;32m---> 16\u001b[0m df3[\u001b[43mdf3\u001b[49m\u001b[43m[\u001b[49m\u001b[38;5;124;43m'\u001b[39;49m\u001b[38;5;124;43mmean\u001b[39;49m\u001b[38;5;124;43m'\u001b[39;49m\u001b[43m]\u001b[49m\u001b[38;5;241m.\u001b[39midxmax()][\u001b[38;5;124m'\u001b[39m\u001b[38;5;124mevent\u001b[39m\u001b[38;5;124m'\u001b[39m]\n",
      "File \u001b[0;32m~/miniconda3/envs/study/lib/python3.10/site-packages/pandas/core/frame.py:4102\u001b[0m, in \u001b[0;36mDataFrame.__getitem__\u001b[0;34m(self, key)\u001b[0m\n\u001b[1;32m   4100\u001b[0m \u001b[38;5;28;01mif\u001b[39;00m \u001b[38;5;28mself\u001b[39m\u001b[38;5;241m.\u001b[39mcolumns\u001b[38;5;241m.\u001b[39mnlevels \u001b[38;5;241m>\u001b[39m \u001b[38;5;241m1\u001b[39m:\n\u001b[1;32m   4101\u001b[0m     \u001b[38;5;28;01mreturn\u001b[39;00m \u001b[38;5;28mself\u001b[39m\u001b[38;5;241m.\u001b[39m_getitem_multilevel(key)\n\u001b[0;32m-> 4102\u001b[0m indexer \u001b[38;5;241m=\u001b[39m \u001b[38;5;28;43mself\u001b[39;49m\u001b[38;5;241;43m.\u001b[39;49m\u001b[43mcolumns\u001b[49m\u001b[38;5;241;43m.\u001b[39;49m\u001b[43mget_loc\u001b[49m\u001b[43m(\u001b[49m\u001b[43mkey\u001b[49m\u001b[43m)\u001b[49m\n\u001b[1;32m   4103\u001b[0m \u001b[38;5;28;01mif\u001b[39;00m is_integer(indexer):\n\u001b[1;32m   4104\u001b[0m     indexer \u001b[38;5;241m=\u001b[39m [indexer]\n",
      "File \u001b[0;32m~/miniconda3/envs/study/lib/python3.10/site-packages/pandas/core/indexes/base.py:3812\u001b[0m, in \u001b[0;36mIndex.get_loc\u001b[0;34m(self, key)\u001b[0m\n\u001b[1;32m   3807\u001b[0m     \u001b[38;5;28;01mif\u001b[39;00m \u001b[38;5;28misinstance\u001b[39m(casted_key, \u001b[38;5;28mslice\u001b[39m) \u001b[38;5;129;01mor\u001b[39;00m (\n\u001b[1;32m   3808\u001b[0m         \u001b[38;5;28misinstance\u001b[39m(casted_key, abc\u001b[38;5;241m.\u001b[39mIterable)\n\u001b[1;32m   3809\u001b[0m         \u001b[38;5;129;01mand\u001b[39;00m \u001b[38;5;28many\u001b[39m(\u001b[38;5;28misinstance\u001b[39m(x, \u001b[38;5;28mslice\u001b[39m) \u001b[38;5;28;01mfor\u001b[39;00m x \u001b[38;5;129;01min\u001b[39;00m casted_key)\n\u001b[1;32m   3810\u001b[0m     ):\n\u001b[1;32m   3811\u001b[0m         \u001b[38;5;28;01mraise\u001b[39;00m InvalidIndexError(key)\n\u001b[0;32m-> 3812\u001b[0m     \u001b[38;5;28;01mraise\u001b[39;00m \u001b[38;5;167;01mKeyError\u001b[39;00m(key) \u001b[38;5;28;01mfrom\u001b[39;00m \u001b[38;5;21;01merr\u001b[39;00m\n\u001b[1;32m   3813\u001b[0m \u001b[38;5;28;01mexcept\u001b[39;00m \u001b[38;5;167;01mTypeError\u001b[39;00m:\n\u001b[1;32m   3814\u001b[0m     \u001b[38;5;66;03m# If we have a listlike key, _check_indexing_error will raise\u001b[39;00m\n\u001b[1;32m   3815\u001b[0m     \u001b[38;5;66;03m#  InvalidIndexError. Otherwise we fall through and re-raise\u001b[39;00m\n\u001b[1;32m   3816\u001b[0m     \u001b[38;5;66;03m#  the TypeError.\u001b[39;00m\n\u001b[1;32m   3817\u001b[0m     \u001b[38;5;28mself\u001b[39m\u001b[38;5;241m.\u001b[39m_check_indexing_error(key)\n",
      "\u001b[0;31mKeyError\u001b[0m: 'mean'"
     ]
    }
   ],
   "source": [
    "df = pd.read_csv(path2 + \"event_log_04.csv\")\n",
    "# print(df.head())\n",
    "\n",
    "# 먼저, 시간(hour) 정보가 22시부터 02시까지(22:00:00 ~ 02:59:59)인 데이터를 야간 이벤트로 간주한다.\n",
    "df['date_time'] = df['date'] + ' ' + df['time']\n",
    "df['date_time'] = pd.to_datetime(df['date_time'])\n",
    "# print(df.head(3))\n",
    "df2 = df.loc[(df['date_time'].dt.hour >= 22) | (df['date_time'].dt.hour >= 0) & (df['date_time'].dt.hour <= 2)]\n",
    "\n",
    "# 이 야간 이벤트를 기준으로, (month, event)별 value 평균값을 구하시오.\n",
    "df2['month'] = df2['date_time'].dt.month\n",
    "df3 = df2.groupby(['month','event'])[['value']].mean().reset_index()\n",
    "print(df3)\n",
    "\n",
    "# 각 월(month)에서 value 평균이 가장 높은 이벤트 유형을 하나씩 선택하고, 그 중 'Start'와 'Stop'이벤트의 빈도 수 합을 정수로 출력하시오.\n"
   ]
  },
  {
   "cell_type": "code",
   "execution_count": null,
   "id": "11996aca",
   "metadata": {},
   "outputs": [],
   "source": []
  }
 ],
 "metadata": {
  "kernelspec": {
   "display_name": "study",
   "language": "python",
   "name": "python3"
  },
  "language_info": {
   "codemirror_mode": {
    "name": "ipython",
    "version": 3
   },
   "file_extension": ".py",
   "mimetype": "text/x-python",
   "name": "python",
   "nbconvert_exporter": "python",
   "pygments_lexer": "ipython3",
   "version": "3.10.16"
  }
 },
 "nbformat": 4,
 "nbformat_minor": 5
}
