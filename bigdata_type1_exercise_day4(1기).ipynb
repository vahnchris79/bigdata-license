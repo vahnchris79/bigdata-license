{
 "cells": [
  {
   "cell_type": "code",
   "execution_count": 1,
   "id": "10c0ae35",
   "metadata": {},
   "outputs": [],
   "source": [
    "import pandas as pd\n",
    "pd.set_option('display.width', 120)"
   ]
  },
  {
   "cell_type": "markdown",
   "id": "21829210",
   "metadata": {},
   "source": [
    "#### 4-1) 샘플 개수 구하기\n",
    "\n",
    "다음 조건을 모두 만족하는 샘플의 개수를 정수로 구하시오.\n",
    "\n",
    "* 단, bmi, s5, target 컬럼을 사용하며 다음 조건을 모두 만족해야 한다.\n",
    "* bmi가 전체 평균 이상인 데이터\n",
    "* s5가 전체 중앙값보다 큰 데이터\n",
    "* target 값이 150이상인 데이터"
   ]
  },
  {
   "cell_type": "code",
   "execution_count": null,
   "id": "10d703e5",
   "metadata": {},
   "outputs": [
    {
     "name": "stdout",
     "output_type": "stream",
     "text": [
      "108\n"
     ]
    }
   ],
   "source": [
    "filename = \"https://raw.githubusercontent.com/Soyoung-Yoon/bigdata/main/diabetes.csv\"\n",
    "df = pd.read_csv(filename)\n",
    "# print(df.head(3))\n",
    "# print(df.shape) # (442, 11)\n",
    "\n",
    "# bmi가 전체 평균 이상인 데이터\n",
    "# df2 = df[df['bmi'] >= df['bmi'].mean()]\n",
    "cond1 = df['bmi'] >= df['bmi'].mean()\n",
    "\n",
    "# s5가 전체 중앙값보다 큰 데이터\n",
    "# df3 = df2[df2['s5'] > df2['s5'].median()]\n",
    "cond2 = df['s5'] > df['s5'].median()\n",
    "\n",
    "# target 값이 150이상인 데이터\n",
    "# df4 = df3[df3['target'] >= 150]\n",
    "cond3 = df['target'] >= 150\n",
    "\n",
    "# 조건 대입\n",
    "filter = df[cond1 & cond2 & cond3]\n",
    "\n",
    "# 샘플의 개수\n",
    "result = len(filter)\n",
    "print(result) # 80 -> 108"
   ]
  },
  {
   "cell_type": "markdown",
   "id": "6c4aae3d",
   "metadata": {},
   "source": [
    "#### 4-2) 펭귄의 수 구하기\n",
    "\n",
    "다음 조건을 모두 만족하는 펭귄의 수를 구해 정수로 출력하시오.\n",
    "\n",
    "* species가 Gentoo인 데이터만 필터링한다.\n",
    "* 위의 필터링된 데이터 중에서 bill_length_mm이 Gentoo펭귄 전체에서 상위20%에 해당하면서,\n",
    "flipper_length_mm이 220이상인 경우만 유지한다.\n",
    "* 단, 상위20%에 해당하는 것이 여러 개인 경우 모두 포함하도록 한다."
   ]
  },
  {
   "cell_type": "code",
   "execution_count": 85,
   "id": "06ee0393",
   "metadata": {},
   "outputs": [
    {
     "name": "stdout",
     "output_type": "stream",
     "text": [
      "19\n"
     ]
    }
   ],
   "source": [
    "path = \"https://raw.githubusercontent.com/Soyoung-Yoon/data_01/main/\"\n",
    "df = pd.read_csv(path + \"penguins03.csv\")\n",
    "# print(df.shape) # (334, 7)\n",
    "\n",
    "# species가 Gentoo인 데이터만 필터링한다\n",
    "# df_g = df[df['species'] == 'Gentoo'].copy()\n",
    "df2 = df[df['species'] == 'Gentoo'].copy()\n",
    "\n",
    "# 필터링된 데이터 중에서 bill_length_mm이 Gentoo펭귄 전체에서 상위20%에 해당하면서,\n",
    "# high20 = int()\n",
    "# df_g = df_g[(df_g['bill_length_mm'] >= df_g['bill_length_mm'].quantile(0.8)) &\n",
    "#             (df_g['flipper_length_mm'] >= 20)\n",
    "df3 = df2.loc[(df2['bill_length_mm'] >= df2['bill_length_mm'].quantile(0.8)) &\n",
    "              (df2['flipper_length_mm'] >= 220)].copy()\n",
    "\n",
    "# flipper_length_mm이 20이상인 경우의 데이터 추출\n",
    "# df4 = df3.loc[].copy()\n",
    "\n",
    "# 펭귄 수를 정수로 출력\n",
    "result = len(df3)\n",
    "print(int(result)) # 24"
   ]
  },
  {
   "cell_type": "markdown",
   "id": "d570ddbc",
   "metadata": {},
   "source": [
    "#### 4-3) 다이아몬드 가격\n",
    "\n",
    "다음 조건을 모두 만족하는 다이아몬드의 가격(price) 합계를 정수로 구하시오.\n",
    "\n",
    "* cut등급이 'Premium'이고 color가 'D' 또는 'F' 또는 'H'인 데이터만 필터링한다.\n",
    "* 위 필터링된 데이터에서, 각 (cut, color) 그룹별 carat 중앙값을 계산하다.\n",
    "* 그리고 필터링된 데이터에서 각 다이아몬드의 carat이 해당 그룹(cut, color)의 중앙값보다\n",
    "큰 데이터를 최종적으로 선택한다."
   ]
  },
  {
   "cell_type": "code",
   "execution_count": null,
   "id": "2c4b8d5e",
   "metadata": {},
   "outputs": [
    {
     "name": "stdout",
     "output_type": "stream",
     "text": [
      "23289898\n"
     ]
    }
   ],
   "source": [
    "filename = \"https://raw.githubusercontent.com/Soyoung-Yoon/bigdata/main/diamonds.csv\"\n",
    "df = pd.read_csv(filename)\n",
    "# print(df.head())\n",
    "# print(df.shape) # (53940, 10)\n",
    "\n",
    "# cut등급이 'Premium'이고 color가 'D' 또는 'F' 또는 'H'인 데이터만 필터링\n",
    "df2 = df[(df['cut'] == 'Premium') & (df['color'].str.contains('D|F|H'))].copy()\n",
    "# print(df2.head())\n",
    "# print(df2.tail())\n",
    "# print(df2.shape) # (6294, 10)\n",
    "\n",
    "# 필터링된 데이터에서, 각 (cut, color) 그룹별 carat 중앙값을 계산\n",
    "# print(df2.groupby(['cut','color'])['carat'].median())\n",
    "carat_median = df2.groupby(['cut','color'])['carat'].transform('median')\n",
    "\n",
    "# 필터링된 데이터에서 각 다이아몬드의 carat이 해당 그룹(cut, color)의 중앙값보다 \n",
    "# 큰 데이터를 최종적으로 선택\n",
    "df3 = df2[df2['carat'] > carat_median]\n",
    "\n",
    "# 다이아몬드 가격의 합계를 정수로 출력\n",
    "result = df3['price'].sum()\n",
    "# print(int(result)) # 23289898"
   ]
  },
  {
   "cell_type": "markdown",
   "id": "e0f484a9",
   "metadata": {},
   "source": [
    "#### 4-4) 펭귄의 체중\n",
    "\n",
    "penguins 데이터셋을 사용하여 다음 조건을 모두 만족하는 펭귄의 body_mass_g 표준편차를 구하시오.\n",
    "\n",
    "* 모든 결측치는 제거한 후에 처리하도록 한다.\n",
    "* 각 펭귄의 body_mass_g가 자시이 속한 species의 중앙값보다 큰 경우의 데이터를 선택한다.\n",
    "* 위 조건을 만족하는 펭귄 중 sex가 'Male'이고 bill_length_mm이 17을 초과하는 개체를 선택한다.\n",
    "* 결과는 반올림하여 소수점 아래 3자리까지 표시되도록 한다."
   ]
  },
  {
   "cell_type": "code",
   "execution_count": null,
   "id": "b2e64b5e",
   "metadata": {},
   "outputs": [
    {
     "name": "stdout",
     "output_type": "stream",
     "text": [
      "749.664\n"
     ]
    }
   ],
   "source": [
    "filename = \"https://raw.githubusercontent.com/Soyoung-Yoon/bigdata/main/penguins01.csv\"\n",
    "df = pd.read_csv(filename)\n",
    "# print(df.head())\n",
    "# print(df.shape) # (344, 7)\n",
    "\n",
    "# 모든 결측치는 제거한 후에 처리하도록 한다.\n",
    "# print(df.isna().sum().to_frame().T)\n",
    "df2 = df.dropna()\n",
    "# print(df2.isna().sum().to_frame().T)\n",
    "\n",
    "# 각 펭귄의 body_mass_g가 자시이 속한 species의 중앙값보다 큰 경우의 데이터를 선택\n",
    "mass_median = df2.groupby('species')['body_mass_g'].transform('median')\n",
    "df3 = df2[df2['body_mass_g'] > mass_median].copy()\n",
    "# print(df3.head())\n",
    "# print(df3.shape) # (159, 7)\n",
    "\n",
    "# 위 조건을 만족하는 펭귄 중 sex가 'Male'이고 bill_length_mm이 17을 초과하는 개체를 선택\n",
    "df4 = df3[(df3['sex'] == 'Male') & (df3['bill_length_mm'] > 17)]\n",
    "# print(df4.head())\n",
    "# print(df4.shape) # (141, 7)\n",
    "\n",
    "# body_mass_g 표준편차 결과를 반올림하여 소수점 아래 3자리까지 표시\n",
    "result = df4['body_mass_g'].std(ddof=1)\n",
    "# print(round(result, 3)) # 749.664\n"
   ]
  },
  {
   "cell_type": "markdown",
   "id": "5029c20c",
   "metadata": {},
   "source": [
    "#### 4-5) 승객의 수 구하기\n",
    "\n",
    "titanic.csv를 사용하여 다음 조건을 모두 만족하는 승객의 수를 정수로 구하시오.\n",
    "\n",
    "* Age 컬럼의 결측치는 Pclass와 Gender 조합별 Age 평규값으로 채운다.\n",
    "* 그 후, Age가 30세 이상인 승객만을 필터링한다.\n",
    "* 필터링된 데이터에서 각 승객의 요금(Fare)이 동일 성별(Gender) 승객들의 요금 중앙값 이상인 경우만 필터링한다."
   ]
  },
  {
   "cell_type": "code",
   "execution_count": null,
   "id": "959842cd",
   "metadata": {},
   "outputs": [
    {
     "name": "stdout",
     "output_type": "stream",
     "text": [
      "185\n"
     ]
    }
   ],
   "source": [
    "filename = \"https://raw.githubusercontent.com/Soyoung-Yoon/bigdata/main/titanic_dataq.csv\"\n",
    "df = pd.read_csv(filename)\n",
    "# print(df.head())\n",
    "# print(df.shape) # (891, 12)\n",
    "# print(df.isna().sum().to_frame().T) # 177행 누락\n",
    "\n",
    "# Age 컬럼의 결측치는 Pclass와 Gender 조합별 Age 평균값으로 채운다.\n",
    "age_mean = df.groupby(['Pclass','Gender'])['Age'].transform('mean')\n",
    "df['Age'] = df['Age'].fillna(age_mean)\n",
    "# print(df.isna().sum().to_frame().T) # 결측치를 평균값으로 대체\n",
    "\n",
    "# 그 후, Age가 30세 이상인 승객만을 필터링한다.\n",
    "df2 = df[df['Age'] >= 30]\n",
    "# print(df2.shape) # (369, 12)\n",
    "\n",
    "# 필터링된 데이터에서 각 승객의 요금(Fare)이 동일 성별(Gender) 승객들의 요금 중앙값 이상인 경우만 필터링\n",
    "fare_median = df2.groupby('Gender')['Fare'].transform('median')\n",
    "df3 = df2[df2['Fare'] >= fare_median]\n",
    "\n",
    "# 위 조건을 모두 만족하는 승객의 수를 정수로 구하시오.\n",
    "result = len(df3)\n",
    "# print(int(result)) # 185"
   ]
  },
  {
   "cell_type": "code",
   "execution_count": null,
   "id": "f3f152bc",
   "metadata": {},
   "outputs": [],
   "source": []
  }
 ],
 "metadata": {
  "kernelspec": {
   "display_name": "study",
   "language": "python",
   "name": "python3"
  },
  "language_info": {
   "codemirror_mode": {
    "name": "ipython",
    "version": 3
   },
   "file_extension": ".py",
   "mimetype": "text/x-python",
   "name": "python",
   "nbconvert_exporter": "python",
   "pygments_lexer": "ipython3",
   "version": "3.10.16"
  }
 },
 "nbformat": 4,
 "nbformat_minor": 5
}
