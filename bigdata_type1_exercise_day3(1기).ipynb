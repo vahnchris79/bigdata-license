{
 "cells": [
  {
   "cell_type": "code",
   "execution_count": 2,
   "id": "c5a5c436",
   "metadata": {},
   "outputs": [],
   "source": [
    "import pandas as pd\n",
    "pd.set_option('display.width', 120)"
   ]
  },
  {
   "cell_type": "markdown",
   "id": "0f644e70",
   "metadata": {},
   "source": [
    "#### 3-1) 중간 수준 출력 차량의 지역별 연비 특성 분석\n",
    "\n",
    "차량의 마력(horseepower)과 연비(mpg)의 관련성을 알기위해 중간 성능대 차량의 지역별 연비 경향을 분석한다.\n",
    "\n",
    "다음 절차에 따라 문제를 해결하사오.\n",
    "\n",
    "* horsepower 값이 전체에서 하위 20% 이상, 상위 20% 이하인 차량만을 대상으로 한다.\n",
    "- (즉, horsepower가 전체의 20% 분위수 이상, 80% 분위수 이하인 데이터만 필터링)\n",
    "\n",
    "* 이후, 필터링된 데이터에서 origin별로 연비(mpg)의 중앙값을 계산하고, 그 중 가장 큰 값과 가장 작은 값의 차이를 반올림하여 정수로 출력한다."
   ]
  },
  {
   "cell_type": "code",
   "execution_count": null,
   "id": "c1004add",
   "metadata": {},
   "outputs": [
    {
     "name": "stdout",
     "output_type": "stream",
     "text": [
      "6\n"
     ]
    }
   ],
   "source": [
    "path = \"https://raw.githubusercontent.com/Soyoung-Yoon/data_01/main/\"\n",
    "df = pd.read_csv(path + \"mpg02.csv\")\n",
    "# print(df.head())\n",
    "\n",
    "# horsepower가 전체에서 하위 20% 이상, 상위 20% 이하인 차량 추출\n",
    "lower, upper = df['horsepower'].quantile([0.2, 0.8])\n",
    "# print(lower, upper)\n",
    "df = df.loc[(df['horsepower'] >= lower) & (df['horsepower'] <= upper)]\n",
    "\n",
    "# origin별로 연비(mpg)의 중앙값을 계산하고, 그 중 가장 큰값과 가장 작은 값의 차이\n",
    "median_max = df.groupby('origin')['mpg'].median().max()\n",
    "median_min = df.groupby('origin')['mpg'].median().min()\n",
    "result = round(median_max - median_min)\n",
    "# print(result) # 6"
   ]
  },
  {
   "cell_type": "markdown",
   "id": "f55b4995",
   "metadata": {},
   "source": [
    "#### 3-2) 이상적인 컷의 고캐럿 다이아몬드 가격 분포 분석\n",
    "\n",
    "다이아몬드의 cut등급과 carat(중량)은 가격에 큰 영향을 미칩니다. 이 문제에서는 이상적인 컷(Ideal)과 고캐럿 조건을 만족하는 다이아몬드들의 가격과 분포를 분석합니다.\n",
    "\n",
    "다음 작업을 수행하세요.\n",
    "\n",
    "* diamonds.csv를 사용합니다.\n",
    "* 다이아몬드 중에서 cut등급이 Ideal이고, carat이 전체 다이아몬드 평균보다 큰 데이터만을 필터링한다.\n",
    "* 이렇게 필터링 된 데이터에서 price의 사분위 범위(IQR, Interquantile Range)를 결과로 구합니다.\n",
    "* IQR = Q3 - Q1 (Q1: 1사분위수(25%), Q3: 3사분위수(75%))\n",
    "* 결과를 정수로 출력합니다."
   ]
  },
  {
   "cell_type": "code",
   "execution_count": null,
   "id": "7633521d",
   "metadata": {},
   "outputs": [
    {
     "name": "stdout",
     "output_type": "stream",
     "text": [
      "0.7979397478680014\n",
      "5336\n"
     ]
    }
   ],
   "source": [
    "\n",
    "filename = \"https://raw.githubusercontent.com/Soyoung-Yoon/bigdata/main/diamonds.csv\"\n",
    "df = pd.read_csv(filename)\n",
    "# print(df.head())\n",
    "\n",
    "# 다이아몬드 중에서 cut등급이 Ideal이고, carat이 전체 다이아몬드 평균보다 큰 데이터만을 필터링\n",
    "carat_mean = df['carat'].mean()\n",
    "print(carat_mean)\n",
    "df2 = df[(df['cut'] == 'Ideal') & (df['carat'] > carat_mean)]\n",
    "\n",
    "# 필터링 된 데이터에서 price의 사분위 범위(IQR, Interquantile Range)를 결과를 구합니다.\n",
    "Q1, Q3 = df2['price'].quantile([0.25, 0.75]) # df -> df2(필터링 결과 미적용)\n",
    "IQR = int(Q3 - Q1)\n",
    "\n",
    "#  결과를 정수로 출력합니다.\n",
    "print(IQR) # 5336\n"
   ]
  },
  {
   "cell_type": "markdown",
   "id": "520cb3b8",
   "metadata": {},
   "source": [
    "#### 3-3) 붓꽃의 품종별 특성 분석\n",
    "\n",
    "붓꽃(iris) 품종은 꽃받침 길이(sepal_length)와 꽃잎 너비(petal_width)에 따라 구분되는 특성이 있습니다. 이 문제에서는 두 가지 기준을 동시에 만족하는 표본의 수를 알아봅니다.\n",
    "\n",
    "다음 작업을 수행하세요.\n",
    "\n",
    "* 붓꽃 데이터셋(iris01.csv)을 사용합니다.\n",
    "* 아래의 두 조건을 모두 만족하는 표본의 개수를 구합니다.\n",
    "* 조건1: sepal_length가 해당 품종(species)별 평균보다 큰 데이터\n",
    "* 조건2: petal_width가 0.2 이상인 데이터\n",
    "* 단, species는 'setosa', 'versicolor', 'virginica'의 3가지 종류가 있음 "
   ]
  },
  {
   "cell_type": "code",
   "execution_count": 32,
   "id": "2c866aaa",
   "metadata": {},
   "outputs": [],
   "source": [
    "filename = \"https://raw.githubusercontent.com/Soyoung-Yoon/bigdata/main/iris01.csv\"\n",
    "df = pd.read_csv(filename)\n",
    "# print(df.head())\n",
    "\n",
    "# 조건1: sepal_length가 해당 품종별 평균보다 큰 데이터\n",
    "df1 = df[df['sepal_length'] > df.groupby('species')['sepal_length'].transform('mean')]\n",
    "# print(df1)\n",
    "\n",
    "# 조건2: petal_width가 0.2 이상인 데이터\n",
    "df2 = df1[df1['petal_width'] >= 0.2]\n",
    "# print(df2)\n",
    "# print(df2['species'].unique())\n",
    "\n",
    "# 표본의 수\n",
    "# print(len(df2)) # 67"
   ]
  },
  {
   "cell_type": "markdown",
   "id": "6400b67f",
   "metadata": {},
   "source": [
    "####  3-4) 1980년대 이후 저실린더 차량의 국가별 분포 분석\n",
    "\n",
    "1908년 이후에는 연료 효율성을 고려한 저배기량 차량이 증가하였습니다. 이 문제에서는 해당 연도별 평균보다 적은 실린더(cyclinders)를 가진 차량이 어느 국가(origin)에서 가장 많이 생산되었는지를 파악하고자 합니다.\n",
    "\n",
    "다음 작업을 수행하세요.\n",
    "\n",
    "* mpg.csv파일을 사용합니다.\n",
    "* model_year가 80 이상인 차량만 필터링합니다.\n",
    "* 위 차량 중에서 연도(model_year)별 cylinders 수가 평균 미만인 차량만 필터링합니다.\n",
    "* 위 조건을 만족하는 차량들의 origin 중에서, 가장 빈도가 높은(origin의 최빈값) 국가이름을 결과로 구합니다.\n",
    "* 결과는 문자열로 출력합니다.(대소문자 변경 없이 입력)"
   ]
  },
  {
   "cell_type": "code",
   "execution_count": null,
   "id": "53700017",
   "metadata": {},
   "outputs": [
    {
     "name": "stdout",
     "output_type": "stream",
     "text": [
      "0    japan\n",
      "Name: origin, dtype: object\n"
     ]
    }
   ],
   "source": [
    "filename = \"https://raw.githubusercontent.com/Soyoung-Yoon/bigdata/main/mpg.csv\"\n",
    "df = pd.read_csv(filename)\n",
    "# print(df.head())\n",
    "\n",
    "# model_year가 80 이상인 차량 필터링\n",
    "df2 = df[df['model_year'] >= 80].copy()\n",
    "\n",
    "# 위 차량 중에서 연도별 cyclinders 수가 평균 미만인 차량 필터링\n",
    "cylinder_mean = df2.groupby('model_year')['cylinders'].transform('mean')\n",
    "df3 = df2[df2['cylinders'] < cylinder_mean]\n",
    "# print(df3)\n",
    "\n",
    "# 위 조건을 만족하는 차량들의 origin 중에서, 가장 빈도가 높은(origin의 최빈값) 국가이름을 결과로 구합니다.\n",
    "result = str(df3['origin'].mode())\n",
    "# print(result) # japan"
   ]
  },
  {
   "cell_type": "markdown",
   "id": "be46bb80",
   "metadata": {},
   "source": [
    "#### 3-5) 성별 대비 고요금 승객의 등급별 요금 차이 분석\n",
    "\n",
    "탑승 요금(Fare)은 성별과 좌석 등급(Pclass)에 따라 차이가 날 수 있습니다. 이 문제에서는 성별 평균보다 더 높은 요금을 낸 승객들의 등급별 요금 차이를 분석하고자 합니다.\n",
    "\n",
    "다음 작업을 수행하세요.\n",
    "\n",
    "* titanic.csv을 사용합니다.\n",
    "* Fare가 자신과 동일한 성별(Gender)의 평균 요금보다 높은 승객만 필터링합니다.\n",
    "* 위 조건을 만족하는 승객들을 Pclass(좌석 등급) 기준으로 그룹화하여, 각 등급별 Fare의 평균을 계산합니다.\n",
    "* 이 중 가장 높은 등급별 평균과 가장 낮은 등급별 평균의 차이를 계산하여 결과로 구합니다.\n",
    "* 최종 결과는 반올림하여 소수점 아래 3자리까지 출력합니다."
   ]
  },
  {
   "cell_type": "code",
   "execution_count": 19,
   "id": "ee4bffeb",
   "metadata": {},
   "outputs": [
    {
     "name": "stdout",
     "output_type": "stream",
     "text": [
      "52.015\n"
     ]
    }
   ],
   "source": [
    "filename = \"https://raw.githubusercontent.com/Soyoung-Yoon/bigdata/main/titanic_dataq.csv\"\n",
    "df = pd.read_csv(filename)\n",
    "# print(df.head())\n",
    "\n",
    "# Fare가 자신과 동일한 성별(Gender)의 평균 요금보다 높은 승객만 필터링\n",
    "df['Fare_mean'] = df.groupby('Gender')['Fare'].transform('mean')\n",
    "df2 = df.loc[df['Fare'] > df['Fare_mean']].copy()\n",
    "# print(df2.head())\n",
    "\n",
    "# 위 조건을 만족하는 승객들을 Pclass(좌석 등급) 기준으로 그룹화하여, 각 등급별 Fare의 평균을 계산합니다.\n",
    "df3 = df2.groupby('Pclass')['Fare'].mean().reset_index().sort_values('Fare', ascending=False)\n",
    "# print(df3)\n",
    "\n",
    "# 이 중 가장 높은 등급별 평균과 가장 낮은 등급별 평균의 차이를 계산하여 결과로 구합니다.\n",
    "# 최종 결과는 반올림하여 소수점 아래 3자리까지 출력\n",
    "result = df3['Fare'][0] - df3['Fare'][1]\n",
    "print(round(result, 3)) # 52.015"
   ]
  }
 ],
 "metadata": {
  "kernelspec": {
   "display_name": "study",
   "language": "python",
   "name": "python3"
  },
  "language_info": {
   "codemirror_mode": {
    "name": "ipython",
    "version": 3
   },
   "file_extension": ".py",
   "mimetype": "text/x-python",
   "name": "python",
   "nbconvert_exporter": "python",
   "pygments_lexer": "ipython3",
   "version": "3.10.16"
  }
 },
 "nbformat": 4,
 "nbformat_minor": 5
}
